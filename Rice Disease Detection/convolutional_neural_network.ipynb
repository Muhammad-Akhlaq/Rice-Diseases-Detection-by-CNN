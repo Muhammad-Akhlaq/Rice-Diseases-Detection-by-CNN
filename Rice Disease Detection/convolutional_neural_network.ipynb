{
 "cells": [
  {
   "cell_type": "markdown",
   "metadata": {
    "colab_type": "text",
    "id": "3DR-eO17geWu"
   },
   "source": [
    "# Convolutional Neural Network"
   ]
  },
  {
   "cell_type": "code",
   "execution_count": 1,
   "metadata": {
    "colab": {},
    "colab_type": "code",
    "id": "sCV30xyVhFbE"
   },
   "outputs": [],
   "source": [
    "from tensorflow.keras.preprocessing.image import ImageDataGenerator"
   ]
  },
  {
   "cell_type": "markdown",
   "metadata": {
    "colab_type": "text",
    "id": "MvE-heJNo3GG"
   },
   "source": [
    "## Preprocessing"
   ]
  },
  {
   "cell_type": "code",
   "execution_count": 2,
   "metadata": {
    "colab": {},
    "colab_type": "code",
    "id": "0koUcJMJpEBD"
   },
   "outputs": [
    {
     "name": "stdout",
     "output_type": "stream",
     "text": [
      "Found 90 images belonging to 3 classes.\n"
     ]
    }
   ],
   "source": [
    "train_datagen = ImageDataGenerator(rescale = 1./255,\n",
    "                                   shear_range = 0.2,\n",
    "                                   zoom_range = 0.2,\n",
    "                                   width_shift_range=0.2,\n",
    "                                   height_shift_range=0.2,\n",
    "                                   horizontal_flip = True,\n",
    "                                  vertical_flip=True)\n",
    "training_set = train_datagen.flow_from_directory('datasets/train')"
   ]
  },
  {
   "cell_type": "code",
   "execution_count": 3,
   "metadata": {
    "colab": {},
    "colab_type": "code",
    "id": "SH4WzfOhpKc3"
   },
   "outputs": [
    {
     "name": "stdout",
     "output_type": "stream",
     "text": [
      "Found 33 images belonging to 3 classes.\n"
     ]
    }
   ],
   "source": [
    "\"\"\"\n",
    "test_datagen = ImageDataGenerator(rescale = 1./255,\n",
    "                                   shear_range = 0.2,\n",
    "                                   zoom_range = 0.2,\n",
    "                                  width_shift_range=0.2,\n",
    "                                   height_shift_range=0.2,\n",
    "                                   horizontal_flip = True,\n",
    "                                 vertical_flip=True)\n",
    "\"\"\"\n",
    "test_datagen = ImageDataGenerator(rescale = 1./255)\n",
    "test_set = test_datagen.flow_from_directory('datasets/test')"
   ]
  },
  {
   "cell_type": "code",
   "execution_count": 4,
   "metadata": {},
   "outputs": [],
   "source": [
    "import matplotlib.image as img"
   ]
  },
  {
   "cell_type": "code",
   "execution_count": 5,
   "metadata": {},
   "outputs": [
    {
     "data": {
      "text/plain": [
       "(256, 256, 3)"
      ]
     },
     "execution_count": 5,
     "metadata": {},
     "output_type": "execute_result"
    }
   ],
   "source": [
    "training_set.image_shape"
   ]
  },
  {
   "cell_type": "markdown",
   "metadata": {
    "colab_type": "text",
    "id": "af8O4l90gk7B"
   },
   "source": [
    "## Building the CNN"
   ]
  },
  {
   "cell_type": "code",
   "execution_count": 6,
   "metadata": {},
   "outputs": [],
   "source": [
    "from tensorflow.keras.models import Sequential\n",
    "from tensorflow.keras.layers import Conv2D,MaxPool2D,Flatten,Dense,Dropout,BatchNormalization\n",
    "from tensorflow.keras.callbacks import EarlyStopping\n",
    "from tensorflow.keras.regularizers import L2"
   ]
  },
  {
   "cell_type": "code",
   "execution_count": 7,
   "metadata": {
    "colab": {},
    "colab_type": "code",
    "id": "SAUt4UMPlhLS"
   },
   "outputs": [],
   "source": [
    "cnn = Sequential()"
   ]
  },
  {
   "cell_type": "code",
   "execution_count": 8,
   "metadata": {
    "colab": {},
    "colab_type": "code",
    "id": "XPzPrMckl-hV"
   },
   "outputs": [
    {
     "data": {
      "text/plain": [
       "<tensorflow.python.keras.layers.normalization_v2.BatchNormalization at 0x1d8ad31a310>"
      ]
     },
     "execution_count": 8,
     "metadata": {},
     "output_type": "execute_result"
    }
   ],
   "source": [
    "cnn.add(Conv2D(filters=32, kernel_size=3, activation='relu',input_shape=[256, 256, 3]))\n",
    "BatchNormalization()"
   ]
  },
  {
   "cell_type": "code",
   "execution_count": 9,
   "metadata": {
    "colab": {},
    "colab_type": "code",
    "id": "ncpqPl69mOac"
   },
   "outputs": [],
   "source": [
    "cnn.add(MaxPool2D(pool_size=(2, 2), strides=(2, 2)))"
   ]
  },
  {
   "cell_type": "code",
   "execution_count": 10,
   "metadata": {
    "colab": {},
    "colab_type": "code",
    "id": "i_-FZjn_m8gk"
   },
   "outputs": [],
   "source": [
    "cnn.add(Conv2D(filters=32, kernel_size=3,kernel_regularizer =L2(l=0.01), activation='relu'))\n",
    "BatchNormalization()\n",
    "cnn.add(MaxPool2D(pool_size=(2, 2), strides=(2, 2)))\n",
    "\n",
    "cnn.add(Conv2D(filters=64, kernel_size=3,kernel_regularizer =L2(l=0.01), activation='relu'))\n",
    "BatchNormalization()\n",
    "cnn.add(MaxPool2D(pool_size=(2, 2), strides=(2, 2)))"
   ]
  },
  {
   "cell_type": "code",
   "execution_count": 11,
   "metadata": {
    "colab": {},
    "colab_type": "code",
    "id": "6AZeOGCvnNZn"
   },
   "outputs": [],
   "source": [
    "cnn.add(Flatten())"
   ]
  },
  {
   "cell_type": "code",
   "execution_count": 12,
   "metadata": {
    "colab": {},
    "colab_type": "code",
    "id": "8GtmUlLd26Nq"
   },
   "outputs": [
    {
     "data": {
      "text/plain": [
       "\"\\ncnn.add(Dense(32, activation='relu'))\\ncnn.add(Dense(16, activation='relu'))\\ncnn.add(Dense(8, activation='relu'))\\n\""
      ]
     },
     "execution_count": 12,
     "metadata": {},
     "output_type": "execute_result"
    }
   ],
   "source": [
    "cnn.add(Dense(64,kernel_regularizer =L2(l=0.01), activation='relu'))\n",
    "\"\"\"\n",
    "cnn.add(Dense(32, activation='relu'))\n",
    "cnn.add(Dense(16, activation='relu'))\n",
    "cnn.add(Dense(8, activation='relu'))\n",
    "\"\"\""
   ]
  },
  {
   "cell_type": "code",
   "execution_count": 13,
   "metadata": {
    "colab": {},
    "colab_type": "code",
    "id": "1p_Zj1Mc3Ko_"
   },
   "outputs": [],
   "source": [
    "cnn.add(Dense(3, activation='softmax'))"
   ]
  },
  {
   "cell_type": "code",
   "execution_count": 14,
   "metadata": {
    "colab": {},
    "colab_type": "code",
    "id": "NALksrNQpUlJ"
   },
   "outputs": [],
   "source": [
    "cnn.compile(optimizer = 'adam', loss = 'categorical_crossentropy', metrics = ['accuracy'])"
   ]
  },
  {
   "cell_type": "code",
   "execution_count": 15,
   "metadata": {},
   "outputs": [],
   "source": [
    "early_stop = EarlyStopping(monitor='val_loss',mode='min',verbose=1,patience=25)"
   ]
  },
  {
   "cell_type": "code",
   "execution_count": 16,
   "metadata": {
    "colab": {},
    "colab_type": "code",
    "id": "XUj1W4PJptta",
    "scrolled": true
   },
   "outputs": [
    {
     "name": "stdout",
     "output_type": "stream",
     "text": [
      "Epoch 1/200\n",
      "3/3 [==============================] - 15s 5s/step - loss: 3.0415 - accuracy: 0.3970 - val_loss: 2.5421 - val_accuracy: 0.3333\n",
      "Epoch 2/200\n",
      "3/3 [==============================] - 11s 4s/step - loss: 2.3766 - accuracy: 0.4688 - val_loss: 2.2023 - val_accuracy: 0.3636\n",
      "Epoch 3/200\n",
      "3/3 [==============================] - 10s 3s/step - loss: 2.0021 - accuracy: 0.5972 - val_loss: 1.8861 - val_accuracy: 0.6364\n",
      "Epoch 4/200\n",
      "3/3 [==============================] - 10s 3s/step - loss: 1.8232 - accuracy: 0.5512 - val_loss: 2.2185 - val_accuracy: 0.3636\n",
      "Epoch 5/200\n",
      "3/3 [==============================] - 10s 4s/step - loss: 1.6986 - accuracy: 0.7130 - val_loss: 1.7352 - val_accuracy: 0.5758\n",
      "Epoch 6/200\n",
      "3/3 [==============================] - 10s 3s/step - loss: 1.7197 - accuracy: 0.5673 - val_loss: 2.1599 - val_accuracy: 0.3636\n",
      "Epoch 7/200\n",
      "3/3 [==============================] - 10s 4s/step - loss: 1.5530 - accuracy: 0.7385 - val_loss: 1.6352 - val_accuracy: 0.5455\n",
      "Epoch 8/200\n",
      "3/3 [==============================] - 10s 4s/step - loss: 1.5004 - accuracy: 0.6176 - val_loss: 2.0014 - val_accuracy: 0.3333\n",
      "Epoch 9/200\n",
      "3/3 [==============================] - 11s 3s/step - loss: 1.4550 - accuracy: 0.6676 - val_loss: 1.6171 - val_accuracy: 0.3939\n",
      "Epoch 10/200\n",
      "3/3 [==============================] - 10s 3s/step - loss: 1.3554 - accuracy: 0.6230 - val_loss: 1.7970 - val_accuracy: 0.3333\n",
      "Epoch 11/200\n",
      "3/3 [==============================] - 10s 3s/step - loss: 1.3233 - accuracy: 0.6771 - val_loss: 1.4629 - val_accuracy: 0.5152\n",
      "Epoch 12/200\n",
      "3/3 [==============================] - 11s 4s/step - loss: 1.2784 - accuracy: 0.6465 - val_loss: 1.5011 - val_accuracy: 0.5455\n",
      "Epoch 13/200\n",
      "3/3 [==============================] - 10s 4s/step - loss: 1.2015 - accuracy: 0.6748 - val_loss: 1.4785 - val_accuracy: 0.5455\n",
      "Epoch 14/200\n",
      "3/3 [==============================] - 10s 4s/step - loss: 1.2323 - accuracy: 0.7039 - val_loss: 1.4327 - val_accuracy: 0.5455\n",
      "Epoch 15/200\n",
      "3/3 [==============================] - 10s 4s/step - loss: 1.1424 - accuracy: 0.7777 - val_loss: 1.6011 - val_accuracy: 0.3333\n",
      "Epoch 16/200\n",
      "3/3 [==============================] - 11s 4s/step - loss: 1.2261 - accuracy: 0.6599 - val_loss: 1.3778 - val_accuracy: 0.4545\n",
      "Epoch 17/200\n",
      "3/3 [==============================] - 11s 3s/step - loss: 1.1302 - accuracy: 0.6837 - val_loss: 1.4194 - val_accuracy: 0.5455\n",
      "Epoch 18/200\n",
      "3/3 [==============================] - 10s 3s/step - loss: 1.1477 - accuracy: 0.7042 - val_loss: 1.3349 - val_accuracy: 0.4848\n",
      "Epoch 19/200\n",
      "3/3 [==============================] - 10s 3s/step - loss: 1.1459 - accuracy: 0.7355 - val_loss: 1.2729 - val_accuracy: 0.5455\n",
      "Epoch 20/200\n",
      "3/3 [==============================] - 10s 3s/step - loss: 1.0228 - accuracy: 0.7400 - val_loss: 1.2623 - val_accuracy: 0.5455\n",
      "Epoch 21/200\n",
      "3/3 [==============================] - 10s 3s/step - loss: 1.0013 - accuracy: 0.7879 - val_loss: 1.2836 - val_accuracy: 0.5455\n",
      "Epoch 22/200\n",
      "3/3 [==============================] - 11s 4s/step - loss: 1.0072 - accuracy: 0.7461 - val_loss: 1.3191 - val_accuracy: 0.5455\n",
      "Epoch 23/200\n",
      "3/3 [==============================] - 10s 3s/step - loss: 0.9850 - accuracy: 0.7451 - val_loss: 1.3630 - val_accuracy: 0.6061\n",
      "Epoch 24/200\n",
      "3/3 [==============================] - 10s 3s/step - loss: 1.0129 - accuracy: 0.7153 - val_loss: 1.3407 - val_accuracy: 0.5455\n",
      "Epoch 25/200\n",
      "3/3 [==============================] - 10s 3s/step - loss: 0.8988 - accuracy: 0.7951 - val_loss: 1.2996 - val_accuracy: 0.5758\n",
      "Epoch 26/200\n",
      "3/3 [==============================] - 10s 4s/step - loss: 0.9268 - accuracy: 0.7749 - val_loss: 1.3355 - val_accuracy: 0.5758\n",
      "Epoch 27/200\n",
      "3/3 [==============================] - 10s 3s/step - loss: 0.9190 - accuracy: 0.7723 - val_loss: 1.3802 - val_accuracy: 0.5455\n",
      "Epoch 28/200\n",
      "3/3 [==============================] - 11s 4s/step - loss: 0.9001 - accuracy: 0.7868 - val_loss: 1.5168 - val_accuracy: 0.5758\n",
      "Epoch 29/200\n",
      "3/3 [==============================] - 10s 3s/step - loss: 0.9732 - accuracy: 0.7172 - val_loss: 1.4856 - val_accuracy: 0.6667\n",
      "Epoch 30/200\n",
      "3/3 [==============================] - 10s 4s/step - loss: 0.8987 - accuracy: 0.7360 - val_loss: 1.4076 - val_accuracy: 0.6061\n",
      "Epoch 31/200\n",
      "3/3 [==============================] - 11s 4s/step - loss: 0.9548 - accuracy: 0.7764 - val_loss: 1.5543 - val_accuracy: 0.5455\n",
      "Epoch 32/200\n",
      "3/3 [==============================] - 11s 4s/step - loss: 0.9867 - accuracy: 0.7172 - val_loss: 1.3534 - val_accuracy: 0.6364\n",
      "Epoch 33/200\n",
      "3/3 [==============================] - 11s 4s/step - loss: 0.9249 - accuracy: 0.7417 - val_loss: 1.3587 - val_accuracy: 0.6061\n",
      "Epoch 34/200\n",
      "3/3 [==============================] - 11s 3s/step - loss: 0.8962 - accuracy: 0.7638 - val_loss: 1.4227 - val_accuracy: 0.6364\n",
      "Epoch 35/200\n",
      "3/3 [==============================] - 10s 4s/step - loss: 0.8353 - accuracy: 0.8602 - val_loss: 1.3978 - val_accuracy: 0.6364\n",
      "Epoch 36/200\n",
      "3/3 [==============================] - 10s 3s/step - loss: 0.8753 - accuracy: 0.8287 - val_loss: 1.2808 - val_accuracy: 0.7273\n",
      "Epoch 37/200\n",
      "3/3 [==============================] - 10s 3s/step - loss: 0.8874 - accuracy: 0.8017 - val_loss: 1.2616 - val_accuracy: 0.6061\n",
      "Epoch 38/200\n",
      "3/3 [==============================] - 11s 4s/step - loss: 0.8935 - accuracy: 0.7069 - val_loss: 1.3427 - val_accuracy: 0.5455\n",
      "Epoch 39/200\n",
      "3/3 [==============================] - 10s 3s/step - loss: 0.8096 - accuracy: 0.7645 - val_loss: 1.2691 - val_accuracy: 0.6364\n",
      "Epoch 40/200\n",
      "3/3 [==============================] - 11s 4s/step - loss: 0.8557 - accuracy: 0.8209 - val_loss: 1.2857 - val_accuracy: 0.5758\n",
      "Epoch 41/200\n",
      "3/3 [==============================] - 12s 4s/step - loss: 0.8346 - accuracy: 0.7975 - val_loss: 1.4097 - val_accuracy: 0.5758\n",
      "Epoch 42/200\n",
      "3/3 [==============================] - 11s 3s/step - loss: 0.8950 - accuracy: 0.7537 - val_loss: 1.3611 - val_accuracy: 0.6364\n",
      "Epoch 43/200\n",
      "3/3 [==============================] - 13s 5s/step - loss: 0.8096 - accuracy: 0.8187 - val_loss: 1.3656 - val_accuracy: 0.5455\n",
      "Epoch 44/200\n",
      "3/3 [==============================] - 12s 4s/step - loss: 0.8324 - accuracy: 0.8088 - val_loss: 1.2884 - val_accuracy: 0.5758\n",
      "Epoch 45/200\n",
      "3/3 [==============================] - 10s 3s/step - loss: 0.8519 - accuracy: 0.7752 - val_loss: 1.3062 - val_accuracy: 0.6061\n",
      "Epoch 46/200\n",
      "3/3 [==============================] - 10s 4s/step - loss: 0.7701 - accuracy: 0.8799 - val_loss: 1.3223 - val_accuracy: 0.6061\n",
      "Epoch 47/200\n",
      "3/3 [==============================] - 10s 3s/step - loss: 0.7615 - accuracy: 0.8875 - val_loss: 1.2567 - val_accuracy: 0.5758\n",
      "Epoch 48/200\n",
      "3/3 [==============================] - 10s 3s/step - loss: 0.8071 - accuracy: 0.8277 - val_loss: 1.2536 - val_accuracy: 0.6364\n",
      "Epoch 49/200\n",
      "3/3 [==============================] - 10s 3s/step - loss: 0.7429 - accuracy: 0.8583 - val_loss: 1.3659 - val_accuracy: 0.6061\n",
      "Epoch 50/200\n",
      "3/3 [==============================] - 10s 3s/step - loss: 0.6532 - accuracy: 0.9282 - val_loss: 1.2228 - val_accuracy: 0.6364\n",
      "Epoch 51/200\n",
      "3/3 [==============================] - 11s 4s/step - loss: 0.7140 - accuracy: 0.8642 - val_loss: 1.2930 - val_accuracy: 0.6061\n",
      "Epoch 52/200\n",
      "3/3 [==============================] - 11s 4s/step - loss: 0.7348 - accuracy: 0.8512 - val_loss: 1.3449 - val_accuracy: 0.5758\n",
      "Epoch 53/200\n",
      "3/3 [==============================] - 12s 4s/step - loss: 0.7838 - accuracy: 0.8411 - val_loss: 1.3243 - val_accuracy: 0.6970\n",
      "Epoch 54/200\n",
      "3/3 [==============================] - 11s 4s/step - loss: 0.8391 - accuracy: 0.8445 - val_loss: 1.3592 - val_accuracy: 0.6061\n",
      "Epoch 55/200\n",
      "3/3 [==============================] - 12s 4s/step - loss: 0.7483 - accuracy: 0.8497 - val_loss: 1.2621 - val_accuracy: 0.6667\n",
      "Epoch 56/200\n",
      "3/3 [==============================] - 10s 3s/step - loss: 0.6691 - accuracy: 0.9165 - val_loss: 1.3782 - val_accuracy: 0.6364\n",
      "Epoch 57/200\n",
      "3/3 [==============================] - 10s 3s/step - loss: 0.7675 - accuracy: 0.8686 - val_loss: 1.2126 - val_accuracy: 0.6364\n",
      "Epoch 58/200\n",
      "3/3 [==============================] - 10s 3s/step - loss: 0.6980 - accuracy: 0.8852 - val_loss: 1.3001 - val_accuracy: 0.6970\n",
      "Epoch 59/200\n"
     ]
    },
    {
     "name": "stdout",
     "output_type": "stream",
     "text": [
      "3/3 [==============================] - 11s 4s/step - loss: 0.6859 - accuracy: 0.9158 - val_loss: 1.2681 - val_accuracy: 0.6667\n",
      "Epoch 60/200\n",
      "3/3 [==============================] - 10s 3s/step - loss: 0.6450 - accuracy: 0.9017 - val_loss: 1.2714 - val_accuracy: 0.6667\n",
      "Epoch 61/200\n",
      "3/3 [==============================] - 11s 4s/step - loss: 0.7116 - accuracy: 0.8857 - val_loss: 1.3630 - val_accuracy: 0.6970\n",
      "Epoch 62/200\n",
      "3/3 [==============================] - 10s 4s/step - loss: 0.6738 - accuracy: 0.8968 - val_loss: 1.3233 - val_accuracy: 0.7273\n",
      "Epoch 63/200\n",
      "3/3 [==============================] - 10s 3s/step - loss: 0.6420 - accuracy: 0.9282 - val_loss: 1.4428 - val_accuracy: 0.6970\n",
      "Epoch 64/200\n",
      "3/3 [==============================] - 10s 3s/step - loss: 0.8127 - accuracy: 0.7709 - val_loss: 1.6459 - val_accuracy: 0.6061\n",
      "Epoch 65/200\n",
      "3/3 [==============================] - 10s 3s/step - loss: 0.6866 - accuracy: 0.8797 - val_loss: 1.3477 - val_accuracy: 0.7273\n",
      "Epoch 66/200\n",
      "3/3 [==============================] - 11s 4s/step - loss: 0.6652 - accuracy: 0.8940 - val_loss: 1.3393 - val_accuracy: 0.6364\n",
      "Epoch 67/200\n",
      "3/3 [==============================] - 11s 3s/step - loss: 0.6494 - accuracy: 0.9148 - val_loss: 1.3922 - val_accuracy: 0.7273\n",
      "Epoch 68/200\n",
      "3/3 [==============================] - 10s 3s/step - loss: 0.6170 - accuracy: 0.9509 - val_loss: 1.2298 - val_accuracy: 0.7273\n",
      "Epoch 69/200\n",
      "3/3 [==============================] - 10s 3s/step - loss: 0.6278 - accuracy: 0.9070 - val_loss: 1.2101 - val_accuracy: 0.7576\n",
      "Epoch 70/200\n",
      "3/3 [==============================] - 10s 3s/step - loss: 0.6163 - accuracy: 0.9163 - val_loss: 1.3609 - val_accuracy: 0.6667\n",
      "Epoch 71/200\n",
      "3/3 [==============================] - 11s 4s/step - loss: 0.6279 - accuracy: 0.9095 - val_loss: 1.4466 - val_accuracy: 0.6970\n",
      "Epoch 72/200\n",
      "3/3 [==============================] - 12s 4s/step - loss: 0.6572 - accuracy: 0.8914 - val_loss: 1.3591 - val_accuracy: 0.6061\n",
      "Epoch 73/200\n",
      "3/3 [==============================] - 12s 4s/step - loss: 0.5973 - accuracy: 0.8974 - val_loss: 1.5203 - val_accuracy: 0.6970\n",
      "Epoch 74/200\n",
      "3/3 [==============================] - 11s 4s/step - loss: 0.8021 - accuracy: 0.8161 - val_loss: 1.2934 - val_accuracy: 0.7576\n",
      "Epoch 75/200\n",
      "3/3 [==============================] - 12s 4s/step - loss: 0.9128 - accuracy: 0.7180 - val_loss: 1.3959 - val_accuracy: 0.7576\n",
      "Epoch 76/200\n",
      "3/3 [==============================] - 11s 3s/step - loss: 0.7366 - accuracy: 0.8614 - val_loss: 1.6822 - val_accuracy: 0.4848\n",
      "Epoch 77/200\n",
      "3/3 [==============================] - 11s 4s/step - loss: 0.9419 - accuracy: 0.7408 - val_loss: 1.1955 - val_accuracy: 0.6970\n",
      "Epoch 78/200\n",
      "3/3 [==============================] - 11s 3s/step - loss: 0.7664 - accuracy: 0.8291 - val_loss: 1.2152 - val_accuracy: 0.7273\n",
      "Epoch 79/200\n",
      "3/3 [==============================] - 10s 3s/step - loss: 0.7488 - accuracy: 0.8992 - val_loss: 1.2351 - val_accuracy: 0.6970\n",
      "Epoch 80/200\n",
      "3/3 [==============================] - 10s 3s/step - loss: 0.7302 - accuracy: 0.9093 - val_loss: 1.4264 - val_accuracy: 0.6667\n",
      "Epoch 81/200\n",
      "3/3 [==============================] - 11s 4s/step - loss: 0.7571 - accuracy: 0.8803 - val_loss: 1.2613 - val_accuracy: 0.7576\n",
      "Epoch 82/200\n",
      "3/3 [==============================] - 13s 5s/step - loss: 0.6604 - accuracy: 0.9052 - val_loss: 1.2524 - val_accuracy: 0.6970\n",
      "Epoch 83/200\n",
      "3/3 [==============================] - 11s 4s/step - loss: 0.6716 - accuracy: 0.8950 - val_loss: 1.3327 - val_accuracy: 0.6667\n",
      "Epoch 84/200\n",
      "3/3 [==============================] - 11s 4s/step - loss: 0.6297 - accuracy: 0.8885 - val_loss: 1.4038 - val_accuracy: 0.7273\n",
      "Epoch 85/200\n",
      "3/3 [==============================] - 12s 4s/step - loss: 0.5565 - accuracy: 0.9558 - val_loss: 1.3852 - val_accuracy: 0.6667\n",
      "Epoch 86/200\n",
      "3/3 [==============================] - 12s 4s/step - loss: 0.5487 - accuracy: 0.9434 - val_loss: 1.5173 - val_accuracy: 0.6667\n",
      "Epoch 87/200\n",
      "3/3 [==============================] - 8s 3s/step - loss: 0.5595 - accuracy: 0.9299 - val_loss: 1.6437 - val_accuracy: 0.7273\n",
      "Epoch 88/200\n",
      "3/3 [==============================] - 8s 3s/step - loss: 0.6375 - accuracy: 0.8854 - val_loss: 1.3812 - val_accuracy: 0.6667\n",
      "Epoch 89/200\n",
      "3/3 [==============================] - 9s 3s/step - loss: 0.6212 - accuracy: 0.8686 - val_loss: 1.5539 - val_accuracy: 0.6970\n",
      "Epoch 90/200\n",
      "3/3 [==============================] - 10s 3s/step - loss: 0.6346 - accuracy: 0.8797 - val_loss: 1.4283 - val_accuracy: 0.6970\n",
      "Epoch 91/200\n",
      "3/3 [==============================] - 11s 4s/step - loss: 0.5569 - accuracy: 0.8996 - val_loss: 1.3804 - val_accuracy: 0.7273\n",
      "Epoch 92/200\n",
      "3/3 [==============================] - 10s 4s/step - loss: 0.5785 - accuracy: 0.9135 - val_loss: 1.3229 - val_accuracy: 0.7576\n",
      "Epoch 93/200\n",
      "3/3 [==============================] - 11s 3s/step - loss: 0.5599 - accuracy: 0.9083 - val_loss: 1.4029 - val_accuracy: 0.6970\n",
      "Epoch 94/200\n",
      "3/3 [==============================] - 11s 4s/step - loss: 0.5630 - accuracy: 0.9173 - val_loss: 1.5300 - val_accuracy: 0.7273\n",
      "Epoch 95/200\n",
      "3/3 [==============================] - 11s 4s/step - loss: 0.6048 - accuracy: 0.8614 - val_loss: 1.3083 - val_accuracy: 0.6364\n",
      "Epoch 96/200\n",
      "3/3 [==============================] - 11s 4s/step - loss: 0.5738 - accuracy: 0.9244 - val_loss: 1.3335 - val_accuracy: 0.7273\n",
      "Epoch 97/200\n",
      "3/3 [==============================] - 11s 4s/step - loss: 0.5504 - accuracy: 0.9426 - val_loss: 1.4150 - val_accuracy: 0.7273\n",
      "Epoch 98/200\n",
      "3/3 [==============================] - 11s 4s/step - loss: 0.5708 - accuracy: 0.9006 - val_loss: 1.2587 - val_accuracy: 0.6667\n",
      "Epoch 99/200\n",
      "3/3 [==============================] - 12s 4s/step - loss: 0.5453 - accuracy: 0.9132 - val_loss: 1.2377 - val_accuracy: 0.6970\n",
      "Epoch 100/200\n",
      "3/3 [==============================] - 12s 4s/step - loss: 0.5401 - accuracy: 0.9126 - val_loss: 1.3511 - val_accuracy: 0.7576\n",
      "Epoch 101/200\n",
      "3/3 [==============================] - 12s 4s/step - loss: 0.5882 - accuracy: 0.9073 - val_loss: 1.3224 - val_accuracy: 0.6970\n",
      "Epoch 102/200\n",
      "3/3 [==============================] - 11s 4s/step - loss: 0.5336 - accuracy: 0.9159 - val_loss: 1.1733 - val_accuracy: 0.7879\n",
      "Epoch 103/200\n",
      "3/3 [==============================] - 10s 4s/step - loss: 0.5838 - accuracy: 0.9260 - val_loss: 1.3446 - val_accuracy: 0.7273\n",
      "Epoch 104/200\n",
      "3/3 [==============================] - 11s 4s/step - loss: 0.5089 - accuracy: 0.9613 - val_loss: 1.2230 - val_accuracy: 0.7879\n",
      "Epoch 105/200\n",
      "3/3 [==============================] - 11s 4s/step - loss: 0.5322 - accuracy: 0.9237 - val_loss: 1.2259 - val_accuracy: 0.7879\n",
      "Epoch 106/200\n",
      "3/3 [==============================] - 10s 4s/step - loss: 0.5224 - accuracy: 0.9289 - val_loss: 1.3196 - val_accuracy: 0.6970\n",
      "Epoch 107/200\n",
      "3/3 [==============================] - 10s 4s/step - loss: 0.5751 - accuracy: 0.8953 - val_loss: 1.2933 - val_accuracy: 0.7576\n",
      "Epoch 108/200\n",
      "3/3 [==============================] - 10s 4s/step - loss: 0.5482 - accuracy: 0.9150 - val_loss: 1.5543 - val_accuracy: 0.6970\n",
      "Epoch 109/200\n",
      "3/3 [==============================] - 10s 3s/step - loss: 0.4914 - accuracy: 0.9354 - val_loss: 1.2514 - val_accuracy: 0.7879\n",
      "Epoch 110/200\n",
      "3/3 [==============================] - 10s 4s/step - loss: 0.5413 - accuracy: 0.9011 - val_loss: 1.4359 - val_accuracy: 0.7273\n",
      "Epoch 111/200\n",
      "3/3 [==============================] - 10s 4s/step - loss: 0.5632 - accuracy: 0.9261 - val_loss: 1.5486 - val_accuracy: 0.6667\n",
      "Epoch 112/200\n",
      "3/3 [==============================] - 10s 4s/step - loss: 0.6179 - accuracy: 0.8796 - val_loss: 1.5701 - val_accuracy: 0.7273\n",
      "Epoch 113/200\n",
      "3/3 [==============================] - 11s 4s/step - loss: 0.6627 - accuracy: 0.8462 - val_loss: 1.3212 - val_accuracy: 0.6667\n",
      "Epoch 114/200\n",
      "3/3 [==============================] - 10s 3s/step - loss: 0.5705 - accuracy: 0.9187 - val_loss: 1.4417 - val_accuracy: 0.6667\n",
      "Epoch 115/200\n",
      "3/3 [==============================] - 10s 3s/step - loss: 0.7218 - accuracy: 0.8141 - val_loss: 1.4958 - val_accuracy: 0.7273\n",
      "Epoch 116/200\n",
      "3/3 [==============================] - 10s 4s/step - loss: 0.6267 - accuracy: 0.8480 - val_loss: 1.4284 - val_accuracy: 0.6970\n",
      "Epoch 117/200\n"
     ]
    },
    {
     "name": "stdout",
     "output_type": "stream",
     "text": [
      "3/3 [==============================] - 10s 3s/step - loss: 0.5748 - accuracy: 0.9054 - val_loss: 1.3009 - val_accuracy: 0.6364\n",
      "Epoch 118/200\n",
      "3/3 [==============================] - 11s 4s/step - loss: 0.6382 - accuracy: 0.8808 - val_loss: 1.3743 - val_accuracy: 0.6970\n",
      "Epoch 119/200\n",
      "3/3 [==============================] - 11s 4s/step - loss: 0.6198 - accuracy: 0.8859 - val_loss: 1.4737 - val_accuracy: 0.6667\n",
      "Epoch 120/200\n",
      "3/3 [==============================] - 10s 4s/step - loss: 0.6521 - accuracy: 0.8619 - val_loss: 1.2391 - val_accuracy: 0.6970\n",
      "Epoch 121/200\n",
      "3/3 [==============================] - 10s 3s/step - loss: 0.5119 - accuracy: 0.9504 - val_loss: 1.4611 - val_accuracy: 0.6364\n",
      "Epoch 122/200\n",
      "3/3 [==============================] - 10s 4s/step - loss: 0.5357 - accuracy: 0.9396 - val_loss: 1.3957 - val_accuracy: 0.7576\n",
      "Epoch 123/200\n",
      "3/3 [==============================] - 10s 3s/step - loss: 0.5148 - accuracy: 0.9543 - val_loss: 1.3753 - val_accuracy: 0.7576\n",
      "Epoch 124/200\n",
      "3/3 [==============================] - 10s 3s/step - loss: 0.4754 - accuracy: 0.9260 - val_loss: 1.4821 - val_accuracy: 0.7273\n",
      "Epoch 125/200\n",
      "3/3 [==============================] - 11s 4s/step - loss: 0.4928 - accuracy: 0.9107 - val_loss: 1.5289 - val_accuracy: 0.7273\n",
      "Epoch 126/200\n",
      "3/3 [==============================] - 10s 3s/step - loss: 0.5141 - accuracy: 0.9332 - val_loss: 1.4305 - val_accuracy: 0.6667\n",
      "Epoch 127/200\n",
      "3/3 [==============================] - 10s 3s/step - loss: 0.5481 - accuracy: 0.9054 - val_loss: 1.9740 - val_accuracy: 0.6667\n",
      "Epoch 00127: early stopping\n"
     ]
    },
    {
     "data": {
      "text/plain": [
       "<tensorflow.python.keras.callbacks.History at 0x1d8aec58b80>"
      ]
     },
     "execution_count": 16,
     "metadata": {},
     "output_type": "execute_result"
    }
   ],
   "source": [
    "cnn.fit(x = training_set, validation_data = test_set, epochs = 200,callbacks=[early_stop])"
   ]
  },
  {
   "cell_type": "code",
   "execution_count": 17,
   "metadata": {},
   "outputs": [],
   "source": [
    "import pandas as pd\n",
    "import matplotlib.pyplot as plt\n",
    "modal_loss = pd.DataFrame(cnn.history.history)"
   ]
  },
  {
   "cell_type": "code",
   "execution_count": 18,
   "metadata": {},
   "outputs": [
    {
     "data": {
      "text/plain": [
       "<matplotlib.axes._subplots.AxesSubplot at 0x1d8af06d190>"
      ]
     },
     "execution_count": 18,
     "metadata": {},
     "output_type": "execute_result"
    },
    {
     "data": {
      "image/png": "[encoded data removed]",
      "text/plain": [
       "<Figure size 432x288 with 1 Axes>"
      ]
     },
     "metadata": {
      "needs_background": "light"
     },
     "output_type": "display_data"
    }
   ],
   "source": [
    "modal_loss[['accuracy','val_accuracy']].plot()"
   ]
  },
  {
   "cell_type": "code",
   "execution_count": 19,
   "metadata": {},
   "outputs": [
    {
     "data": {
      "text/plain": [
       "<matplotlib.axes._subplots.AxesSubplot at 0x1d8af1724f0>"
      ]
     },
     "execution_count": 19,
     "metadata": {},
     "output_type": "execute_result"
    },
    {
     "data": {
      "image/png": "[encoded data removed]",
      "text/plain": [
       "<Figure size 432x288 with 1 Axes>"
      ]
     },
     "metadata": {
      "needs_background": "light"
     },
     "output_type": "display_data"
    }
   ],
   "source": [
    "modal_loss[['loss','val_loss']].plot()"
   ]
  },
  {
   "cell_type": "code",
   "execution_count": 20,
   "metadata": {},
   "outputs": [
    {
     "name": "stderr",
     "output_type": "stream",
     "text": [
      "C:\\Users\\hp\\anaconda3\\lib\\site-packages\\tensorflow\\python\\keras\\engine\\sequential.py:450: UserWarning: `model.predict_classes()` is deprecated and will be removed after 2021-01-01. Please use instead:* `np.argmax(model.predict(x), axis=-1)`,   if your model does multi-class classification   (e.g. if it uses a `softmax` last-layer activation).* `(model.predict(x) > 0.5).astype(\"int32\")`,   if your model does binary classification   (e.g. if it uses a `sigmoid` last-layer activation).\n",
      "  warnings.warn('`model.predict_classes()` is deprecated and '\n"
     ]
    }
   ],
   "source": [
    "pred = cnn.predict_classes(test_set)"
   ]
  },
  {
   "cell_type": "code",
   "execution_count": 21,
   "metadata": {},
   "outputs": [
    {
     "name": "stdout",
     "output_type": "stream",
     "text": [
      "              precision    recall  f1-score   support\n",
      "\n",
      "           0       0.31      0.40      0.35        10\n",
      "           1       0.50      0.10      0.17        10\n",
      "           2       0.33      0.46      0.39        13\n",
      "\n",
      "    accuracy                           0.33        33\n",
      "   macro avg       0.38      0.32      0.30        33\n",
      "weighted avg       0.38      0.33      0.31        33\n",
      "\n",
      "[[4 0 6]\n",
      " [3 1 6]\n",
      " [6 1 6]]\n"
     ]
    }
   ],
   "source": [
    "from sklearn.metrics import classification_report,confusion_matrix\n",
    "print(classification_report(test_set.classes,pred))\n",
    "print(confusion_matrix(test_set.classes,pred))"
   ]
  },
  {
   "cell_type": "markdown",
   "metadata": {},
   "source": [
    "## Adding Dropout to decrease overfitting"
   ]
  },
  {
   "cell_type": "code",
   "execution_count": 22,
   "metadata": {},
   "outputs": [],
   "source": [
    "cnn = Sequential()\n",
    "cnn.add(Conv2D(filters=32, kernel_size=3, activation='relu',input_shape=[256, 256, 3]))\n",
    "BatchNormalization()\n",
    "cnn.add(MaxPool2D(pool_size=(2, 2), strides=(2, 2)))\n",
    "cnn.add(Conv2D(filters=32, kernel_size=3,kernel_regularizer =L2(l=0.01), activation='relu'))\n",
    "BatchNormalization()\n",
    "cnn.add(MaxPool2D(pool_size=(2, 2), strides=(2, 2)))\n",
    "cnn.add(Conv2D(filters=64, kernel_size=3,kernel_regularizer =L2(l=0.01), activation='relu'))\n",
    "BatchNormalization()\n",
    "cnn.add(MaxPool2D(pool_size=(2, 2), strides=(2, 2)))\n",
    "\n",
    "cnn.add(Flatten())\n",
    "\n",
    "cnn.add(Dense(64,kernel_regularizer =L2(l=0.01), activation='relu'))\n",
    "cnn.add(Dropout(0.2))\n",
    "\"\"\"\n",
    "cnn.add(Dense(32, activation='relu'))\n",
    "cnn.add(Dropout(0.2))\n",
    "cnn.add(Dense(16, activation='relu'))\n",
    "cnn.add(Dropout(0.2))\n",
    "cnn.add(Dense(8, activation='relu'))\n",
    "\"\"\"\n",
    "cnn.add(Dense(3, activation='softmax'))"
   ]
  },
  {
   "cell_type": "code",
   "execution_count": 23,
   "metadata": {},
   "outputs": [],
   "source": [
    "cnn.compile(optimizer = 'adam', loss = 'categorical_crossentropy', metrics = ['accuracy'])"
   ]
  },
  {
   "cell_type": "code",
   "execution_count": 24,
   "metadata": {},
   "outputs": [
    {
     "name": "stdout",
     "output_type": "stream",
     "text": [
      "Epoch 1/200\n",
      "3/3 [==============================] - 15s 5s/step - loss: 3.8611 - accuracy: 0.3664 - val_loss: 2.6108 - val_accuracy: 0.3333\n",
      "Epoch 2/200\n",
      "3/3 [==============================] - 11s 4s/step - loss: 2.4239 - accuracy: 0.3610 - val_loss: 2.1995 - val_accuracy: 0.3333\n",
      "Epoch 3/200\n",
      "3/3 [==============================] - 10s 3s/step - loss: 2.1539 - accuracy: 0.3941 - val_loss: 2.0730 - val_accuracy: 0.4242\n",
      "Epoch 4/200\n",
      "3/3 [==============================] - 10s 3s/step - loss: 2.0188 - accuracy: 0.5101 - val_loss: 2.0192 - val_accuracy: 0.3333\n",
      "Epoch 5/200\n",
      "3/3 [==============================] - 10s 4s/step - loss: 1.9117 - accuracy: 0.4868 - val_loss: 1.9544 - val_accuracy: 0.5152\n",
      "Epoch 6/200\n",
      "3/3 [==============================] - 10s 3s/step - loss: 1.8426 - accuracy: 0.5294 - val_loss: 1.8721 - val_accuracy: 0.5758\n",
      "Epoch 7/200\n",
      "3/3 [==============================] - 12s 4s/step - loss: 1.7676 - accuracy: 0.4469 - val_loss: 1.8388 - val_accuracy: 0.4242\n",
      "Epoch 8/200\n",
      "3/3 [==============================] - 10s 3s/step - loss: 1.6010 - accuracy: 0.6269 - val_loss: 1.7088 - val_accuracy: 0.6061\n",
      "Epoch 9/200\n",
      "3/3 [==============================] - 10s 3s/step - loss: 1.5663 - accuracy: 0.5995 - val_loss: 1.7665 - val_accuracy: 0.4545\n",
      "Epoch 10/200\n",
      "3/3 [==============================] - 10s 3s/step - loss: 1.5593 - accuracy: 0.6365 - val_loss: 1.5874 - val_accuracy: 0.5758\n",
      "Epoch 11/200\n",
      "3/3 [==============================] - 11s 4s/step - loss: 1.4009 - accuracy: 0.6810 - val_loss: 1.5691 - val_accuracy: 0.5455\n",
      "Epoch 12/200\n",
      "3/3 [==============================] - 11s 3s/step - loss: 1.5002 - accuracy: 0.5629 - val_loss: 1.7617 - val_accuracy: 0.4242\n",
      "Epoch 13/200\n",
      "3/3 [==============================] - 10s 4s/step - loss: 1.5134 - accuracy: 0.5926 - val_loss: 1.7207 - val_accuracy: 0.3333\n",
      "Epoch 14/200\n",
      "3/3 [==============================] - 10s 4s/step - loss: 1.5137 - accuracy: 0.5523 - val_loss: 1.5131 - val_accuracy: 0.4848\n",
      "Epoch 15/200\n",
      "3/3 [==============================] - 11s 4s/step - loss: 1.3518 - accuracy: 0.5938 - val_loss: 1.5531 - val_accuracy: 0.4242\n",
      "Epoch 16/200\n",
      "3/3 [==============================] - 12s 4s/step - loss: 1.2630 - accuracy: 0.6104 - val_loss: 1.4553 - val_accuracy: 0.5152\n",
      "Epoch 17/200\n",
      "3/3 [==============================] - 10s 3s/step - loss: 1.2482 - accuracy: 0.6678 - val_loss: 1.4079 - val_accuracy: 0.5758\n",
      "Epoch 18/200\n",
      "3/3 [==============================] - 8s 2s/step - loss: 1.2213 - accuracy: 0.6748 - val_loss: 1.4761 - val_accuracy: 0.5152\n",
      "Epoch 19/200\n",
      "3/3 [==============================] - 8s 2s/step - loss: 1.1743 - accuracy: 0.7723 - val_loss: 1.3657 - val_accuracy: 0.6364\n",
      "Epoch 20/200\n",
      "3/3 [==============================] - 7s 2s/step - loss: 1.1720 - accuracy: 0.7158 - val_loss: 1.3897 - val_accuracy: 0.5758\n",
      "Epoch 21/200\n",
      "3/3 [==============================] - 7s 2s/step - loss: 1.1800 - accuracy: 0.6487 - val_loss: 1.5507 - val_accuracy: 0.3939\n",
      "Epoch 22/200\n",
      "3/3 [==============================] - 7s 2s/step - loss: 1.2405 - accuracy: 0.6840 - val_loss: 1.2931 - val_accuracy: 0.5455\n",
      "Epoch 23/200\n",
      "3/3 [==============================] - 7s 2s/step - loss: 1.1587 - accuracy: 0.6765 - val_loss: 1.4410 - val_accuracy: 0.4848\n",
      "Epoch 24/200\n",
      "3/3 [==============================] - 7s 2s/step - loss: 1.2002 - accuracy: 0.6513 - val_loss: 1.3812 - val_accuracy: 0.5455\n",
      "Epoch 25/200\n",
      "3/3 [==============================] - 7s 3s/step - loss: 1.0951 - accuracy: 0.6776 - val_loss: 1.3522 - val_accuracy: 0.5455\n",
      "Epoch 26/200\n",
      "3/3 [==============================] - 7s 2s/step - loss: 1.0838 - accuracy: 0.6478 - val_loss: 1.3665 - val_accuracy: 0.5455\n",
      "Epoch 27/200\n",
      "3/3 [==============================] - 7s 2s/step - loss: 1.0821 - accuracy: 0.6931 - val_loss: 1.5400 - val_accuracy: 0.4545\n",
      "Epoch 28/200\n",
      "3/3 [==============================] - 8s 3s/step - loss: 1.0866 - accuracy: 0.7165 - val_loss: 1.3188 - val_accuracy: 0.5152\n",
      "Epoch 29/200\n",
      "3/3 [==============================] - 7s 3s/step - loss: 0.9551 - accuracy: 0.7416 - val_loss: 1.2170 - val_accuracy: 0.6061\n",
      "Epoch 30/200\n",
      "3/3 [==============================] - 7s 2s/step - loss: 1.0066 - accuracy: 0.6859 - val_loss: 1.3109 - val_accuracy: 0.5758\n",
      "Epoch 31/200\n",
      "3/3 [==============================] - 7s 3s/step - loss: 1.0273 - accuracy: 0.7082 - val_loss: 1.2704 - val_accuracy: 0.6061\n",
      "Epoch 32/200\n",
      "3/3 [==============================] - 7s 2s/step - loss: 1.0407 - accuracy: 0.7042 - val_loss: 1.1484 - val_accuracy: 0.6061\n",
      "Epoch 33/200\n",
      "3/3 [==============================] - 7s 3s/step - loss: 1.0469 - accuracy: 0.7205 - val_loss: 1.2007 - val_accuracy: 0.6061\n",
      "Epoch 34/200\n",
      "3/3 [==============================] - 7s 2s/step - loss: 0.9269 - accuracy: 0.7561 - val_loss: 1.1769 - val_accuracy: 0.6364\n",
      "Epoch 35/200\n",
      "3/3 [==============================] - 7s 3s/step - loss: 0.9176 - accuracy: 0.7512 - val_loss: 1.1081 - val_accuracy: 0.6364\n",
      "Epoch 36/200\n",
      "3/3 [==============================] - 7s 2s/step - loss: 1.0947 - accuracy: 0.7054 - val_loss: 1.1816 - val_accuracy: 0.6364\n",
      "Epoch 37/200\n",
      "3/3 [==============================] - 7s 2s/step - loss: 1.0062 - accuracy: 0.6489 - val_loss: 1.0969 - val_accuracy: 0.6364\n",
      "Epoch 38/200\n",
      "3/3 [==============================] - 7s 2s/step - loss: 0.9158 - accuracy: 0.7589 - val_loss: 1.0685 - val_accuracy: 0.6970\n",
      "Epoch 39/200\n",
      "3/3 [==============================] - 8s 3s/step - loss: 0.8972 - accuracy: 0.7762 - val_loss: 1.1515 - val_accuracy: 0.6364\n",
      "Epoch 40/200\n",
      "3/3 [==============================] - 8s 3s/step - loss: 1.0007 - accuracy: 0.6698 - val_loss: 1.1031 - val_accuracy: 0.6667\n",
      "Epoch 41/200\n",
      "3/3 [==============================] - 8s 3s/step - loss: 0.9958 - accuracy: 0.7241 - val_loss: 1.1414 - val_accuracy: 0.6061\n",
      "Epoch 42/200\n",
      "3/3 [==============================] - 7s 2s/step - loss: 0.9459 - accuracy: 0.7175 - val_loss: 1.2915 - val_accuracy: 0.5455\n",
      "Epoch 43/200\n",
      "3/3 [==============================] - 8s 3s/step - loss: 0.9855 - accuracy: 0.7261 - val_loss: 1.1704 - val_accuracy: 0.6061\n",
      "Epoch 44/200\n",
      "3/3 [==============================] - 7s 2s/step - loss: 0.9186 - accuracy: 0.7685 - val_loss: 1.0637 - val_accuracy: 0.7273\n",
      "Epoch 45/200\n",
      "3/3 [==============================] - 7s 2s/step - loss: 0.9179 - accuracy: 0.7429 - val_loss: 1.0696 - val_accuracy: 0.6364\n",
      "Epoch 46/200\n",
      "3/3 [==============================] - 7s 2s/step - loss: 0.9211 - accuracy: 0.6834 - val_loss: 1.0925 - val_accuracy: 0.6667\n",
      "Epoch 47/200\n",
      "3/3 [==============================] - 7s 2s/step - loss: 0.8678 - accuracy: 0.7572 - val_loss: 1.0389 - val_accuracy: 0.6061\n",
      "Epoch 48/200\n",
      "3/3 [==============================] - 7s 3s/step - loss: 0.8964 - accuracy: 0.7446 - val_loss: 1.0423 - val_accuracy: 0.6364\n",
      "Epoch 49/200\n",
      "3/3 [==============================] - 7s 2s/step - loss: 0.8433 - accuracy: 0.7857 - val_loss: 1.0225 - val_accuracy: 0.6061\n",
      "Epoch 50/200\n",
      "3/3 [==============================] - 7s 3s/step - loss: 0.9522 - accuracy: 0.6660 - val_loss: 1.0065 - val_accuracy: 0.6364\n",
      "Epoch 51/200\n",
      "3/3 [==============================] - 7s 2s/step - loss: 0.8389 - accuracy: 0.7704 - val_loss: 0.9914 - val_accuracy: 0.6667\n",
      "Epoch 52/200\n",
      "3/3 [==============================] - 7s 3s/step - loss: 0.8335 - accuracy: 0.7288 - val_loss: 0.9757 - val_accuracy: 0.6667\n",
      "Epoch 53/200\n",
      "3/3 [==============================] - 7s 2s/step - loss: 0.8146 - accuracy: 0.7416 - val_loss: 0.9808 - val_accuracy: 0.6667\n",
      "Epoch 54/200\n",
      "3/3 [==============================] - 7s 2s/step - loss: 0.8750 - accuracy: 0.7612 - val_loss: 1.0114 - val_accuracy: 0.6061\n",
      "Epoch 55/200\n",
      "3/3 [==============================] - 7s 2s/step - loss: 0.8068 - accuracy: 0.7451 - val_loss: 1.0847 - val_accuracy: 0.5455\n",
      "Epoch 56/200\n",
      "3/3 [==============================] - 7s 2s/step - loss: 0.8835 - accuracy: 0.7267 - val_loss: 1.0459 - val_accuracy: 0.5758\n",
      "Epoch 57/200\n",
      "3/3 [==============================] - 7s 2s/step - loss: 0.9473 - accuracy: 0.6933 - val_loss: 1.0249 - val_accuracy: 0.6061\n",
      "Epoch 58/200\n",
      "3/3 [==============================] - 7s 2s/step - loss: 0.8405 - accuracy: 0.7526 - val_loss: 1.0848 - val_accuracy: 0.5455\n",
      "Epoch 59/200\n",
      "3/3 [==============================] - 8s 3s/step - loss: 0.8918 - accuracy: 0.7570 - val_loss: 1.1304 - val_accuracy: 0.6364\n"
     ]
    },
    {
     "name": "stdout",
     "output_type": "stream",
     "text": [
      "Epoch 60/200\n",
      "3/3 [==============================] - 8s 2s/step - loss: 0.8905 - accuracy: 0.6609 - val_loss: 1.0582 - val_accuracy: 0.6061\n",
      "Epoch 61/200\n",
      "3/3 [==============================] - 7s 2s/step - loss: 0.8710 - accuracy: 0.7120 - val_loss: 1.0450 - val_accuracy: 0.5455\n",
      "Epoch 62/200\n",
      "3/3 [==============================] - 7s 3s/step - loss: 0.8301 - accuracy: 0.7279 - val_loss: 1.0446 - val_accuracy: 0.5758\n",
      "Epoch 63/200\n",
      "3/3 [==============================] - 8s 3s/step - loss: 0.8546 - accuracy: 0.7891 - val_loss: 1.0407 - val_accuracy: 0.6061\n",
      "Epoch 64/200\n",
      "3/3 [==============================] - 7s 2s/step - loss: 0.8277 - accuracy: 0.7486 - val_loss: 1.0412 - val_accuracy: 0.5758\n",
      "Epoch 65/200\n",
      "3/3 [==============================] - 7s 2s/step - loss: 0.8110 - accuracy: 0.7360 - val_loss: 1.0835 - val_accuracy: 0.5152\n",
      "Epoch 66/200\n",
      "3/3 [==============================] - 8s 2s/step - loss: 0.8306 - accuracy: 0.7433 - val_loss: 1.0744 - val_accuracy: 0.5455\n",
      "Epoch 67/200\n",
      "3/3 [==============================] - 7s 2s/step - loss: 0.8510 - accuracy: 0.7597 - val_loss: 1.0137 - val_accuracy: 0.6667\n",
      "Epoch 68/200\n",
      "3/3 [==============================] - 7s 3s/step - loss: 0.8526 - accuracy: 0.6998 - val_loss: 1.0167 - val_accuracy: 0.5758\n",
      "Epoch 69/200\n",
      "3/3 [==============================] - 7s 2s/step - loss: 0.8630 - accuracy: 0.7577 - val_loss: 1.0635 - val_accuracy: 0.5758\n",
      "Epoch 70/200\n",
      "3/3 [==============================] - 7s 3s/step - loss: 0.8303 - accuracy: 0.7812 - val_loss: 1.0352 - val_accuracy: 0.5455\n",
      "Epoch 71/200\n",
      "3/3 [==============================] - 8s 2s/step - loss: 0.8438 - accuracy: 0.7173 - val_loss: 0.9935 - val_accuracy: 0.5758\n",
      "Epoch 72/200\n",
      "3/3 [==============================] - 8s 3s/step - loss: 0.7820 - accuracy: 0.7408 - val_loss: 0.9799 - val_accuracy: 0.6667\n",
      "Epoch 73/200\n",
      "3/3 [==============================] - 7s 2s/step - loss: 0.8345 - accuracy: 0.7196 - val_loss: 1.0813 - val_accuracy: 0.5152\n",
      "Epoch 74/200\n",
      "3/3 [==============================] - 7s 2s/step - loss: 0.8202 - accuracy: 0.7542 - val_loss: 1.0253 - val_accuracy: 0.5455\n",
      "Epoch 75/200\n",
      "3/3 [==============================] - 7s 2s/step - loss: 0.8442 - accuracy: 0.7166 - val_loss: 1.1138 - val_accuracy: 0.5455\n",
      "Epoch 76/200\n",
      "3/3 [==============================] - 7s 2s/step - loss: 0.8177 - accuracy: 0.7450 - val_loss: 1.0267 - val_accuracy: 0.5758\n",
      "Epoch 77/200\n",
      "3/3 [==============================] - 7s 3s/step - loss: 0.7926 - accuracy: 0.7049 - val_loss: 1.0090 - val_accuracy: 0.5758\n",
      "Epoch 00077: early stopping\n"
     ]
    },
    {
     "data": {
      "text/plain": [
       "<tensorflow.python.keras.callbacks.History at 0x1d8ad386880>"
      ]
     },
     "execution_count": 24,
     "metadata": {},
     "output_type": "execute_result"
    }
   ],
   "source": [
    "cnn.fit(x = training_set, validation_data = test_set, epochs = 200,callbacks=[early_stop])"
   ]
  },
  {
   "cell_type": "code",
   "execution_count": 25,
   "metadata": {},
   "outputs": [
    {
     "data": {
      "text/plain": [
       "<matplotlib.axes._subplots.AxesSubplot at 0x1d8b32b4640>"
      ]
     },
     "execution_count": 25,
     "metadata": {},
     "output_type": "execute_result"
    },
    {
     "data": {
      "image/png": "[encoded data removed]",
      "text/plain": [
       "<Figure size 432x288 with 1 Axes>"
      ]
     },
     "metadata": {
      "needs_background": "light"
     },
     "output_type": "display_data"
    }
   ],
   "source": [
    "modal_loss = pd.DataFrame(cnn.history.history)\n",
    "modal_loss[['accuracy','val_accuracy']].plot()"
   ]
  },
  {
   "cell_type": "code",
   "execution_count": 26,
   "metadata": {},
   "outputs": [
    {
     "data": {
      "text/plain": [
       "<matplotlib.axes._subplots.AxesSubplot at 0x1d8b3308ee0>"
      ]
     },
     "execution_count": 26,
     "metadata": {},
     "output_type": "execute_result"
    },
    {
     "data": {
      "image/png": "[encoded data removed]",
      "text/plain": [
       "<Figure size 432x288 with 1 Axes>"
      ]
     },
     "metadata": {
      "needs_background": "light"
     },
     "output_type": "display_data"
    }
   ],
   "source": [
    "modal_loss[['loss','val_loss']].plot()"
   ]
  },
  {
   "cell_type": "markdown",
   "metadata": {
    "colab_type": "text",
    "id": "U3PZasO0006Z"
   },
   "source": [
    "## Making a single prediction"
   ]
  },
  {
   "cell_type": "code",
   "execution_count": 27,
   "metadata": {
    "colab": {},
    "colab_type": "code",
    "id": "gsSiWEJY1BPB"
   },
   "outputs": [
    {
     "name": "stderr",
     "output_type": "stream",
     "text": [
      "C:\\Users\\hp\\anaconda3\\lib\\site-packages\\tensorflow\\python\\keras\\engine\\sequential.py:450: UserWarning: `model.predict_classes()` is deprecated and will be removed after 2021-01-01. Please use instead:* `np.argmax(model.predict(x), axis=-1)`,   if your model does multi-class classification   (e.g. if it uses a `softmax` last-layer activation).* `(model.predict(x) > 0.5).astype(\"int32\")`,   if your model does binary classification   (e.g. if it uses a `sigmoid` last-layer activation).\n",
      "  warnings.warn('`model.predict_classes()` is deprecated and '\n"
     ]
    },
    {
     "data": {
      "text/plain": [
       "{'Bacterial leaf blight': 0, 'Brown spot': 1, 'Leaf smut': 2}"
      ]
     },
     "execution_count": 27,
     "metadata": {},
     "output_type": "execute_result"
    }
   ],
   "source": [
    "import numpy as np\n",
    "from tensorflow.keras.preprocessing import image\n",
    "test_image = image.load_img('datasets/rice_brown_leaf.jpg', target_size = (256, 256))\n",
    "test_image = image.img_to_array(test_image)\n",
    "test_image = np.expand_dims(test_image, axis = 0)\n",
    "result = cnn.predict_classes(test_image)\n",
    "training_set.class_indices"
   ]
  },
  {
   "cell_type": "code",
   "execution_count": 28,
   "metadata": {},
   "outputs": [
    {
     "data": {
      "text/plain": [
       "array([1], dtype=int64)"
      ]
     },
     "execution_count": 28,
     "metadata": {},
     "output_type": "execute_result"
    }
   ],
   "source": [
    "result"
   ]
  },
  {
   "cell_type": "code",
   "execution_count": 29,
   "metadata": {
    "colab": {},
    "colab_type": "code",
    "id": "ED9KB3I54c1i"
   },
   "outputs": [
    {
     "name": "stdout",
     "output_type": "stream",
     "text": [
      "Brown spot\n"
     ]
    }
   ],
   "source": [
    "if result[0] == 0:\n",
    "    prediction = 'Bacterial leaf blight'\n",
    "elif result[0] == 1:\n",
    "    prediction = 'Brown spot'\n",
    "else:\n",
    "    prediction = 'Leaf smut'\n",
    "print(prediction)"
   ]
  },
  {
   "cell_type": "code",
   "execution_count": 30,
   "metadata": {},
   "outputs": [],
   "source": [
    "test_image = image.load_img('datasets/rice_Leaf_smut.jpg', target_size = (256, 256))\n",
    "test_image = image.img_to_array(test_image)\n",
    "test_image = np.expand_dims(test_image, axis = 0)\n",
    "result = cnn.predict_classes(test_image)"
   ]
  },
  {
   "cell_type": "code",
   "execution_count": 31,
   "metadata": {},
   "outputs": [
    {
     "data": {
      "text/plain": [
       "array([2], dtype=int64)"
      ]
     },
     "execution_count": 31,
     "metadata": {},
     "output_type": "execute_result"
    }
   ],
   "source": [
    "result"
   ]
  },
  {
   "cell_type": "code",
   "execution_count": 32,
   "metadata": {},
   "outputs": [
    {
     "name": "stdout",
     "output_type": "stream",
     "text": [
      "Leaf smut\n"
     ]
    }
   ],
   "source": [
    "if result[0] == 0:\n",
    "    prediction = 'Bacterial leaf blight'\n",
    "elif result[0] == 1:\n",
    "    prediction = 'Brown spot'\n",
    "else:\n",
    "    prediction = 'Leaf smut'\n",
    "print(prediction)"
   ]
  },
  {
   "cell_type": "code",
   "execution_count": 33,
   "metadata": {},
   "outputs": [
    {
     "data": {
      "text/plain": [
       "array([1], dtype=int64)"
      ]
     },
     "execution_count": 33,
     "metadata": {},
     "output_type": "execute_result"
    }
   ],
   "source": [
    "test_image = image.load_img('datasets/rice_Leaf_smut1.jpg', target_size = (256, 256))\n",
    "test_image = image.img_to_array(test_image)\n",
    "test_image = np.expand_dims(test_image, axis = 0)\n",
    "result = cnn.predict_classes(test_image)\n",
    "result"
   ]
  },
  {
   "cell_type": "code",
   "execution_count": 34,
   "metadata": {},
   "outputs": [
    {
     "name": "stdout",
     "output_type": "stream",
     "text": [
      "Brown spot\n"
     ]
    }
   ],
   "source": [
    "if result[0] == 0:\n",
    "    prediction = 'Bacterial leaf blight'\n",
    "elif result[0] == 1:\n",
    "    prediction = 'Brown spot'\n",
    "else:\n",
    "    prediction = 'Leaf smut'\n",
    "print(prediction)"
   ]
  },
  {
   "cell_type": "code",
   "execution_count": 35,
   "metadata": {},
   "outputs": [
    {
     "data": {
      "text/plain": [
       "array([1], dtype=int64)"
      ]
     },
     "execution_count": 35,
     "metadata": {},
     "output_type": "execute_result"
    }
   ],
   "source": [
    "test_image = image.load_img('datasets/rice_Bacterial-leaf-blight.jpg', target_size = (256, 256))\n",
    "test_image = image.img_to_array(test_image)\n",
    "test_image = np.expand_dims(test_image, axis = 0)\n",
    "result = cnn.predict_classes(test_image)\n",
    "result"
   ]
  },
  {
   "cell_type": "code",
   "execution_count": 36,
   "metadata": {},
   "outputs": [
    {
     "name": "stdout",
     "output_type": "stream",
     "text": [
      "Brown spot\n"
     ]
    }
   ],
   "source": [
    "if result[0] == 0:\n",
    "    prediction = 'Bacterial leaf blight'\n",
    "elif result[0] == 1:\n",
    "    prediction = 'Brown spot'\n",
    "else:\n",
    "    prediction = 'Leaf smut'\n",
    "print(prediction)"
   ]
  },
  {
   "cell_type": "code",
   "execution_count": 37,
   "metadata": {},
   "outputs": [],
   "source": [
    "pred = cnn.predict_classes(test_set)"
   ]
  },
  {
   "cell_type": "code",
   "execution_count": 38,
   "metadata": {},
   "outputs": [
    {
     "data": {
      "text/plain": [
       "{'Bacterial leaf blight': 0, 'Brown spot': 1, 'Leaf smut': 2}"
      ]
     },
     "execution_count": 38,
     "metadata": {},
     "output_type": "execute_result"
    }
   ],
   "source": [
    "test_set.class_indices"
   ]
  },
  {
   "cell_type": "markdown",
   "metadata": {},
   "source": [
    "### predicted classes"
   ]
  },
  {
   "cell_type": "code",
   "execution_count": 39,
   "metadata": {},
   "outputs": [
    {
     "data": {
      "text/plain": [
       "array([2, 2, 2, 2, 2, 2, 2, 1, 0, 1, 0, 1, 2, 1, 0, 2, 2, 2, 0, 0, 0, 2,\n",
       "       2, 0, 0, 0, 0, 1, 2, 2, 2, 0, 0], dtype=int64)"
      ]
     },
     "execution_count": 39,
     "metadata": {},
     "output_type": "execute_result"
    }
   ],
   "source": [
    "pred"
   ]
  },
  {
   "cell_type": "markdown",
   "metadata": {},
   "source": [
    "### correct classes"
   ]
  },
  {
   "cell_type": "code",
   "execution_count": 40,
   "metadata": {},
   "outputs": [
    {
     "data": {
      "text/plain": [
       "array([0, 0, 0, 0, 0, 0, 0, 0, 0, 0, 1, 1, 1, 1, 1, 1, 1, 1, 1, 1, 2, 2,\n",
       "       2, 2, 2, 2, 2, 2, 2, 2, 2, 2, 2])"
      ]
     },
     "execution_count": 40,
     "metadata": {},
     "output_type": "execute_result"
    }
   ],
   "source": [
    "test_set.classes"
   ]
  },
  {
   "cell_type": "code",
   "execution_count": 41,
   "metadata": {},
   "outputs": [
    {
     "name": "stdout",
     "output_type": "stream",
     "text": [
      "              precision    recall  f1-score   support\n",
      "\n",
      "           0       0.08      0.10      0.09        10\n",
      "           1       0.40      0.20      0.27        10\n",
      "           2       0.31      0.38      0.34        13\n",
      "\n",
      "    accuracy                           0.24        33\n",
      "   macro avg       0.27      0.23      0.23        33\n",
      "weighted avg       0.27      0.24      0.24        33\n",
      "\n",
      "[[1 2 7]\n",
      " [4 2 4]\n",
      " [7 1 5]]\n"
     ]
    }
   ],
   "source": [
    "from sklearn.metrics import classification_report,confusion_matrix\n",
    "print(classification_report(test_set.classes,pred))\n",
    "print(confusion_matrix(test_set.classes,pred))"
   ]
  },
  {
   "cell_type": "code",
   "execution_count": 42,
   "metadata": {},
   "outputs": [
    {
     "data": {
      "text/plain": [
       "<tensorflow.python.keras.preprocessing.image.ImageDataGenerator at 0x1d8acc3baf0>"
      ]
     },
     "execution_count": 42,
     "metadata": {},
     "output_type": "execute_result"
    }
   ],
   "source": [
    "train_datagen"
   ]
  },
  {
   "cell_type": "code",
   "execution_count": 43,
   "metadata": {},
   "outputs": [
    {
     "data": {
      "text/plain": [
       "<tensorflow.python.keras.preprocessing.image.DirectoryIterator at 0x1d8acc3b910>"
      ]
     },
     "execution_count": 43,
     "metadata": {},
     "output_type": "execute_result"
    }
   ],
   "source": [
    "training_set"
   ]
  },
  {
   "cell_type": "code",
   "execution_count": 44,
   "metadata": {},
   "outputs": [
    {
     "name": "stdout",
     "output_type": "stream",
     "text": [
      "Batch shape=(32, 256, 256, 3), min=0.000, max=1.000\n"
     ]
    }
   ],
   "source": [
    "# confirm the iterator works\n",
    "batchX, batchy = training_set.next()\n",
    "print('Batch shape=%s, min=%.3f, max=%.3f' % (batchX.shape, batchX.min(), batchX.max()))"
   ]
  },
  {
   "cell_type": "code",
   "execution_count": 45,
   "metadata": {},
   "outputs": [
    {
     "name": "stdout",
     "output_type": "stream",
     "text": [
      "Model: \"sequential_1\"\n",
      "_________________________________________________________________\n",
      "Layer (type)                 Output Shape              Param #   \n",
      "=================================================================\n",
      "conv2d_3 (Conv2D)            (None, 254, 254, 32)      896       \n",
      "_________________________________________________________________\n",
      "max_pooling2d_3 (MaxPooling2 (None, 127, 127, 32)      0         \n",
      "_________________________________________________________________\n",
      "conv2d_4 (Conv2D)            (None, 125, 125, 32)      9248      \n",
      "_________________________________________________________________\n",
      "max_pooling2d_4 (MaxPooling2 (None, 62, 62, 32)        0         \n",
      "_________________________________________________________________\n",
      "conv2d_5 (Conv2D)            (None, 60, 60, 64)        18496     \n",
      "_________________________________________________________________\n",
      "max_pooling2d_5 (MaxPooling2 (None, 30, 30, 64)        0         \n",
      "_________________________________________________________________\n",
      "flatten_1 (Flatten)          (None, 57600)             0         \n",
      "_________________________________________________________________\n",
      "dense_2 (Dense)              (None, 64)                3686464   \n",
      "_________________________________________________________________\n",
      "dropout (Dropout)            (None, 64)                0         \n",
      "_________________________________________________________________\n",
      "dense_3 (Dense)              (None, 3)                 195       \n",
      "=================================================================\n",
      "Total params: 3,715,299\n",
      "Trainable params: 3,715,299\n",
      "Non-trainable params: 0\n",
      "_________________________________________________________________\n"
     ]
    }
   ],
   "source": [
    "cnn.summary()"
   ]
  },
  {
   "cell_type": "code",
   "execution_count": 46,
   "metadata": {},
   "outputs": [],
   "source": [
    "cnn.save('model.h5')"
   ]
  },
  {
   "cell_type": "code",
   "execution_count": null,
   "metadata": {},
   "outputs": [],
   "source": []
  },
  {
   "cell_type": "code",
   "execution_count": null,
   "metadata": {},
   "outputs": [],
   "source": []
  }
 ],
 "metadata": {
  "colab": {
   "collapsed_sections": [],
   "name": "convolutional_neural_network.ipynb",
   "provenance": [],
   "toc_visible": true
  },
  "kernelspec": {
   "display_name": "Python 3",
   "language": "python",
   "name": "python3"
  },
  "language_info": {
   "codemirror_mode": {
    "name": "ipython",
    "version": 3
   },
   "file_extension": ".py",
   "mimetype": "text/x-python",
   "name": "python",
   "nbconvert_exporter": "python",
   "pygments_lexer": "ipython3",
   "version": "3.8.3"
  }
 },
 "nbformat": 4,
 "nbformat_minor": 1
}
