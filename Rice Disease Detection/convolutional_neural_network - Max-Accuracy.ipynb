{
 "cells": [
  {
   "cell_type": "markdown",
   "metadata": {
    "colab_type": "text",
    "id": "3DR-eO17geWu"
   },
   "source": [
    "# Convolutional Neural Network"
   ]
  },
  {
   "cell_type": "code",
   "execution_count": 1,
   "metadata": {
    "colab": {},
    "colab_type": "code",
    "id": "sCV30xyVhFbE"
   },
   "outputs": [],
   "source": [
    "from tensorflow.keras.preprocessing.image import ImageDataGenerator"
   ]
  },
  {
   "cell_type": "markdown",
   "metadata": {
    "colab_type": "text",
    "id": "MvE-heJNo3GG"
   },
   "source": [
    "## Preprocessing"
   ]
  },
  {
   "cell_type": "code",
   "execution_count": 2,
   "metadata": {
    "colab": {},
    "colab_type": "code",
    "id": "0koUcJMJpEBD"
   },
   "outputs": [
    {
     "name": "stdout",
     "output_type": "stream",
     "text": [
      "Found 90 images belonging to 3 classes.\n"
     ]
    }
   ],
   "source": [
    "train_datagen = ImageDataGenerator(rescale = 1./255,\n",
    "                                   shear_range = 0.2,\n",
    "                                   zoom_range = 0.2,\n",
    "                                   width_shift_range=[-200,200],\n",
    "                                   height_shift_range=0.5,\n",
    "                                   rotation_range=90,\n",
    "                                   horizontal_flip = True,\n",
    "                                  vertical_flip=True)\n",
    "training_set = train_datagen.flow_from_directory('datasets/train')"
   ]
  },
  {
   "cell_type": "code",
   "execution_count": 3,
   "metadata": {
    "colab": {},
    "colab_type": "code",
    "id": "SH4WzfOhpKc3"
   },
   "outputs": [
    {
     "name": "stdout",
     "output_type": "stream",
     "text": [
      "Found 33 images belonging to 3 classes.\n"
     ]
    }
   ],
   "source": [
    "\"\"\"\n",
    "test_datagen = ImageDataGenerator(rescale = 1./255,\n",
    "                                   shear_range = 0.2,\n",
    "                                   zoom_range = 0.2,\n",
    "                                  width_shift_range=0.2,\n",
    "                                   height_shift_range=0.2,\n",
    "                                   horizontal_flip = True,\n",
    "                                 vertical_flip=True)\n",
    "\"\"\"\n",
    "test_datagen = ImageDataGenerator(rescale = 1./255)\n",
    "test_set = test_datagen.flow_from_directory('datasets/test')"
   ]
  },
  {
   "cell_type": "code",
   "execution_count": 4,
   "metadata": {},
   "outputs": [],
   "source": [
    "import matplotlib.image as img"
   ]
  },
  {
   "cell_type": "code",
   "execution_count": 5,
   "metadata": {},
   "outputs": [
    {
     "data": {
      "text/plain": [
       "(256, 256, 3)"
      ]
     },
     "execution_count": 5,
     "metadata": {},
     "output_type": "execute_result"
    }
   ],
   "source": [
    "training_set.image_shape"
   ]
  },
  {
   "cell_type": "markdown",
   "metadata": {
    "colab_type": "text",
    "id": "af8O4l90gk7B"
   },
   "source": [
    "## Building the CNN"
   ]
  },
  {
   "cell_type": "code",
   "execution_count": 6,
   "metadata": {},
   "outputs": [],
   "source": [
    "from tensorflow.keras.models import Sequential\n",
    "from tensorflow.keras.layers import Conv2D,MaxPool2D,Flatten,Dense,Dropout,BatchNormalization\n",
    "from tensorflow.keras.callbacks import EarlyStopping\n",
    "from tensorflow.keras.regularizers import L2"
   ]
  },
  {
   "cell_type": "code",
   "execution_count": 7,
   "metadata": {
    "colab": {},
    "colab_type": "code",
    "id": "SAUt4UMPlhLS"
   },
   "outputs": [],
   "source": [
    "cnn = Sequential()"
   ]
  },
  {
   "cell_type": "code",
   "execution_count": 8,
   "metadata": {
    "colab": {},
    "colab_type": "code",
    "id": "XPzPrMckl-hV"
   },
   "outputs": [
    {
     "data": {
      "text/plain": [
       "<tensorflow.python.keras.layers.normalization_v2.BatchNormalization at 0x28c56c55550>"
      ]
     },
     "execution_count": 8,
     "metadata": {},
     "output_type": "execute_result"
    }
   ],
   "source": [
    "cnn.add(Conv2D(filters=32, kernel_size=3, activation='relu',input_shape=[256, 256, 3]))\n",
    "BatchNormalization()"
   ]
  },
  {
   "cell_type": "code",
   "execution_count": 9,
   "metadata": {
    "colab": {},
    "colab_type": "code",
    "id": "ncpqPl69mOac"
   },
   "outputs": [],
   "source": [
    "cnn.add(MaxPool2D(pool_size=(2, 2), strides=(2, 2)))"
   ]
  },
  {
   "cell_type": "code",
   "execution_count": 10,
   "metadata": {
    "colab": {},
    "colab_type": "code",
    "id": "i_-FZjn_m8gk"
   },
   "outputs": [],
   "source": [
    "cnn.add(Conv2D(filters=32, kernel_size=3,kernel_regularizer =L2(l=0.01), activation='relu'))\n",
    "BatchNormalization()\n",
    "cnn.add(MaxPool2D(pool_size=(2, 2), strides=(2, 2)))\n",
    "\n",
    "cnn.add(Conv2D(filters=64, kernel_size=3,kernel_regularizer =L2(l=0.01), activation='relu'))\n",
    "BatchNormalization()\n",
    "cnn.add(MaxPool2D(pool_size=(2, 2), strides=(2, 2)))"
   ]
  },
  {
   "cell_type": "code",
   "execution_count": 11,
   "metadata": {
    "colab": {},
    "colab_type": "code",
    "id": "6AZeOGCvnNZn"
   },
   "outputs": [],
   "source": [
    "cnn.add(Flatten())"
   ]
  },
  {
   "cell_type": "code",
   "execution_count": 12,
   "metadata": {
    "colab": {},
    "colab_type": "code",
    "id": "8GtmUlLd26Nq"
   },
   "outputs": [
    {
     "data": {
      "text/plain": [
       "\"\\ncnn.add(Dense(32, activation='relu'))\\ncnn.add(Dense(16, activation='relu'))\\ncnn.add(Dense(8, activation='relu'))\\n\""
      ]
     },
     "execution_count": 12,
     "metadata": {},
     "output_type": "execute_result"
    }
   ],
   "source": [
    "cnn.add(Dense(64,kernel_regularizer =L2(l=0.01), activation='relu'))\n",
    "\"\"\"\n",
    "cnn.add(Dense(32, activation='relu'))\n",
    "cnn.add(Dense(16, activation='relu'))\n",
    "cnn.add(Dense(8, activation='relu'))\n",
    "\"\"\""
   ]
  },
  {
   "cell_type": "code",
   "execution_count": 13,
   "metadata": {
    "colab": {},
    "colab_type": "code",
    "id": "1p_Zj1Mc3Ko_"
   },
   "outputs": [],
   "source": [
    "cnn.add(Dense(3, activation='softmax'))"
   ]
  },
  {
   "cell_type": "code",
   "execution_count": 14,
   "metadata": {
    "colab": {},
    "colab_type": "code",
    "id": "NALksrNQpUlJ"
   },
   "outputs": [],
   "source": [
    "cnn.compile(optimizer = 'adam', loss = 'categorical_crossentropy', metrics = ['accuracy'])"
   ]
  },
  {
   "cell_type": "code",
   "execution_count": 15,
   "metadata": {},
   "outputs": [],
   "source": [
    "early_stop = EarlyStopping(monitor='val_accuracy',mode='max',verbose=1,patience=25)"
   ]
  },
  {
   "cell_type": "code",
   "execution_count": 16,
   "metadata": {
    "colab": {},
    "colab_type": "code",
    "id": "XUj1W4PJptta",
    "scrolled": true
   },
   "outputs": [
    {
     "name": "stdout",
     "output_type": "stream",
     "text": [
      "Epoch 1/200\n",
      "3/3 [==============================] - 12s 4s/step - loss: 3.8192 - accuracy: 0.3113 - val_loss: 2.8886 - val_accuracy: 0.3030\n",
      "Epoch 2/200\n",
      "3/3 [==============================] - 7s 2s/step - loss: 2.9132 - accuracy: 0.3090 - val_loss: 2.3827 - val_accuracy: 0.3030\n",
      "Epoch 3/200\n",
      "3/3 [==============================] - 7s 2s/step - loss: 2.3466 - accuracy: 0.3076 - val_loss: 2.1714 - val_accuracy: 0.3030\n",
      "Epoch 4/200\n",
      "3/3 [==============================] - 7s 2s/step - loss: 2.1476 - accuracy: 0.4889 - val_loss: 2.1140 - val_accuracy: 0.4545\n",
      "Epoch 5/200\n",
      "3/3 [==============================] - 7s 2s/step - loss: 2.0897 - accuracy: 0.4710 - val_loss: 2.0331 - val_accuracy: 0.3939\n",
      "Epoch 6/200\n",
      "3/3 [==============================] - 7s 2s/step - loss: 2.0817 - accuracy: 0.4008 - val_loss: 1.9925 - val_accuracy: 0.4545\n",
      "Epoch 7/200\n",
      "3/3 [==============================] - 7s 2s/step - loss: 1.9762 - accuracy: 0.4465 - val_loss: 1.9302 - val_accuracy: 0.6061\n",
      "Epoch 8/200\n",
      "3/3 [==============================] - 7s 2s/step - loss: 1.8380 - accuracy: 0.6181 - val_loss: 1.8468 - val_accuracy: 0.4545\n",
      "Epoch 9/200\n",
      "3/3 [==============================] - 7s 2s/step - loss: 1.7803 - accuracy: 0.5584 - val_loss: 1.8407 - val_accuracy: 0.3636\n",
      "Epoch 10/200\n",
      "3/3 [==============================] - 7s 2s/step - loss: 1.8214 - accuracy: 0.4060 - val_loss: 1.7665 - val_accuracy: 0.3939\n",
      "Epoch 11/200\n",
      "3/3 [==============================] - 7s 2s/step - loss: 1.7233 - accuracy: 0.5588 - val_loss: 1.7032 - val_accuracy: 0.6364\n",
      "Epoch 12/200\n",
      "3/3 [==============================] - 7s 2s/step - loss: 1.6935 - accuracy: 0.4833 - val_loss: 1.6893 - val_accuracy: 0.5455\n",
      "Epoch 13/200\n",
      "3/3 [==============================] - 7s 3s/step - loss: 1.6051 - accuracy: 0.5519 - val_loss: 1.7124 - val_accuracy: 0.3333\n",
      "Epoch 14/200\n",
      "3/3 [==============================] - 7s 2s/step - loss: 1.5135 - accuracy: 0.6531 - val_loss: 1.6310 - val_accuracy: 0.5758\n",
      "Epoch 15/200\n",
      "3/3 [==============================] - 7s 2s/step - loss: 1.4660 - accuracy: 0.6225 - val_loss: 1.5741 - val_accuracy: 0.4848\n",
      "Epoch 16/200\n",
      "3/3 [==============================] - 7s 2s/step - loss: 1.4989 - accuracy: 0.5284 - val_loss: 1.6310 - val_accuracy: 0.3939\n",
      "Epoch 17/200\n",
      "3/3 [==============================] - 7s 2s/step - loss: 1.3784 - accuracy: 0.6845 - val_loss: 1.7255 - val_accuracy: 0.3939\n",
      "Epoch 18/200\n",
      "3/3 [==============================] - 7s 2s/step - loss: 1.4640 - accuracy: 0.5434 - val_loss: 1.4601 - val_accuracy: 0.5758\n",
      "Epoch 19/200\n",
      "3/3 [==============================] - 7s 2s/step - loss: 1.3979 - accuracy: 0.6016 - val_loss: 1.4466 - val_accuracy: 0.6061\n",
      "Epoch 20/200\n",
      "3/3 [==============================] - 7s 2s/step - loss: 1.3412 - accuracy: 0.6816 - val_loss: 1.5463 - val_accuracy: 0.3939\n",
      "Epoch 21/200\n",
      "3/3 [==============================] - 7s 2s/step - loss: 1.3778 - accuracy: 0.5685 - val_loss: 1.4851 - val_accuracy: 0.4545\n",
      "Epoch 22/200\n",
      "3/3 [==============================] - 7s 2s/step - loss: 1.3027 - accuracy: 0.6220 - val_loss: 1.4478 - val_accuracy: 0.4848\n",
      "Epoch 23/200\n",
      "3/3 [==============================] - 7s 2s/step - loss: 1.2824 - accuracy: 0.6280 - val_loss: 1.6684 - val_accuracy: 0.3333\n",
      "Epoch 24/200\n",
      "3/3 [==============================] - 7s 2s/step - loss: 1.4194 - accuracy: 0.5634 - val_loss: 1.4015 - val_accuracy: 0.5152\n",
      "Epoch 25/200\n",
      "3/3 [==============================] - 7s 2s/step - loss: 1.3904 - accuracy: 0.5746 - val_loss: 1.4724 - val_accuracy: 0.3939\n",
      "Epoch 26/200\n",
      "3/3 [==============================] - 7s 2s/step - loss: 1.2441 - accuracy: 0.6641 - val_loss: 1.4689 - val_accuracy: 0.3636\n",
      "Epoch 27/200\n",
      "3/3 [==============================] - 7s 2s/step - loss: 1.2640 - accuracy: 0.6125 - val_loss: 1.4382 - val_accuracy: 0.5152\n",
      "Epoch 28/200\n",
      "3/3 [==============================] - 7s 2s/step - loss: 1.2231 - accuracy: 0.6409 - val_loss: 1.4971 - val_accuracy: 0.3939\n",
      "Epoch 29/200\n",
      "3/3 [==============================] - 7s 2s/step - loss: 1.1936 - accuracy: 0.6756 - val_loss: 1.4633 - val_accuracy: 0.3636\n",
      "Epoch 30/200\n",
      "3/3 [==============================] - 7s 2s/step - loss: 1.2119 - accuracy: 0.6143 - val_loss: 1.4884 - val_accuracy: 0.3333\n",
      "Epoch 31/200\n",
      "3/3 [==============================] - 7s 2s/step - loss: 1.1758 - accuracy: 0.6281 - val_loss: 1.6512 - val_accuracy: 0.3030\n",
      "Epoch 32/200\n",
      "3/3 [==============================] - 7s 2s/step - loss: 1.2169 - accuracy: 0.6163 - val_loss: 1.4739 - val_accuracy: 0.3939\n",
      "Epoch 33/200\n",
      "3/3 [==============================] - 7s 2s/step - loss: 1.2146 - accuracy: 0.6376 - val_loss: 1.3340 - val_accuracy: 0.4545\n",
      "Epoch 34/200\n",
      "3/3 [==============================] - 7s 2s/step - loss: 1.1899 - accuracy: 0.5808 - val_loss: 1.5685 - val_accuracy: 0.3636\n",
      "Epoch 35/200\n",
      "3/3 [==============================] - 7s 2s/step - loss: 1.2108 - accuracy: 0.6088 - val_loss: 1.5403 - val_accuracy: 0.3636\n",
      "Epoch 36/200\n",
      "3/3 [==============================] - 7s 2s/step - loss: 1.1818 - accuracy: 0.6565 - val_loss: 1.3634 - val_accuracy: 0.5152\n",
      "Epoch 00036: early stopping\n"
     ]
    },
    {
     "data": {
      "text/plain": [
       "<tensorflow.python.keras.callbacks.History at 0x28c585aca00>"
      ]
     },
     "execution_count": 16,
     "metadata": {},
     "output_type": "execute_result"
    }
   ],
   "source": [
    "cnn.fit(x = training_set, validation_data = test_set, epochs = 200,callbacks=[early_stop])"
   ]
  },
  {
   "cell_type": "code",
   "execution_count": 17,
   "metadata": {},
   "outputs": [],
   "source": [
    "import pandas as pd\n",
    "import matplotlib.pyplot as plt\n",
    "modal_loss = pd.DataFrame(cnn.history.history)"
   ]
  },
  {
   "cell_type": "code",
   "execution_count": 18,
   "metadata": {},
   "outputs": [
    {
     "data": {
      "text/plain": [
       "<matplotlib.axes._subplots.AxesSubplot at 0x28c007ca040>"
      ]
     },
     "execution_count": 18,
     "metadata": {},
     "output_type": "execute_result"
    },
    {
     "data": {
      "image/png": "[encoded data removed]",
      "text/plain": [
       "<Figure size 432x288 with 1 Axes>"
      ]
     },
     "metadata": {
      "needs_background": "light"
     },
     "output_type": "display_data"
    }
   ],
   "source": [
    "modal_loss[['accuracy','val_accuracy']].plot()"
   ]
  },
  {
   "cell_type": "code",
   "execution_count": 19,
   "metadata": {},
   "outputs": [
    {
     "data": {
      "text/plain": [
       "<matplotlib.axes._subplots.AxesSubplot at 0x28c008adcd0>"
      ]
     },
     "execution_count": 19,
     "metadata": {},
     "output_type": "execute_result"
    },
    {
     "data": {
      "image/png": "[encoded data removed]",
      "text/plain": [
       "<Figure size 432x288 with 1 Axes>"
      ]
     },
     "metadata": {
      "needs_background": "light"
     },
     "output_type": "display_data"
    }
   ],
   "source": [
    "modal_loss[['loss','val_loss']].plot()"
   ]
  },
  {
   "cell_type": "code",
   "execution_count": 20,
   "metadata": {},
   "outputs": [
    {
     "name": "stderr",
     "output_type": "stream",
     "text": [
      "C:\\Users\\hp\\anaconda3\\lib\\site-packages\\tensorflow\\python\\keras\\engine\\sequential.py:450: UserWarning: `model.predict_classes()` is deprecated and will be removed after 2021-01-01. Please use instead:* `np.argmax(model.predict(x), axis=-1)`,   if your model does multi-class classification   (e.g. if it uses a `softmax` last-layer activation).* `(model.predict(x) > 0.5).astype(\"int32\")`,   if your model does binary classification   (e.g. if it uses a `sigmoid` last-layer activation).\n",
      "  warnings.warn('`model.predict_classes()` is deprecated and '\n"
     ]
    }
   ],
   "source": [
    "pred = cnn.predict_classes(test_set)"
   ]
  },
  {
   "cell_type": "code",
   "execution_count": 21,
   "metadata": {},
   "outputs": [
    {
     "name": "stdout",
     "output_type": "stream",
     "text": [
      "              precision    recall  f1-score   support\n",
      "\n",
      "           0       0.25      0.40      0.31        10\n",
      "           1       0.20      0.10      0.13        10\n",
      "           2       0.25      0.23      0.24        13\n",
      "\n",
      "    accuracy                           0.24        33\n",
      "   macro avg       0.23      0.24      0.23        33\n",
      "weighted avg       0.23      0.24      0.23        33\n",
      "\n",
      "[[4 2 4]\n",
      " [4 1 5]\n",
      " [8 2 3]]\n"
     ]
    }
   ],
   "source": [
    "from sklearn.metrics import classification_report,confusion_matrix\n",
    "print(classification_report(test_set.classes,pred))\n",
    "print(confusion_matrix(test_set.classes,pred))"
   ]
  },
  {
   "cell_type": "markdown",
   "metadata": {},
   "source": [
    "## Adding Dropout to decrease overfitting"
   ]
  },
  {
   "cell_type": "code",
   "execution_count": 22,
   "metadata": {},
   "outputs": [],
   "source": [
    "cnn = Sequential()\n",
    "cnn.add(Conv2D(filters=32, kernel_size=3, activation='relu',input_shape=[256, 256, 3]))\n",
    "BatchNormalization()\n",
    "cnn.add(MaxPool2D(pool_size=(2, 2), strides=(2, 2)))\n",
    "cnn.add(Conv2D(filters=32, kernel_size=3,kernel_regularizer =L2(l=0.01), activation='relu'))\n",
    "BatchNormalization()\n",
    "cnn.add(MaxPool2D(pool_size=(2, 2), strides=(2, 2)))\n",
    "cnn.add(Conv2D(filters=64, kernel_size=3,kernel_regularizer =L2(l=0.01), activation='relu'))\n",
    "BatchNormalization()\n",
    "cnn.add(MaxPool2D(pool_size=(2, 2), strides=(2, 2)))\n",
    "\n",
    "cnn.add(Flatten())\n",
    "\n",
    "cnn.add(Dense(64,kernel_regularizer =L2(l=0.01), activation='relu'))\n",
    "cnn.add(Dropout(0.2))\n",
    "\"\"\"\n",
    "cnn.add(Dense(32, activation='relu'))\n",
    "cnn.add(Dropout(0.2))\n",
    "cnn.add(Dense(16, activation='relu'))\n",
    "cnn.add(Dropout(0.2))\n",
    "cnn.add(Dense(8, activation='relu'))\n",
    "\"\"\"\n",
    "cnn.add(Dense(3, activation='softmax'))"
   ]
  },
  {
   "cell_type": "code",
   "execution_count": 23,
   "metadata": {},
   "outputs": [],
   "source": [
    "cnn.compile(optimizer = 'adam', loss = 'categorical_crossentropy', metrics = ['accuracy'])"
   ]
  },
  {
   "cell_type": "code",
   "execution_count": 24,
   "metadata": {},
   "outputs": [
    {
     "name": "stdout",
     "output_type": "stream",
     "text": [
      "Epoch 1/200\n",
      "3/3 [==============================] - 9s 3s/step - loss: 5.7291 - accuracy: 0.3931 - val_loss: 3.4732 - val_accuracy: 0.3939\n",
      "Epoch 2/200\n",
      "3/3 [==============================] - 7s 2s/step - loss: 3.1277 - accuracy: 0.3715 - val_loss: 2.3909 - val_accuracy: 0.3333\n",
      "Epoch 3/200\n",
      "3/3 [==============================] - 7s 2s/step - loss: 2.3688 - accuracy: 0.3914 - val_loss: 2.2683 - val_accuracy: 0.3939\n",
      "Epoch 4/200\n",
      "3/3 [==============================] - 7s 2s/step - loss: 2.3018 - accuracy: 0.3386 - val_loss: 2.2247 - val_accuracy: 0.3939\n",
      "Epoch 5/200\n",
      "3/3 [==============================] - 7s 2s/step - loss: 2.2246 - accuracy: 0.3941 - val_loss: 2.1773 - val_accuracy: 0.4242\n",
      "Epoch 6/200\n",
      "3/3 [==============================] - 7s 3s/step - loss: 2.1499 - accuracy: 0.4960 - val_loss: 2.0996 - val_accuracy: 0.4848\n",
      "Epoch 7/200\n",
      "3/3 [==============================] - 7s 2s/step - loss: 2.1028 - accuracy: 0.3875 - val_loss: 2.1346 - val_accuracy: 0.3030\n",
      "Epoch 8/200\n",
      "3/3 [==============================] - 7s 2s/step - loss: 2.0323 - accuracy: 0.4169 - val_loss: 1.9698 - val_accuracy: 0.3939\n",
      "Epoch 9/200\n",
      "3/3 [==============================] - 7s 2s/step - loss: 2.0150 - accuracy: 0.3857 - val_loss: 1.9409 - val_accuracy: 0.4545\n",
      "Epoch 10/200\n",
      "3/3 [==============================] - 7s 2s/step - loss: 1.8980 - accuracy: 0.5043 - val_loss: 1.8561 - val_accuracy: 0.5152\n",
      "Epoch 11/200\n",
      "3/3 [==============================] - 7s 2s/step - loss: 1.8638 - accuracy: 0.4410 - val_loss: 1.8176 - val_accuracy: 0.4545\n",
      "Epoch 12/200\n",
      "3/3 [==============================] - 7s 2s/step - loss: 1.8032 - accuracy: 0.5084 - val_loss: 1.7951 - val_accuracy: 0.4242\n",
      "Epoch 13/200\n",
      "3/3 [==============================] - 7s 2s/step - loss: 1.7920 - accuracy: 0.5273 - val_loss: 1.8994 - val_accuracy: 0.3030\n",
      "Epoch 14/200\n",
      "3/3 [==============================] - 7s 2s/step - loss: 1.7412 - accuracy: 0.4399 - val_loss: 1.7868 - val_accuracy: 0.4242\n",
      "Epoch 15/200\n",
      "3/3 [==============================] - 7s 2s/step - loss: 1.7813 - accuracy: 0.3230 - val_loss: 1.7226 - val_accuracy: 0.3939\n",
      "Epoch 16/200\n",
      "3/3 [==============================] - 7s 2s/step - loss: 1.7002 - accuracy: 0.3960 - val_loss: 1.6730 - val_accuracy: 0.4545\n",
      "Epoch 17/200\n",
      "3/3 [==============================] - 6s 2s/step - loss: 1.6419 - accuracy: 0.5377 - val_loss: 1.6475 - val_accuracy: 0.4545\n",
      "Epoch 18/200\n",
      "3/3 [==============================] - 7s 2s/step - loss: 1.5959 - accuracy: 0.5101 - val_loss: 1.5795 - val_accuracy: 0.5152\n",
      "Epoch 19/200\n",
      "3/3 [==============================] - 7s 2s/step - loss: 1.6740 - accuracy: 0.3690 - val_loss: 1.6065 - val_accuracy: 0.4242\n",
      "Epoch 20/200\n",
      "3/3 [==============================] - 6s 2s/step - loss: 1.5468 - accuracy: 0.5012 - val_loss: 1.7169 - val_accuracy: 0.3333\n",
      "Epoch 21/200\n",
      "3/3 [==============================] - 7s 2s/step - loss: 1.6098 - accuracy: 0.4309 - val_loss: 1.6683 - val_accuracy: 0.3636\n",
      "Epoch 22/200\n",
      "3/3 [==============================] - 7s 2s/step - loss: 1.5036 - accuracy: 0.5861 - val_loss: 1.5253 - val_accuracy: 0.4848\n",
      "Epoch 23/200\n",
      "3/3 [==============================] - 7s 2s/step - loss: 1.4975 - accuracy: 0.5419 - val_loss: 1.6626 - val_accuracy: 0.3636\n",
      "Epoch 24/200\n",
      "3/3 [==============================] - 7s 2s/step - loss: 1.4695 - accuracy: 0.5329 - val_loss: 1.5969 - val_accuracy: 0.4242\n",
      "Epoch 25/200\n",
      "3/3 [==============================] - 7s 2s/step - loss: 1.4495 - accuracy: 0.4256 - val_loss: 1.4178 - val_accuracy: 0.6061\n",
      "Epoch 26/200\n",
      "3/3 [==============================] - 7s 2s/step - loss: 1.4060 - accuracy: 0.4743 - val_loss: 1.5367 - val_accuracy: 0.3636\n",
      "Epoch 27/200\n",
      "3/3 [==============================] - 7s 2s/step - loss: 1.3581 - accuracy: 0.6743 - val_loss: 1.4356 - val_accuracy: 0.5758\n",
      "Epoch 28/200\n",
      "3/3 [==============================] - 7s 2s/step - loss: 1.3886 - accuracy: 0.5672 - val_loss: 1.5126 - val_accuracy: 0.3939\n",
      "Epoch 29/200\n",
      "3/3 [==============================] - 7s 2s/step - loss: 1.4666 - accuracy: 0.5313 - val_loss: 1.5184 - val_accuracy: 0.3636\n",
      "Epoch 30/200\n",
      "3/3 [==============================] - 7s 2s/step - loss: 1.3523 - accuracy: 0.5111 - val_loss: 1.5643 - val_accuracy: 0.3636\n",
      "Epoch 31/200\n",
      "3/3 [==============================] - 7s 2s/step - loss: 1.3564 - accuracy: 0.5435 - val_loss: 1.3443 - val_accuracy: 0.5152\n",
      "Epoch 32/200\n",
      "3/3 [==============================] - 6s 2s/step - loss: 1.3391 - accuracy: 0.5646 - val_loss: 1.2695 - val_accuracy: 0.7273\n",
      "Epoch 33/200\n",
      "3/3 [==============================] - 7s 2s/step - loss: 1.3578 - accuracy: 0.4733 - val_loss: 1.6733 - val_accuracy: 0.3333\n",
      "Epoch 34/200\n",
      "3/3 [==============================] - 7s 2s/step - loss: 1.4660 - accuracy: 0.4721 - val_loss: 1.6709 - val_accuracy: 0.3636\n",
      "Epoch 35/200\n",
      "3/3 [==============================] - 6s 2s/step - loss: 1.3680 - accuracy: 0.5335 - val_loss: 1.5530 - val_accuracy: 0.3636\n",
      "Epoch 36/200\n",
      "3/3 [==============================] - 7s 2s/step - loss: 1.3690 - accuracy: 0.5473 - val_loss: 1.5099 - val_accuracy: 0.3636\n",
      "Epoch 37/200\n",
      "3/3 [==============================] - 7s 2s/step - loss: 1.4210 - accuracy: 0.5300 - val_loss: 1.4425 - val_accuracy: 0.4545\n",
      "Epoch 38/200\n",
      "3/3 [==============================] - 7s 2s/step - loss: 1.3958 - accuracy: 0.5245 - val_loss: 1.3755 - val_accuracy: 0.5152\n",
      "Epoch 39/200\n",
      "3/3 [==============================] - 7s 2s/step - loss: 1.3385 - accuracy: 0.4936 - val_loss: 1.3724 - val_accuracy: 0.5455\n",
      "Epoch 40/200\n",
      "3/3 [==============================] - 7s 2s/step - loss: 1.3069 - accuracy: 0.6135 - val_loss: 1.3971 - val_accuracy: 0.4545\n",
      "Epoch 41/200\n",
      "3/3 [==============================] - 7s 2s/step - loss: 1.2796 - accuracy: 0.5154 - val_loss: 1.2949 - val_accuracy: 0.5455\n",
      "Epoch 42/200\n",
      "3/3 [==============================] - 7s 2s/step - loss: 1.2663 - accuracy: 0.5306 - val_loss: 1.3477 - val_accuracy: 0.4545\n",
      "Epoch 43/200\n",
      "3/3 [==============================] - 7s 2s/step - loss: 1.2215 - accuracy: 0.6187 - val_loss: 1.3186 - val_accuracy: 0.5455\n",
      "Epoch 44/200\n",
      "3/3 [==============================] - 7s 2s/step - loss: 1.1790 - accuracy: 0.6521 - val_loss: 1.3119 - val_accuracy: 0.4848\n",
      "Epoch 45/200\n",
      "3/3 [==============================] - 7s 2s/step - loss: 1.2326 - accuracy: 0.5673 - val_loss: 1.3384 - val_accuracy: 0.5152\n",
      "Epoch 46/200\n",
      "3/3 [==============================] - 7s 2s/step - loss: 1.1899 - accuracy: 0.6247 - val_loss: 1.3639 - val_accuracy: 0.4848\n",
      "Epoch 47/200\n",
      "3/3 [==============================] - 7s 2s/step - loss: 1.2100 - accuracy: 0.5817 - val_loss: 1.3088 - val_accuracy: 0.5455\n",
      "Epoch 48/200\n",
      "3/3 [==============================] - 7s 2s/step - loss: 1.1813 - accuracy: 0.5885 - val_loss: 1.3570 - val_accuracy: 0.4848\n",
      "Epoch 49/200\n",
      "3/3 [==============================] - 7s 2s/step - loss: 1.2047 - accuracy: 0.6223 - val_loss: 1.3646 - val_accuracy: 0.4242\n",
      "Epoch 50/200\n",
      "3/3 [==============================] - 6s 2s/step - loss: 1.1737 - accuracy: 0.5819 - val_loss: 1.2737 - val_accuracy: 0.5758\n",
      "Epoch 51/200\n",
      "3/3 [==============================] - 7s 2s/step - loss: 1.1845 - accuracy: 0.6060 - val_loss: 1.2698 - val_accuracy: 0.5152\n",
      "Epoch 52/200\n",
      "3/3 [==============================] - 7s 2s/step - loss: 1.1791 - accuracy: 0.6384 - val_loss: 1.2657 - val_accuracy: 0.4848\n",
      "Epoch 53/200\n",
      "3/3 [==============================] - 7s 2s/step - loss: 1.2001 - accuracy: 0.6051 - val_loss: 1.2826 - val_accuracy: 0.5455\n",
      "Epoch 54/200\n",
      "3/3 [==============================] - 7s 2s/step - loss: 1.1244 - accuracy: 0.6326 - val_loss: 1.2936 - val_accuracy: 0.4545\n",
      "Epoch 55/200\n",
      "3/3 [==============================] - 7s 2s/step - loss: 1.1421 - accuracy: 0.6406 - val_loss: 1.2682 - val_accuracy: 0.5152\n",
      "Epoch 56/200\n",
      "3/3 [==============================] - 7s 2s/step - loss: 1.1483 - accuracy: 0.6256 - val_loss: 1.2987 - val_accuracy: 0.5152\n",
      "Epoch 57/200\n",
      "3/3 [==============================] - 6s 2s/step - loss: 1.0806 - accuracy: 0.6564 - val_loss: 1.3140 - val_accuracy: 0.4848\n",
      "Epoch 00057: early stopping\n"
     ]
    },
    {
     "data": {
      "text/plain": [
       "<tensorflow.python.keras.callbacks.History at 0x28c56cb9d00>"
      ]
     },
     "execution_count": 24,
     "metadata": {},
     "output_type": "execute_result"
    }
   ],
   "source": [
    "cnn.fit(x = training_set, validation_data = test_set, epochs = 200,callbacks=[early_stop])"
   ]
  },
  {
   "cell_type": "code",
   "execution_count": 25,
   "metadata": {},
   "outputs": [
    {
     "data": {
      "text/plain": [
       "<matplotlib.axes._subplots.AxesSubplot at 0x28c01e74550>"
      ]
     },
     "execution_count": 25,
     "metadata": {},
     "output_type": "execute_result"
    },
    {
     "data": {
      "image/png": "[encoded data removed]",
      "text/plain": [
       "<Figure size 432x288 with 1 Axes>"
      ]
     },
     "metadata": {
      "needs_background": "light"
     },
     "output_type": "display_data"
    }
   ],
   "source": [
    "modal_loss = pd.DataFrame(cnn.history.history)\n",
    "modal_loss[['accuracy','val_accuracy']].plot()"
   ]
  },
  {
   "cell_type": "code",
   "execution_count": 26,
   "metadata": {},
   "outputs": [
    {
     "data": {
      "text/plain": [
       "<matplotlib.axes._subplots.AxesSubplot at 0x28c01edcc70>"
      ]
     },
     "execution_count": 26,
     "metadata": {},
     "output_type": "execute_result"
    },
    {
     "data": {
      "image/png": "[encoded data removed]",
      "text/plain": [
       "<Figure size 432x288 with 1 Axes>"
      ]
     },
     "metadata": {
      "needs_background": "light"
     },
     "output_type": "display_data"
    }
   ],
   "source": [
    "modal_loss[['loss','val_loss']].plot()"
   ]
  },
  {
   "cell_type": "markdown",
   "metadata": {
    "colab_type": "text",
    "id": "U3PZasO0006Z"
   },
   "source": [
    "## Making a single prediction"
   ]
  },
  {
   "cell_type": "code",
   "execution_count": 27,
   "metadata": {
    "colab": {},
    "colab_type": "code",
    "id": "gsSiWEJY1BPB"
   },
   "outputs": [
    {
     "name": "stderr",
     "output_type": "stream",
     "text": [
      "C:\\Users\\hp\\anaconda3\\lib\\site-packages\\tensorflow\\python\\keras\\engine\\sequential.py:450: UserWarning: `model.predict_classes()` is deprecated and will be removed after 2021-01-01. Please use instead:* `np.argmax(model.predict(x), axis=-1)`,   if your model does multi-class classification   (e.g. if it uses a `softmax` last-layer activation).* `(model.predict(x) > 0.5).astype(\"int32\")`,   if your model does binary classification   (e.g. if it uses a `sigmoid` last-layer activation).\n",
      "  warnings.warn('`model.predict_classes()` is deprecated and '\n"
     ]
    },
    {
     "data": {
      "text/plain": [
       "{'Bacterial leaf blight': 0, 'Brown spot': 1, 'Leaf smut': 2}"
      ]
     },
     "execution_count": 27,
     "metadata": {},
     "output_type": "execute_result"
    }
   ],
   "source": [
    "import numpy as np\n",
    "from tensorflow.keras.preprocessing import image\n",
    "test_image = image.load_img('datasets/rice_brown_leaf.jpg', target_size = (256, 256))\n",
    "test_image = image.img_to_array(test_image)\n",
    "test_image = np.expand_dims(test_image, axis = 0)\n",
    "result = cnn.predict_classes(test_image)\n",
    "training_set.class_indices"
   ]
  },
  {
   "cell_type": "code",
   "execution_count": 28,
   "metadata": {},
   "outputs": [
    {
     "data": {
      "text/plain": [
       "array([1], dtype=int64)"
      ]
     },
     "execution_count": 28,
     "metadata": {},
     "output_type": "execute_result"
    }
   ],
   "source": [
    "result"
   ]
  },
  {
   "cell_type": "code",
   "execution_count": 29,
   "metadata": {
    "colab": {},
    "colab_type": "code",
    "id": "ED9KB3I54c1i"
   },
   "outputs": [
    {
     "name": "stdout",
     "output_type": "stream",
     "text": [
      "Brown spot\n"
     ]
    }
   ],
   "source": [
    "if result[0] == 0:\n",
    "    prediction = 'Bacterial leaf blight'\n",
    "elif result[0] == 1:\n",
    "    prediction = 'Brown spot'\n",
    "else:\n",
    "    prediction = 'Leaf smut'\n",
    "print(prediction)"
   ]
  },
  {
   "cell_type": "code",
   "execution_count": 30,
   "metadata": {},
   "outputs": [],
   "source": [
    "test_image = image.load_img('datasets/rice_Leaf_smut.jpg', target_size = (256, 256))\n",
    "test_image = image.img_to_array(test_image)\n",
    "test_image = np.expand_dims(test_image, axis = 0)\n",
    "result = cnn.predict_classes(test_image)"
   ]
  },
  {
   "cell_type": "code",
   "execution_count": 31,
   "metadata": {},
   "outputs": [
    {
     "data": {
      "text/plain": [
       "array([2], dtype=int64)"
      ]
     },
     "execution_count": 31,
     "metadata": {},
     "output_type": "execute_result"
    }
   ],
   "source": [
    "result"
   ]
  },
  {
   "cell_type": "code",
   "execution_count": 32,
   "metadata": {},
   "outputs": [
    {
     "name": "stdout",
     "output_type": "stream",
     "text": [
      "Leaf smut\n"
     ]
    }
   ],
   "source": [
    "if result[0] == 0:\n",
    "    prediction = 'Bacterial leaf blight'\n",
    "elif result[0] == 1:\n",
    "    prediction = 'Brown spot'\n",
    "else:\n",
    "    prediction = 'Leaf smut'\n",
    "print(prediction)"
   ]
  },
  {
   "cell_type": "code",
   "execution_count": 33,
   "metadata": {},
   "outputs": [
    {
     "data": {
      "text/plain": [
       "array([1], dtype=int64)"
      ]
     },
     "execution_count": 33,
     "metadata": {},
     "output_type": "execute_result"
    }
   ],
   "source": [
    "test_image = image.load_img('datasets/rice_Leaf_smut1.jpg', target_size = (256, 256))\n",
    "test_image = image.img_to_array(test_image)\n",
    "test_image = np.expand_dims(test_image, axis = 0)\n",
    "result = cnn.predict_classes(test_image)\n",
    "result"
   ]
  },
  {
   "cell_type": "code",
   "execution_count": 34,
   "metadata": {},
   "outputs": [
    {
     "name": "stdout",
     "output_type": "stream",
     "text": [
      "Brown spot\n"
     ]
    }
   ],
   "source": [
    "if result[0] == 0:\n",
    "    prediction = 'Bacterial leaf blight'\n",
    "elif result[0] == 1:\n",
    "    prediction = 'Brown spot'\n",
    "else:\n",
    "    prediction = 'Leaf smut'\n",
    "print(prediction)"
   ]
  },
  {
   "cell_type": "code",
   "execution_count": 35,
   "metadata": {},
   "outputs": [
    {
     "data": {
      "text/plain": [
       "array([0], dtype=int64)"
      ]
     },
     "execution_count": 35,
     "metadata": {},
     "output_type": "execute_result"
    }
   ],
   "source": [
    "test_image = image.load_img('datasets/rice_Bacterial-leaf-blight.jpg', target_size = (256, 256))\n",
    "test_image = image.img_to_array(test_image)\n",
    "test_image = np.expand_dims(test_image, axis = 0)\n",
    "result = cnn.predict_classes(test_image)\n",
    "result"
   ]
  },
  {
   "cell_type": "code",
   "execution_count": 36,
   "metadata": {},
   "outputs": [
    {
     "name": "stdout",
     "output_type": "stream",
     "text": [
      "Bacterial leaf blight\n"
     ]
    }
   ],
   "source": [
    "if result[0] == 0:\n",
    "    prediction = 'Bacterial leaf blight'\n",
    "elif result[0] == 1:\n",
    "    prediction = 'Brown spot'\n",
    "else:\n",
    "    prediction = 'Leaf smut'\n",
    "print(prediction)"
   ]
  },
  {
   "cell_type": "code",
   "execution_count": 37,
   "metadata": {},
   "outputs": [],
   "source": [
    "pred = cnn.predict_classes(test_set)"
   ]
  },
  {
   "cell_type": "code",
   "execution_count": 38,
   "metadata": {},
   "outputs": [
    {
     "data": {
      "text/plain": [
       "{'Bacterial leaf blight': 0, 'Brown spot': 1, 'Leaf smut': 2}"
      ]
     },
     "execution_count": 38,
     "metadata": {},
     "output_type": "execute_result"
    }
   ],
   "source": [
    "test_set.class_indices"
   ]
  },
  {
   "cell_type": "markdown",
   "metadata": {},
   "source": [
    "### predicted classes"
   ]
  },
  {
   "cell_type": "code",
   "execution_count": 39,
   "metadata": {},
   "outputs": [
    {
     "data": {
      "text/plain": [
       "array([0, 0, 0, 2, 1, 2, 0, 0, 1, 0, 0, 0, 0, 0, 0, 0, 1, 2, 0, 0, 0, 0,\n",
       "       2, 0, 1, 0, 0, 0, 0, 2, 2, 1, 1], dtype=int64)"
      ]
     },
     "execution_count": 39,
     "metadata": {},
     "output_type": "execute_result"
    }
   ],
   "source": [
    "pred"
   ]
  },
  {
   "cell_type": "markdown",
   "metadata": {},
   "source": [
    "### correct classes"
   ]
  },
  {
   "cell_type": "code",
   "execution_count": 40,
   "metadata": {},
   "outputs": [
    {
     "data": {
      "text/plain": [
       "array([0, 0, 0, 0, 0, 0, 0, 0, 0, 0, 1, 1, 1, 1, 1, 1, 1, 1, 1, 1, 2, 2,\n",
       "       2, 2, 2, 2, 2, 2, 2, 2, 2, 2, 2])"
      ]
     },
     "execution_count": 40,
     "metadata": {},
     "output_type": "execute_result"
    }
   ],
   "source": [
    "test_set.classes"
   ]
  },
  {
   "cell_type": "code",
   "execution_count": 41,
   "metadata": {},
   "outputs": [
    {
     "name": "stdout",
     "output_type": "stream",
     "text": [
      "              precision    recall  f1-score   support\n",
      "\n",
      "           0       0.29      0.60      0.39        10\n",
      "           1       0.17      0.10      0.12        10\n",
      "           2       0.50      0.23      0.32        13\n",
      "\n",
      "    accuracy                           0.30        33\n",
      "   macro avg       0.32      0.31      0.28        33\n",
      "weighted avg       0.33      0.30      0.28        33\n",
      "\n",
      "[[6 2 2]\n",
      " [8 1 1]\n",
      " [7 3 3]]\n"
     ]
    }
   ],
   "source": [
    "from sklearn.metrics import classification_report,confusion_matrix\n",
    "print(classification_report(test_set.classes,pred))\n",
    "print(confusion_matrix(test_set.classes,pred))"
   ]
  },
  {
   "cell_type": "code",
   "execution_count": 42,
   "metadata": {},
   "outputs": [
    {
     "data": {
      "text/plain": [
       "<tensorflow.python.keras.preprocessing.image.ImageDataGenerator at 0x28c5658cdf0>"
      ]
     },
     "execution_count": 42,
     "metadata": {},
     "output_type": "execute_result"
    }
   ],
   "source": [
    "train_datagen"
   ]
  },
  {
   "cell_type": "code",
   "execution_count": 43,
   "metadata": {},
   "outputs": [
    {
     "data": {
      "text/plain": [
       "<tensorflow.python.keras.preprocessing.image.DirectoryIterator at 0x28c5658cd90>"
      ]
     },
     "execution_count": 43,
     "metadata": {},
     "output_type": "execute_result"
    }
   ],
   "source": [
    "training_set"
   ]
  },
  {
   "cell_type": "code",
   "execution_count": 44,
   "metadata": {},
   "outputs": [
    {
     "name": "stdout",
     "output_type": "stream",
     "text": [
      "Batch shape=(32, 256, 256, 3), min=0.000, max=1.000\n"
     ]
    }
   ],
   "source": [
    "# confirm the iterator works\n",
    "batchX, batchy = training_set.next()\n",
    "print('Batch shape=%s, min=%.3f, max=%.3f' % (batchX.shape, batchX.min(), batchX.max()))"
   ]
  },
  {
   "cell_type": "code",
   "execution_count": 45,
   "metadata": {},
   "outputs": [
    {
     "name": "stdout",
     "output_type": "stream",
     "text": [
      "Model: \"sequential_1\"\n",
      "_________________________________________________________________\n",
      "Layer (type)                 Output Shape              Param #   \n",
      "=================================================================\n",
      "conv2d_3 (Conv2D)            (None, 254, 254, 32)      896       \n",
      "_________________________________________________________________\n",
      "max_pooling2d_3 (MaxPooling2 (None, 127, 127, 32)      0         \n",
      "_________________________________________________________________\n",
      "conv2d_4 (Conv2D)            (None, 125, 125, 32)      9248      \n",
      "_________________________________________________________________\n",
      "max_pooling2d_4 (MaxPooling2 (None, 62, 62, 32)        0         \n",
      "_________________________________________________________________\n",
      "conv2d_5 (Conv2D)            (None, 60, 60, 64)        18496     \n",
      "_________________________________________________________________\n",
      "max_pooling2d_5 (MaxPooling2 (None, 30, 30, 64)        0         \n",
      "_________________________________________________________________\n",
      "flatten_1 (Flatten)          (None, 57600)             0         \n",
      "_________________________________________________________________\n",
      "dense_2 (Dense)              (None, 64)                3686464   \n",
      "_________________________________________________________________\n",
      "dropout (Dropout)            (None, 64)                0         \n",
      "_________________________________________________________________\n",
      "dense_3 (Dense)              (None, 3)                 195       \n",
      "=================================================================\n",
      "Total params: 3,715,299\n",
      "Trainable params: 3,715,299\n",
      "Non-trainable params: 0\n",
      "_________________________________________________________________\n"
     ]
    }
   ],
   "source": [
    "cnn.summary()"
   ]
  },
  {
   "cell_type": "code",
   "execution_count": 46,
   "metadata": {},
   "outputs": [],
   "source": [
    "cnn.save('model-max.h5')"
   ]
  },
  {
   "cell_type": "code",
   "execution_count": null,
   "metadata": {},
   "outputs": [],
   "source": []
  },
  {
   "cell_type": "code",
   "execution_count": 47,
   "metadata": {},
   "outputs": [
    {
     "name": "stdout",
     "output_type": "stream",
     "text": [
      "precision: [0.28571429 0.16666667 0.5       ]\n",
      "recall: [0.6        0.1        0.23076923]\n",
      "fscore: [0.38709677 0.125      0.31578947]\n",
      "support: [10 10 13]\n"
     ]
    }
   ],
   "source": [
    "from sklearn.metrics import precision_recall_fscore_support as score\n",
    "\n",
    "precision, recall, fscore, support = score(test_set.classes, pred)\n",
    "\n",
    "print('precision: {}'.format(precision))\n",
    "print('recall: {}'.format(recall))\n",
    "print('fscore: {}'.format(fscore))\n",
    "print('support: {}'.format(support))"
   ]
  },
  {
   "cell_type": "code",
   "execution_count": 53,
   "metadata": {},
   "outputs": [],
   "source": [
    "_,acc = cnn.evaluate_generator(test_set,steps = len(test_set),verbose = 0)"
   ]
  },
  {
   "cell_type": "code",
   "execution_count": 54,
   "metadata": {},
   "outputs": [
    {
     "name": "stdout",
     "output_type": "stream",
     "text": [
      "test accouracy: 48.485\n"
     ]
    }
   ],
   "source": [
    "print(\"test accouracy: %.3f\" %(acc*100))"
   ]
  },
  {
   "cell_type": "code",
   "execution_count": null,
   "metadata": {},
   "outputs": [],
   "source": []
  }
 ],
 "metadata": {
  "colab": {
   "collapsed_sections": [],
   "name": "convolutional_neural_network.ipynb",
   "provenance": [],
   "toc_visible": true
  },
  "kernelspec": {
   "display_name": "Python 3",
   "language": "python",
   "name": "python3"
  },
  "language_info": {
   "codemirror_mode": {
    "name": "ipython",
    "version": 3
   },
   "file_extension": ".py",
   "mimetype": "text/x-python",
   "name": "python",
   "nbconvert_exporter": "python",
   "pygments_lexer": "ipython3",
   "version": "3.8.3"
  }
 },
 "nbformat": 4,
 "nbformat_minor": 1
}
