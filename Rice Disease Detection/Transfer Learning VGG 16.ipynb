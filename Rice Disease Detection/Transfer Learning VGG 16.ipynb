{
 "cells": [
  {
   "cell_type": "markdown",
   "metadata": {},
   "source": [
    "# Transfer Learning VGG 16 using Keras"
   ]
  },
  {
   "cell_type": "code",
   "execution_count": 4,
   "metadata": {},
   "outputs": [],
   "source": [
    "# import the libraries as shown below\n",
    "\n",
    "from tensorflow.keras.layers import Input, Lambda, Dense, Flatten,Dropout\n",
    "from tensorflow.keras.models import Model\n",
    "from tensorflow.keras.applications.vgg16 import VGG16\n",
    "#from keras.applications.vgg16 import VGG16\n",
    "from tensorflow.keras.applications.inception_v3 import preprocess_input\n",
    "from tensorflow.keras.preprocessing import image\n",
    "from tensorflow.keras.preprocessing.image import ImageDataGenerator,load_img\n",
    "from tensorflow.keras.models import Sequential\n",
    "import numpy as np\n",
    "from glob import glob\n",
    "#import matplotlib.pyplot as plt"
   ]
  },
  {
   "cell_type": "code",
   "execution_count": 5,
   "metadata": {},
   "outputs": [],
   "source": [
    "# re-size all the images to this\n",
    "IMAGE_SIZE = [224, 224]\n",
    "\n",
    "train_path = 'Datasets/train'\n",
    "valid_path = 'Datasets/test'\n"
   ]
  },
  {
   "cell_type": "code",
   "execution_count": 6,
   "metadata": {},
   "outputs": [
    {
     "name": "stdout",
     "output_type": "stream",
     "text": [
      "Downloading data from https://storage.googleapis.com/tensorflow/keras-applications/vgg16/vgg16_weights_tf_dim_ordering_tf_kernels_notop.h5\n",
      "58892288/58889256 [==============================] - 98s 2us/step\n"
     ]
    }
   ],
   "source": [
    "base_model = VGG16(input_shape = (224, 224, 3), # Shape of our images\n",
    "include_top = False, # Leave out the last fully connected layer\n",
    "weights = 'imagenet')"
   ]
  },
  {
   "cell_type": "code",
   "execution_count": 8,
   "metadata": {},
   "outputs": [],
   "source": [
    "# don't train existing weights\n",
    "for layer in base_model.layers:\n",
    "    layer.trainable = False"
   ]
  },
  {
   "cell_type": "code",
   "execution_count": 9,
   "metadata": {},
   "outputs": [],
   "source": [
    "  # useful for getting number of output classes\n",
    "folders = glob('Datasets/train/*')"
   ]
  },
  {
   "cell_type": "code",
   "execution_count": 10,
   "metadata": {},
   "outputs": [],
   "source": [
    "# our layers - you can add more if you want\n",
    "x = Flatten()(base_model.output)"
   ]
  },
  {
   "cell_type": "code",
   "execution_count": 11,
   "metadata": {},
   "outputs": [],
   "source": [
    "prediction = Dense(len(folders), activation='softmax')(x)\n",
    "\n",
    "# create a model object\n",
    "model = Model(inputs=base_model.input, outputs=prediction)"
   ]
  },
  {
   "cell_type": "code",
   "execution_count": 12,
   "metadata": {},
   "outputs": [
    {
     "name": "stdout",
     "output_type": "stream",
     "text": [
      "Model: \"model\"\n",
      "_________________________________________________________________\n",
      "Layer (type)                 Output Shape              Param #   \n",
      "=================================================================\n",
      "input_1 (InputLayer)         [(None, 224, 224, 3)]     0         \n",
      "_________________________________________________________________\n",
      "block1_conv1 (Conv2D)        (None, 224, 224, 64)      1792      \n",
      "_________________________________________________________________\n",
      "block1_conv2 (Conv2D)        (None, 224, 224, 64)      36928     \n",
      "_________________________________________________________________\n",
      "block1_pool (MaxPooling2D)   (None, 112, 112, 64)      0         \n",
      "_________________________________________________________________\n",
      "block2_conv1 (Conv2D)        (None, 112, 112, 128)     73856     \n",
      "_________________________________________________________________\n",
      "block2_conv2 (Conv2D)        (None, 112, 112, 128)     147584    \n",
      "_________________________________________________________________\n",
      "block2_pool (MaxPooling2D)   (None, 56, 56, 128)       0         \n",
      "_________________________________________________________________\n",
      "block3_conv1 (Conv2D)        (None, 56, 56, 256)       295168    \n",
      "_________________________________________________________________\n",
      "block3_conv2 (Conv2D)        (None, 56, 56, 256)       590080    \n",
      "_________________________________________________________________\n",
      "block3_conv3 (Conv2D)        (None, 56, 56, 256)       590080    \n",
      "_________________________________________________________________\n",
      "block3_pool (MaxPooling2D)   (None, 28, 28, 256)       0         \n",
      "_________________________________________________________________\n",
      "block4_conv1 (Conv2D)        (None, 28, 28, 512)       1180160   \n",
      "_________________________________________________________________\n",
      "block4_conv2 (Conv2D)        (None, 28, 28, 512)       2359808   \n",
      "_________________________________________________________________\n",
      "block4_conv3 (Conv2D)        (None, 28, 28, 512)       2359808   \n",
      "_________________________________________________________________\n",
      "block4_pool (MaxPooling2D)   (None, 14, 14, 512)       0         \n",
      "_________________________________________________________________\n",
      "block5_conv1 (Conv2D)        (None, 14, 14, 512)       2359808   \n",
      "_________________________________________________________________\n",
      "block5_conv2 (Conv2D)        (None, 14, 14, 512)       2359808   \n",
      "_________________________________________________________________\n",
      "block5_conv3 (Conv2D)        (None, 14, 14, 512)       2359808   \n",
      "_________________________________________________________________\n",
      "block5_pool (MaxPooling2D)   (None, 7, 7, 512)         0         \n",
      "_________________________________________________________________\n",
      "flatten (Flatten)            (None, 25088)             0         \n",
      "_________________________________________________________________\n",
      "dense (Dense)                (None, 3)                 75267     \n",
      "=================================================================\n",
      "Total params: 14,789,955\n",
      "Trainable params: 75,267\n",
      "Non-trainable params: 14,714,688\n",
      "_________________________________________________________________\n"
     ]
    }
   ],
   "source": [
    "# view the structure of the model\n",
    "model.summary()"
   ]
  },
  {
   "cell_type": "code",
   "execution_count": 13,
   "metadata": {},
   "outputs": [],
   "source": [
    "# tell the model what cost and optimization method to use\n",
    "model.compile(\n",
    "  loss='categorical_crossentropy',\n",
    "  optimizer='adam',\n",
    "  metrics=['accuracy']\n",
    ")\n"
   ]
  },
  {
   "cell_type": "code",
   "execution_count": 14,
   "metadata": {},
   "outputs": [],
   "source": [
    "# Use the Image Data Generator to import the images from the dataset\n",
    "from tensorflow.keras.preprocessing.image import ImageDataGenerator\n",
    "\n",
    "train_datagen = ImageDataGenerator(rescale = 1./255,\n",
    "                                   shear_range = 0.2,\n",
    "                                   zoom_range = 0.2,\n",
    "                                   horizontal_flip = True)\n",
    "\n",
    "test_datagen = ImageDataGenerator(rescale = 1./255)"
   ]
  },
  {
   "cell_type": "code",
   "execution_count": 15,
   "metadata": {},
   "outputs": [
    {
     "name": "stdout",
     "output_type": "stream",
     "text": [
      "Found 90 images belonging to 3 classes.\n"
     ]
    }
   ],
   "source": [
    "# Make sure you provide the same target size as initialied for the image size\n",
    "training_set = train_datagen.flow_from_directory('Datasets/train',\n",
    "                                                 target_size = (224, 224),\n",
    "                                                 batch_size = 32,\n",
    "                                                 class_mode = 'categorical')"
   ]
  },
  {
   "cell_type": "code",
   "execution_count": 16,
   "metadata": {},
   "outputs": [
    {
     "name": "stdout",
     "output_type": "stream",
     "text": [
      "Found 33 images belonging to 3 classes.\n"
     ]
    }
   ],
   "source": [
    "test_set = test_datagen.flow_from_directory('Datasets/test',\n",
    "                                            target_size = (224, 224),\n",
    "                                            batch_size = 32,\n",
    "                                            class_mode = 'categorical')"
   ]
  },
  {
   "cell_type": "code",
   "execution_count": 18,
   "metadata": {},
   "outputs": [
    {
     "name": "stderr",
     "output_type": "stream",
     "text": [
      "C:\\Users\\hp\\anaconda3\\lib\\site-packages\\tensorflow\\python\\keras\\engine\\training.py:1844: UserWarning: `Model.fit_generator` is deprecated and will be removed in a future version. Please use `Model.fit`, which supports generators.\n",
      "  warnings.warn('`Model.fit_generator` is deprecated and '\n"
     ]
    },
    {
     "name": "stdout",
     "output_type": "stream",
     "text": [
      "Epoch 1/100\n",
      "3/3 [==============================] - 57s 19s/step - loss: 1.7275 - accuracy: 0.3676 - val_loss: 2.0948 - val_accuracy: 0.3030\n",
      "Epoch 2/100\n",
      "3/3 [==============================] - 51s 17s/step - loss: 0.8059 - accuracy: 0.6375 - val_loss: 1.2481 - val_accuracy: 0.4848\n",
      "Epoch 3/100\n",
      "3/3 [==============================] - 49s 17s/step - loss: 0.8964 - accuracy: 0.5712 - val_loss: 1.0061 - val_accuracy: 0.5758\n",
      "Epoch 4/100\n",
      "3/3 [==============================] - 49s 17s/step - loss: 0.3151 - accuracy: 0.9282 - val_loss: 2.0706 - val_accuracy: 0.3030\n",
      "Epoch 5/100\n",
      "3/3 [==============================] - 51s 18s/step - loss: 0.6020 - accuracy: 0.8056 - val_loss: 1.6897 - val_accuracy: 0.3333\n",
      "Epoch 6/100\n",
      "3/3 [==============================] - 51s 18s/step - loss: 0.3708 - accuracy: 0.8931 - val_loss: 0.9812 - val_accuracy: 0.6667\n",
      "Epoch 7/100\n",
      "3/3 [==============================] - 48s 17s/step - loss: 0.1766 - accuracy: 0.9716 - val_loss: 1.0309 - val_accuracy: 0.6061\n",
      "Epoch 8/100\n",
      "3/3 [==============================] - 50s 17s/step - loss: 0.1954 - accuracy: 0.9480 - val_loss: 1.0064 - val_accuracy: 0.6364\n",
      "Epoch 9/100\n",
      "3/3 [==============================] - 49s 17s/step - loss: 0.1344 - accuracy: 0.9733 - val_loss: 1.2595 - val_accuracy: 0.4848\n",
      "Epoch 10/100\n",
      "3/3 [==============================] - 51s 18s/step - loss: 0.1705 - accuracy: 0.9260 - val_loss: 1.3557 - val_accuracy: 0.4242\n",
      "Epoch 11/100\n",
      "3/3 [==============================] - 51s 18s/step - loss: 0.1565 - accuracy: 0.9315 - val_loss: 1.1631 - val_accuracy: 0.4848\n",
      "Epoch 12/100\n",
      "3/3 [==============================] - 45s 16s/step - loss: 0.0955 - accuracy: 0.9646 - val_loss: 1.0628 - val_accuracy: 0.6364\n",
      "Epoch 13/100\n",
      "3/3 [==============================] - 52s 19s/step - loss: 0.0657 - accuracy: 1.0000 - val_loss: 1.1075 - val_accuracy: 0.6061\n",
      "Epoch 14/100\n",
      "3/3 [==============================] - 52s 18s/step - loss: 0.0999 - accuracy: 0.9827 - val_loss: 1.1634 - val_accuracy: 0.6061\n",
      "Epoch 15/100\n",
      "3/3 [==============================] - 49s 17s/step - loss: 0.0769 - accuracy: 0.9772 - val_loss: 1.2301 - val_accuracy: 0.5455\n",
      "Epoch 16/100\n",
      "3/3 [==============================] - 51s 19s/step - loss: 0.0734 - accuracy: 0.9901 - val_loss: 1.1751 - val_accuracy: 0.5152\n",
      "Epoch 17/100\n",
      "3/3 [==============================] - 50s 18s/step - loss: 0.0666 - accuracy: 0.9901 - val_loss: 1.0959 - val_accuracy: 0.5455\n",
      "Epoch 18/100\n",
      "3/3 [==============================] - 50s 18s/step - loss: 0.0549 - accuracy: 1.0000 - val_loss: 1.0326 - val_accuracy: 0.6061\n",
      "Epoch 19/100\n",
      "3/3 [==============================] - 47s 16s/step - loss: 0.0451 - accuracy: 0.9901 - val_loss: 1.0548 - val_accuracy: 0.6364\n",
      "Epoch 20/100\n",
      "3/3 [==============================] - 48s 16s/step - loss: 0.0413 - accuracy: 1.0000 - val_loss: 1.0633 - val_accuracy: 0.5758\n",
      "Epoch 21/100\n",
      "3/3 [==============================] - 47s 16s/step - loss: 0.0360 - accuracy: 1.0000 - val_loss: 1.0469 - val_accuracy: 0.5455\n",
      "Epoch 22/100\n",
      "3/3 [==============================] - 47s 17s/step - loss: 0.0514 - accuracy: 0.9805 - val_loss: 0.9926 - val_accuracy: 0.5758\n",
      "Epoch 23/100\n",
      "3/3 [==============================] - 50s 17s/step - loss: 0.0340 - accuracy: 1.0000 - val_loss: 0.9905 - val_accuracy: 0.5758\n",
      "Epoch 24/100\n",
      "3/3 [==============================] - 46s 16s/step - loss: 0.0342 - accuracy: 1.0000 - val_loss: 0.9911 - val_accuracy: 0.5758\n",
      "Epoch 25/100\n",
      "3/3 [==============================] - 47s 16s/step - loss: 0.0256 - accuracy: 1.0000 - val_loss: 1.0435 - val_accuracy: 0.5455\n",
      "Epoch 26/100\n",
      "3/3 [==============================] - 47s 16s/step - loss: 0.0261 - accuracy: 1.0000 - val_loss: 1.0679 - val_accuracy: 0.5455\n",
      "Epoch 27/100\n",
      "3/3 [==============================] - 46s 16s/step - loss: 0.0239 - accuracy: 1.0000 - val_loss: 1.0724 - val_accuracy: 0.5455\n",
      "Epoch 28/100\n",
      "3/3 [==============================] - 46s 16s/step - loss: 0.0222 - accuracy: 1.0000 - val_loss: 1.0431 - val_accuracy: 0.5455\n",
      "Epoch 29/100\n",
      "3/3 [==============================] - 36s 12s/step - loss: 0.0242 - accuracy: 1.0000 - val_loss: 1.0287 - val_accuracy: 0.5455\n",
      "Epoch 30/100\n",
      "3/3 [==============================] - 32s 11s/step - loss: 0.0234 - accuracy: 1.0000 - val_loss: 1.0059 - val_accuracy: 0.5455\n",
      "Epoch 31/100\n",
      "3/3 [==============================] - 32s 11s/step - loss: 0.0162 - accuracy: 1.0000 - val_loss: 1.0065 - val_accuracy: 0.5455\n",
      "Epoch 32/100\n",
      "3/3 [==============================] - 32s 11s/step - loss: 0.0154 - accuracy: 1.0000 - val_loss: 0.9983 - val_accuracy: 0.5455\n",
      "Epoch 33/100\n",
      "3/3 [==============================] - 33s 12s/step - loss: 0.0193 - accuracy: 1.0000 - val_loss: 0.9890 - val_accuracy: 0.6061\n",
      "Epoch 34/100\n",
      "3/3 [==============================] - 32s 11s/step - loss: 0.0265 - accuracy: 1.0000 - val_loss: 1.0213 - val_accuracy: 0.5758\n",
      "Epoch 35/100\n",
      "3/3 [==============================] - 34s 12s/step - loss: 0.0201 - accuracy: 1.0000 - val_loss: 1.0641 - val_accuracy: 0.5758\n",
      "Epoch 36/100\n",
      "3/3 [==============================] - 33s 11s/step - loss: 0.0218 - accuracy: 1.0000 - val_loss: 1.1257 - val_accuracy: 0.5455\n",
      "Epoch 37/100\n",
      "3/3 [==============================] - 32s 11s/step - loss: 0.0175 - accuracy: 1.0000 - val_loss: 1.1604 - val_accuracy: 0.5455\n",
      "Epoch 38/100\n",
      "3/3 [==============================] - 33s 11s/step - loss: 0.0171 - accuracy: 1.0000 - val_loss: 1.1260 - val_accuracy: 0.5455\n",
      "Epoch 39/100\n",
      "3/3 [==============================] - 33s 11s/step - loss: 0.0154 - accuracy: 1.0000 - val_loss: 1.0916 - val_accuracy: 0.5758\n",
      "Epoch 40/100\n",
      "3/3 [==============================] - 32s 11s/step - loss: 0.0131 - accuracy: 1.0000 - val_loss: 1.0689 - val_accuracy: 0.5758\n",
      "Epoch 41/100\n",
      "3/3 [==============================] - 32s 12s/step - loss: 0.0234 - accuracy: 1.0000 - val_loss: 1.0897 - val_accuracy: 0.5758\n",
      "Epoch 42/100\n",
      "3/3 [==============================] - 31s 11s/step - loss: 0.0141 - accuracy: 1.0000 - val_loss: 1.1162 - val_accuracy: 0.5455\n",
      "Epoch 43/100\n",
      "3/3 [==============================] - 21s 8s/step - loss: 0.0161 - accuracy: 1.0000 - val_loss: 1.1529 - val_accuracy: 0.5152\n",
      "Epoch 44/100\n",
      "3/3 [==============================] - 17s 6s/step - loss: 0.0146 - accuracy: 1.0000 - val_loss: 1.1187 - val_accuracy: 0.5455\n",
      "Epoch 45/100\n",
      "3/3 [==============================] - 17s 6s/step - loss: 0.0113 - accuracy: 1.0000 - val_loss: 1.0757 - val_accuracy: 0.5758\n",
      "Epoch 46/100\n",
      "3/3 [==============================] - 17s 6s/step - loss: 0.0133 - accuracy: 1.0000 - val_loss: 1.0585 - val_accuracy: 0.6061\n",
      "Epoch 47/100\n",
      "3/3 [==============================] - 17s 6s/step - loss: 0.0188 - accuracy: 1.0000 - val_loss: 1.0597 - val_accuracy: 0.5758\n",
      "Epoch 48/100\n",
      "3/3 [==============================] - 17s 6s/step - loss: 0.0127 - accuracy: 1.0000 - val_loss: 1.0775 - val_accuracy: 0.5455\n",
      "Epoch 49/100\n",
      "3/3 [==============================] - 17s 6s/step - loss: 0.0235 - accuracy: 1.0000 - val_loss: 1.1059 - val_accuracy: 0.5455\n",
      "Epoch 50/100\n",
      "3/3 [==============================] - 17s 6s/step - loss: 0.0131 - accuracy: 1.0000 - val_loss: 1.0883 - val_accuracy: 0.5455\n",
      "Epoch 51/100\n",
      "3/3 [==============================] - 17s 6s/step - loss: 0.0107 - accuracy: 1.0000 - val_loss: 1.0725 - val_accuracy: 0.5455\n",
      "Epoch 52/100\n",
      "3/3 [==============================] - 17s 6s/step - loss: 0.0131 - accuracy: 1.0000 - val_loss: 1.0736 - val_accuracy: 0.5758\n",
      "Epoch 53/100\n",
      "3/3 [==============================] - 17s 6s/step - loss: 0.0111 - accuracy: 1.0000 - val_loss: 1.0890 - val_accuracy: 0.5758\n",
      "Epoch 54/100\n",
      "3/3 [==============================] - 18s 7s/step - loss: 0.0101 - accuracy: 1.0000 - val_loss: 1.1163 - val_accuracy: 0.5758\n",
      "Epoch 55/100\n",
      "3/3 [==============================] - 18s 6s/step - loss: 0.0128 - accuracy: 1.0000 - val_loss: 1.1590 - val_accuracy: 0.5455\n",
      "Epoch 56/100\n",
      "3/3 [==============================] - 18s 6s/step - loss: 0.0103 - accuracy: 1.0000 - val_loss: 1.1670 - val_accuracy: 0.5455\n",
      "Epoch 57/100\n",
      "3/3 [==============================] - 17s 6s/step - loss: 0.0113 - accuracy: 1.0000 - val_loss: 1.1487 - val_accuracy: 0.5455\n",
      "Epoch 58/100\n",
      "3/3 [==============================] - 18s 6s/step - loss: 0.0181 - accuracy: 1.0000 - val_loss: 1.1011 - val_accuracy: 0.5758\n",
      "Epoch 59/100\n"
     ]
    },
    {
     "name": "stdout",
     "output_type": "stream",
     "text": [
      "3/3 [==============================] - 17s 6s/step - loss: 0.0096 - accuracy: 1.0000 - val_loss: 1.0607 - val_accuracy: 0.5758\n",
      "Epoch 60/100\n",
      "3/3 [==============================] - 18s 7s/step - loss: 0.0095 - accuracy: 1.0000 - val_loss: 1.0464 - val_accuracy: 0.5758\n",
      "Epoch 61/100\n",
      "3/3 [==============================] - 19s 7s/step - loss: 0.0073 - accuracy: 1.0000 - val_loss: 1.0460 - val_accuracy: 0.6061\n",
      "Epoch 62/100\n",
      "3/3 [==============================] - 18s 7s/step - loss: 0.0111 - accuracy: 1.0000 - val_loss: 1.0360 - val_accuracy: 0.6061\n",
      "Epoch 63/100\n",
      "3/3 [==============================] - 19s 7s/step - loss: 0.0083 - accuracy: 1.0000 - val_loss: 1.0559 - val_accuracy: 0.6061\n",
      "Epoch 64/100\n",
      "3/3 [==============================] - 20s 7s/step - loss: 0.0086 - accuracy: 1.0000 - val_loss: 1.0956 - val_accuracy: 0.5758\n",
      "Epoch 65/100\n",
      "3/3 [==============================] - 19s 7s/step - loss: 0.0069 - accuracy: 1.0000 - val_loss: 1.1464 - val_accuracy: 0.5758\n",
      "Epoch 66/100\n",
      "3/3 [==============================] - 19s 7s/step - loss: 0.0122 - accuracy: 1.0000 - val_loss: 1.1843 - val_accuracy: 0.5758\n",
      "Epoch 67/100\n",
      "3/3 [==============================] - 18s 6s/step - loss: 0.0064 - accuracy: 1.0000 - val_loss: 1.1908 - val_accuracy: 0.5758\n",
      "Epoch 68/100\n",
      "3/3 [==============================] - 18s 7s/step - loss: 0.0071 - accuracy: 1.0000 - val_loss: 1.1740 - val_accuracy: 0.5758\n",
      "Epoch 69/100\n",
      "3/3 [==============================] - 17s 6s/step - loss: 0.0071 - accuracy: 1.0000 - val_loss: 1.1491 - val_accuracy: 0.5758\n",
      "Epoch 70/100\n",
      "3/3 [==============================] - 17s 6s/step - loss: 0.0056 - accuracy: 1.0000 - val_loss: 1.1228 - val_accuracy: 0.5455\n",
      "Epoch 71/100\n",
      "3/3 [==============================] - 17s 6s/step - loss: 0.0084 - accuracy: 1.0000 - val_loss: 1.1050 - val_accuracy: 0.5455\n",
      "Epoch 72/100\n",
      "3/3 [==============================] - 17s 6s/step - loss: 0.0116 - accuracy: 1.0000 - val_loss: 1.0918 - val_accuracy: 0.6061\n",
      "Epoch 73/100\n",
      "3/3 [==============================] - 17s 6s/step - loss: 0.0097 - accuracy: 1.0000 - val_loss: 1.1036 - val_accuracy: 0.5758\n",
      "Epoch 74/100\n",
      "3/3 [==============================] - 17s 6s/step - loss: 0.0078 - accuracy: 1.0000 - val_loss: 1.1163 - val_accuracy: 0.5758\n",
      "Epoch 75/100\n",
      "3/3 [==============================] - 17s 6s/step - loss: 0.0077 - accuracy: 1.0000 - val_loss: 1.1262 - val_accuracy: 0.5758\n",
      "Epoch 76/100\n",
      "3/3 [==============================] - 17s 6s/step - loss: 0.0078 - accuracy: 1.0000 - val_loss: 1.1338 - val_accuracy: 0.5758\n",
      "Epoch 77/100\n",
      "3/3 [==============================] - 17s 6s/step - loss: 0.0041 - accuracy: 1.0000 - val_loss: 1.1309 - val_accuracy: 0.5758\n",
      "Epoch 78/100\n",
      "3/3 [==============================] - 17s 6s/step - loss: 0.0064 - accuracy: 1.0000 - val_loss: 1.1152 - val_accuracy: 0.5758\n",
      "Epoch 79/100\n",
      "3/3 [==============================] - 17s 6s/step - loss: 0.0060 - accuracy: 1.0000 - val_loss: 1.1238 - val_accuracy: 0.5758\n",
      "Epoch 80/100\n",
      "3/3 [==============================] - 18s 6s/step - loss: 0.0066 - accuracy: 1.0000 - val_loss: 1.1395 - val_accuracy: 0.5455\n",
      "Epoch 81/100\n",
      "3/3 [==============================] - 17s 7s/step - loss: 0.0067 - accuracy: 1.0000 - val_loss: 1.1302 - val_accuracy: 0.5455\n",
      "Epoch 82/100\n",
      "3/3 [==============================] - 19s 7s/step - loss: 0.0068 - accuracy: 1.0000 - val_loss: 1.1303 - val_accuracy: 0.5758\n",
      "Epoch 83/100\n",
      "3/3 [==============================] - 17s 6s/step - loss: 0.0057 - accuracy: 1.0000 - val_loss: 1.1515 - val_accuracy: 0.5758\n",
      "Epoch 84/100\n",
      "3/3 [==============================] - 17s 6s/step - loss: 0.0058 - accuracy: 1.0000 - val_loss: 1.1652 - val_accuracy: 0.5758\n",
      "Epoch 85/100\n",
      "3/3 [==============================] - 18s 7s/step - loss: 0.0074 - accuracy: 1.0000 - val_loss: 1.1463 - val_accuracy: 0.5758\n",
      "Epoch 86/100\n",
      "3/3 [==============================] - 19s 7s/step - loss: 0.0077 - accuracy: 1.0000 - val_loss: 1.1056 - val_accuracy: 0.5758\n",
      "Epoch 87/100\n",
      "3/3 [==============================] - 19s 7s/step - loss: 0.0062 - accuracy: 1.0000 - val_loss: 1.0842 - val_accuracy: 0.5758\n",
      "Epoch 88/100\n",
      "3/3 [==============================] - 18s 7s/step - loss: 0.0047 - accuracy: 1.0000 - val_loss: 1.0770 - val_accuracy: 0.6061\n",
      "Epoch 89/100\n",
      "3/3 [==============================] - 18s 6s/step - loss: 0.0062 - accuracy: 1.0000 - val_loss: 1.0929 - val_accuracy: 0.5758\n",
      "Epoch 90/100\n",
      "3/3 [==============================] - 17s 6s/step - loss: 0.0061 - accuracy: 1.0000 - val_loss: 1.1326 - val_accuracy: 0.5758\n",
      "Epoch 91/100\n",
      "3/3 [==============================] - 17s 6s/step - loss: 0.0061 - accuracy: 1.0000 - val_loss: 1.1823 - val_accuracy: 0.5758\n",
      "Epoch 92/100\n",
      "3/3 [==============================] - 18s 6s/step - loss: 0.0040 - accuracy: 1.0000 - val_loss: 1.1916 - val_accuracy: 0.5758\n",
      "Epoch 93/100\n",
      "3/3 [==============================] - 18s 6s/step - loss: 0.0050 - accuracy: 1.0000 - val_loss: 1.1658 - val_accuracy: 0.5758\n",
      "Epoch 94/100\n",
      "3/3 [==============================] - 17s 6s/step - loss: 0.0053 - accuracy: 1.0000 - val_loss: 1.1356 - val_accuracy: 0.5758\n",
      "Epoch 95/100\n",
      "3/3 [==============================] - 18s 7s/step - loss: 0.0045 - accuracy: 1.0000 - val_loss: 1.1148 - val_accuracy: 0.5758\n",
      "Epoch 96/100\n",
      "3/3 [==============================] - 18s 6s/step - loss: 0.0050 - accuracy: 1.0000 - val_loss: 1.0992 - val_accuracy: 0.6061\n",
      "Epoch 97/100\n",
      "3/3 [==============================] - 18s 6s/step - loss: 0.0045 - accuracy: 1.0000 - val_loss: 1.1022 - val_accuracy: 0.6061\n",
      "Epoch 98/100\n",
      "3/3 [==============================] - 18s 7s/step - loss: 0.0050 - accuracy: 1.0000 - val_loss: 1.1110 - val_accuracy: 0.5758\n",
      "Epoch 99/100\n",
      "3/3 [==============================] - 18s 7s/step - loss: 0.0040 - accuracy: 1.0000 - val_loss: 1.1244 - val_accuracy: 0.5758\n",
      "Epoch 100/100\n",
      "3/3 [==============================] - 18s 6s/step - loss: 0.0044 - accuracy: 1.0000 - val_loss: 1.1404 - val_accuracy: 0.5758\n"
     ]
    }
   ],
   "source": [
    "from tensorflow.keras.callbacks import EarlyStopping\n",
    "early_stop = EarlyStopping(monitor='val_loss',mode='min',verbose=1,patience=25)\n",
    "# fit the model\n",
    "# Run the cell. It will take some time to execute\n",
    "r = model.fit_generator(\n",
    "  training_set,\n",
    "  validation_data=test_set,\n",
    "  epochs=100,\n",
    "  steps_per_epoch=len(training_set),\n",
    "  validation_steps=len(test_set)\n",
    ")"
   ]
  },
  {
   "cell_type": "code",
   "execution_count": 19,
   "metadata": {},
   "outputs": [],
   "source": [
    "import matplotlib.pyplot as plt"
   ]
  },
  {
   "cell_type": "code",
   "execution_count": 20,
   "metadata": {},
   "outputs": [
    {
     "data": {
      "image/png": "[encoded data removed]",
      "text/plain": [
       "<Figure size 432x288 with 1 Axes>"
      ]
     },
     "metadata": {
      "needs_background": "light"
     },
     "output_type": "display_data"
    },
    {
     "data": {
      "image/png": "[encoded data removed]",
      "text/plain": [
       "<Figure size 432x288 with 1 Axes>"
      ]
     },
     "metadata": {
      "needs_background": "light"
     },
     "output_type": "display_data"
    },
    {
     "data": {
      "text/plain": [
       "<Figure size 432x288 with 0 Axes>"
      ]
     },
     "metadata": {},
     "output_type": "display_data"
    }
   ],
   "source": [
    "# plot the loss\n",
    "plt.plot(r.history['loss'], label='train loss')\n",
    "plt.plot(r.history['val_loss'], label='val loss')\n",
    "plt.legend()\n",
    "plt.show()\n",
    "plt.savefig('LossVal_loss')\n",
    "\n",
    "# plot the accuracy\n",
    "plt.plot(r.history['accuracy'], label='train acc')\n",
    "plt.plot(r.history['val_accuracy'], label='val acc')\n",
    "plt.legend()\n",
    "plt.show()\n",
    "plt.savefig('AccVal_acc')"
   ]
  },
  {
   "cell_type": "code",
   "execution_count": 21,
   "metadata": {},
   "outputs": [],
   "source": [
    "# save it as a h5 file\n",
    "\n",
    "\n",
    "from tensorflow.keras.models import load_model\n",
    "\n",
    "model.save('model_vgg16.h5')"
   ]
  },
  {
   "cell_type": "code",
   "execution_count": 22,
   "metadata": {},
   "outputs": [],
   "source": [
    "y_pred = model.predict(test_set)"
   ]
  },
  {
   "cell_type": "code",
   "execution_count": 23,
   "metadata": {},
   "outputs": [
    {
     "data": {
      "text/plain": [
       "array([[6.9141977e-02, 8.5194725e-01, 7.8910828e-02],\n",
       "       [4.1435298e-01, 5.7603031e-01, 9.6167149e-03],\n",
       "       [3.5519635e-03, 9.9381530e-01, 2.6328310e-03],\n",
       "       [4.7634566e-01, 5.1063007e-01, 1.3024341e-02],\n",
       "       [6.7047910e-03, 9.9228269e-01, 1.0125631e-03],\n",
       "       [7.5523125e-04, 9.9634749e-01, 2.8971978e-03],\n",
       "       [2.6621852e-02, 5.1648915e-03, 9.6821320e-01],\n",
       "       [2.6813238e-03, 9.0271264e-02, 9.0704733e-01],\n",
       "       [2.9688361e-01, 2.1826617e-01, 4.8485017e-01],\n",
       "       [7.5523125e-04, 9.9634749e-01, 2.8971978e-03],\n",
       "       [9.1457659e-01, 3.5980174e-03, 8.1825420e-02],\n",
       "       [8.4054118e-01, 1.9074468e-02, 1.4038433e-01],\n",
       "       [9.9503076e-01, 2.6046406e-03, 2.3646136e-03],\n",
       "       [8.8485157e-01, 1.0141287e-01, 1.3735551e-02],\n",
       "       [1.6336916e-02, 5.4732752e-01, 4.3633547e-01],\n",
       "       [3.9740917e-01, 5.6351993e-02, 5.4623890e-01],\n",
       "       [1.0660971e-03, 9.9801081e-01, 9.2310057e-04],\n",
       "       [5.2159481e-05, 2.9668093e-01, 7.0326692e-01],\n",
       "       [2.3868527e-02, 9.7485459e-01, 1.2769767e-03],\n",
       "       [7.2346234e-01, 2.6029730e-01, 1.6240310e-02],\n",
       "       [9.9997306e-01, 8.6371374e-06, 1.8392730e-05],\n",
       "       [9.9782324e-01, 5.9681013e-04, 1.5799988e-03],\n",
       "       [7.9771173e-01, 1.9667447e-01, 5.6137913e-03],\n",
       "       [8.5032040e-01, 1.4526984e-01, 4.4097593e-03],\n",
       "       [6.6182412e-02, 1.3526010e-02, 9.2029160e-01],\n",
       "       [9.6016979e-01, 1.6629538e-02, 2.3200698e-02],\n",
       "       [2.6909525e-03, 7.3948824e-01, 2.5782076e-01],\n",
       "       [7.2198263e-03, 7.8508645e-01, 2.0769373e-01],\n",
       "       [1.2768967e-02, 5.7320130e-01, 4.1402969e-01],\n",
       "       [9.9857616e-01, 8.7578071e-04, 5.4803176e-04],\n",
       "       [6.8202549e-01, 3.1592536e-01, 2.0492068e-03],\n",
       "       [2.7160949e-01, 2.3559218e-02, 7.0483136e-01],\n",
       "       [2.5883263e-01, 4.0354203e-02, 7.0081317e-01]], dtype=float32)"
      ]
     },
     "execution_count": 23,
     "metadata": {},
     "output_type": "execute_result"
    }
   ],
   "source": [
    "y_pred"
   ]
  },
  {
   "cell_type": "code",
   "execution_count": 24,
   "metadata": {},
   "outputs": [],
   "source": [
    "import numpy as np\n",
    "y_pred = np.argmax(y_pred, axis=1)"
   ]
  },
  {
   "cell_type": "code",
   "execution_count": 25,
   "metadata": {},
   "outputs": [
    {
     "data": {
      "text/plain": [
       "array([1, 1, 1, 1, 1, 1, 2, 2, 2, 1, 0, 0, 0, 0, 1, 2, 1, 2, 1, 0, 0, 0,\n",
       "       0, 0, 2, 0, 1, 1, 1, 0, 0, 2, 2], dtype=int64)"
      ]
     },
     "execution_count": 25,
     "metadata": {},
     "output_type": "execute_result"
    }
   ],
   "source": [
    "y_pred"
   ]
  },
  {
   "cell_type": "code",
   "execution_count": 26,
   "metadata": {},
   "outputs": [
    {
     "data": {
      "text/plain": [
       "array([0, 0, 0, 0, 0, 0, 0, 0, 0, 0, 1, 1, 1, 1, 1, 1, 1, 1, 1, 1, 2, 2,\n",
       "       2, 2, 2, 2, 2, 2, 2, 2, 2, 2, 2])"
      ]
     },
     "execution_count": 26,
     "metadata": {},
     "output_type": "execute_result"
    }
   ],
   "source": [
    "test_set.classes"
   ]
  },
  {
   "cell_type": "code",
   "execution_count": 27,
   "metadata": {},
   "outputs": [
    {
     "name": "stdout",
     "output_type": "stream",
     "text": [
      "              precision    recall  f1-score   support\n",
      "\n",
      "           0       0.00      0.00      0.00        10\n",
      "           1       0.23      0.30      0.26        10\n",
      "           2       0.38      0.23      0.29        13\n",
      "\n",
      "    accuracy                           0.18        33\n",
      "   macro avg       0.20      0.18      0.18        33\n",
      "weighted avg       0.22      0.18      0.19        33\n",
      "\n",
      "[[0 7 3]\n",
      " [5 3 2]\n",
      " [7 3 3]]\n"
     ]
    }
   ],
   "source": [
    "from sklearn.metrics import classification_report,confusion_matrix\n",
    "print(classification_report(test_set.classes,y_pred))\n",
    "print(confusion_matrix(test_set.classes,y_pred))"
   ]
  },
  {
   "cell_type": "code",
   "execution_count": 28,
   "metadata": {},
   "outputs": [
    {
     "data": {
      "text/plain": [
       "{'Bacterial leaf blight': 0, 'Brown spot': 1, 'Leaf smut': 2}"
      ]
     },
     "execution_count": 28,
     "metadata": {},
     "output_type": "execute_result"
    }
   ],
   "source": [
    "import numpy as np\n",
    "from tensorflow.keras.preprocessing import image\n",
    "test_image = image.load_img('datasets/rice_brown_leaf.jpg', target_size = (224, 224))\n",
    "test_image = image.img_to_array(test_image)\n",
    "test_image = np.expand_dims(test_image, axis = 0)\n",
    "result = model.predict(test_image)\n",
    "training_set.class_indices"
   ]
  },
  {
   "cell_type": "code",
   "execution_count": 29,
   "metadata": {},
   "outputs": [
    {
     "data": {
      "text/plain": [
       "array([[0., 0., 1.]], dtype=float32)"
      ]
     },
     "execution_count": 29,
     "metadata": {},
     "output_type": "execute_result"
    }
   ],
   "source": [
    "result"
   ]
  },
  {
   "cell_type": "code",
   "execution_count": 30,
   "metadata": {},
   "outputs": [],
   "source": [
    "def correctclass(result):\n",
    "    result = np.argmax(result, axis=1)\n",
    "    if result[0] == 0:\n",
    "        prediction = 'Bacterial leaf blight'\n",
    "    elif result[0] == 1:\n",
    "        prediction = 'Brown spot'\n",
    "    else:\n",
    "        prediction = 'Leaf smut'\n",
    "    return prediction"
   ]
  },
  {
   "cell_type": "code",
   "execution_count": 31,
   "metadata": {},
   "outputs": [
    {
     "name": "stdout",
     "output_type": "stream",
     "text": [
      "Leaf smut\n"
     ]
    }
   ],
   "source": [
    "print(correctclass(result))"
   ]
  },
  {
   "cell_type": "code",
   "execution_count": 32,
   "metadata": {},
   "outputs": [
    {
     "data": {
      "text/plain": [
       "array([[0., 0., 1.]], dtype=float32)"
      ]
     },
     "execution_count": 32,
     "metadata": {},
     "output_type": "execute_result"
    }
   ],
   "source": [
    "test_image = image.load_img('datasets/rice_Leaf_smut1.jpg', target_size = (224, 224))\n",
    "test_image = image.img_to_array(test_image)\n",
    "test_image = np.expand_dims(test_image, axis = 0)\n",
    "result = model.predict(test_image)\n",
    "result"
   ]
  },
  {
   "cell_type": "code",
   "execution_count": 33,
   "metadata": {},
   "outputs": [
    {
     "name": "stdout",
     "output_type": "stream",
     "text": [
      "Leaf smut\n"
     ]
    }
   ],
   "source": [
    "print(correctclass(result))"
   ]
  },
  {
   "cell_type": "code",
   "execution_count": 34,
   "metadata": {},
   "outputs": [
    {
     "data": {
      "text/plain": [
       "array([[0., 0., 1.]], dtype=float32)"
      ]
     },
     "execution_count": 34,
     "metadata": {},
     "output_type": "execute_result"
    }
   ],
   "source": [
    "test_image = image.load_img('datasets/rice_Bacterial-leaf-blight.jpg', target_size = (224, 224))\n",
    "test_image = image.img_to_array(test_image)\n",
    "test_image = np.expand_dims(test_image, axis = 0)\n",
    "result = model.predict(test_image)\n",
    "result"
   ]
  },
  {
   "cell_type": "code",
   "execution_count": 35,
   "metadata": {},
   "outputs": [
    {
     "name": "stdout",
     "output_type": "stream",
     "text": [
      "Leaf smut\n"
     ]
    }
   ],
   "source": [
    "print(correctclass(result))"
   ]
  },
  {
   "cell_type": "code",
   "execution_count": null,
   "metadata": {},
   "outputs": [],
   "source": []
  }
 ],
 "metadata": {
  "kernelspec": {
   "display_name": "Python 3",
   "language": "python",
   "name": "python3"
  },
  "language_info": {
   "codemirror_mode": {
    "name": "ipython",
    "version": 3
   },
   "file_extension": ".py",
   "mimetype": "text/x-python",
   "name": "python",
   "nbconvert_exporter": "python",
   "pygments_lexer": "ipython3",
   "version": "3.8.3"
  }
 },
 "nbformat": 4,
 "nbformat_minor": 4
}
