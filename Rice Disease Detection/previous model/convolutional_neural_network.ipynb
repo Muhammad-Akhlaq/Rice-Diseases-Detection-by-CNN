{
 "cells": [
  {
   "cell_type": "markdown",
   "metadata": {
    "colab_type": "text",
    "id": "3DR-eO17geWu"
   },
   "source": [
    "# Convolutional Neural Network"
   ]
  },
  {
   "cell_type": "code",
   "execution_count": 1,
   "metadata": {
    "colab": {},
    "colab_type": "code",
    "id": "sCV30xyVhFbE"
   },
   "outputs": [],
   "source": [
    "from tensorflow.keras.preprocessing.image import ImageDataGenerator"
   ]
  },
  {
   "cell_type": "markdown",
   "metadata": {
    "colab_type": "text",
    "id": "MvE-heJNo3GG"
   },
   "source": [
    "## Preprocessing"
   ]
  },
  {
   "cell_type": "code",
   "execution_count": 2,
   "metadata": {
    "colab": {},
    "colab_type": "code",
    "id": "0koUcJMJpEBD"
   },
   "outputs": [
    {
     "name": "stdout",
     "output_type": "stream",
     "text": [
      "Found 90 images belonging to 3 classes.\n"
     ]
    }
   ],
   "source": [
    "train_datagen = ImageDataGenerator(rescale = 1./255,\n",
    "                                   shear_range = 0.2,\n",
    "                                   zoom_range = 0.2,\n",
    "                                   width_shift_range=0.2,\n",
    "                                   height_shift_range=0.2,\n",
    "                                   horizontal_flip = True,\n",
    "                                  vertical_flip=True)\n",
    "training_set = train_datagen.flow_from_directory('datasets/train')"
   ]
  },
  {
   "cell_type": "code",
   "execution_count": 3,
   "metadata": {
    "colab": {},
    "colab_type": "code",
    "id": "SH4WzfOhpKc3"
   },
   "outputs": [
    {
     "name": "stdout",
     "output_type": "stream",
     "text": [
      "Found 30 images belonging to 3 classes.\n"
     ]
    }
   ],
   "source": [
    "test_datagen = ImageDataGenerator(rescale = 1./255,\n",
    "                                   shear_range = 0.2,\n",
    "                                   zoom_range = 0.2,\n",
    "                                  width_shift_range=0.2,\n",
    "                                   height_shift_range=0.2,\n",
    "                                   horizontal_flip = True,\n",
    "                                 vertical_flip=True)\n",
    "test_set = test_datagen.flow_from_directory('datasets/test')"
   ]
  },
  {
   "cell_type": "code",
   "execution_count": 4,
   "metadata": {},
   "outputs": [],
   "source": [
    "import matplotlib.image as img"
   ]
  },
  {
   "cell_type": "code",
   "execution_count": 5,
   "metadata": {},
   "outputs": [
    {
     "data": {
      "text/plain": [
       "(256, 256, 3)"
      ]
     },
     "execution_count": 5,
     "metadata": {},
     "output_type": "execute_result"
    }
   ],
   "source": [
    "training_set.image_shape"
   ]
  },
  {
   "cell_type": "markdown",
   "metadata": {
    "colab_type": "text",
    "id": "af8O4l90gk7B"
   },
   "source": [
    "## Building the CNN"
   ]
  },
  {
   "cell_type": "code",
   "execution_count": 6,
   "metadata": {},
   "outputs": [],
   "source": [
    "from tensorflow.keras.models import Sequential\n",
    "from tensorflow.keras.layers import Conv2D,MaxPool2D,Flatten,Dense,Dropout\n",
    "from tensorflow.keras.callbacks import EarlyStopping"
   ]
  },
  {
   "cell_type": "code",
   "execution_count": 7,
   "metadata": {
    "colab": {},
    "colab_type": "code",
    "id": "SAUt4UMPlhLS"
   },
   "outputs": [],
   "source": [
    "cnn = Sequential()"
   ]
  },
  {
   "cell_type": "code",
   "execution_count": 8,
   "metadata": {
    "colab": {},
    "colab_type": "code",
    "id": "XPzPrMckl-hV"
   },
   "outputs": [],
   "source": [
    "cnn.add(Conv2D(filters=32, kernel_size=3, activation='relu',input_shape=[256, 256, 3]))"
   ]
  },
  {
   "cell_type": "code",
   "execution_count": 9,
   "metadata": {
    "colab": {},
    "colab_type": "code",
    "id": "ncpqPl69mOac"
   },
   "outputs": [],
   "source": [
    "cnn.add(MaxPool2D(pool_size=(2, 2), strides=(2, 2)))"
   ]
  },
  {
   "cell_type": "code",
   "execution_count": 10,
   "metadata": {
    "colab": {},
    "colab_type": "code",
    "id": "i_-FZjn_m8gk"
   },
   "outputs": [],
   "source": [
    "cnn.add(Conv2D(filters=32, kernel_size=3, activation='relu'))\n",
    "cnn.add(MaxPool2D(pool_size=(2, 2), strides=(2, 2)))\n",
    "cnn.add(Conv2D(filters=64, kernel_size=3, activation='relu'))\n",
    "cnn.add(MaxPool2D(pool_size=(2, 2), strides=(2, 2)))"
   ]
  },
  {
   "cell_type": "code",
   "execution_count": 11,
   "metadata": {
    "colab": {},
    "colab_type": "code",
    "id": "6AZeOGCvnNZn"
   },
   "outputs": [],
   "source": [
    "cnn.add(Flatten())"
   ]
  },
  {
   "cell_type": "code",
   "execution_count": 13,
   "metadata": {
    "colab": {},
    "colab_type": "code",
    "id": "8GtmUlLd26Nq"
   },
   "outputs": [
    {
     "ename": "SyntaxError",
     "evalue": "EOL while scanning string literal (<ipython-input-13-98eb714e9b6a>, line 8)",
     "output_type": "error",
     "traceback": [
      "\u001b[1;36m  File \u001b[1;32m\"<ipython-input-13-98eb714e9b6a>\"\u001b[1;36m, line \u001b[1;32m8\u001b[0m\n\u001b[1;33m    \"\"\"\"\u001b[0m\n\u001b[1;37m        \n^\u001b[0m\n\u001b[1;31mSyntaxError\u001b[0m\u001b[1;31m:\u001b[0m EOL while scanning string literal\n"
     ]
    }
   ],
   "source": [
    "cnn.add(Dense(64, activation='relu'))\n",
    "cnn.add(Dropout(0.2))\n",
    "\"\"\"\"\n",
    "cnn.add(Dense(32, activation='relu'))\n",
    "cnn.add(Dropout(0.2))\n",
    "cnn.add(Dense(16, activation='relu'))\n",
    "cnn.add(Dropout(0.2))\n",
    "\"\"\"\""
   ]
  },
  {
   "cell_type": "code",
   "execution_count": 14,
   "metadata": {
    "colab": {},
    "colab_type": "code",
    "id": "1p_Zj1Mc3Ko_"
   },
   "outputs": [],
   "source": [
    "cnn.add(Dense(3, activation='softmax'))"
   ]
  },
  {
   "cell_type": "code",
   "execution_count": 15,
   "metadata": {
    "colab": {},
    "colab_type": "code",
    "id": "NALksrNQpUlJ"
   },
   "outputs": [],
   "source": [
    "cnn.compile(optimizer = 'adam', loss = 'categorical_crossentropy', metrics = ['accuracy'])"
   ]
  },
  {
   "cell_type": "code",
   "execution_count": 16,
   "metadata": {},
   "outputs": [],
   "source": [
    "early_stop = EarlyStopping(monitor='val_loss',mode='min',verbose=1,patience=25)"
   ]
  },
  {
   "cell_type": "code",
   "execution_count": 17,
   "metadata": {
    "colab": {},
    "colab_type": "code",
    "id": "XUj1W4PJptta",
    "scrolled": true
   },
   "outputs": [
    {
     "name": "stdout",
     "output_type": "stream",
     "text": [
      "Epoch 1/200\n",
      "3/3 [==============================] - 11s 4s/step - loss: 2.1119 - accuracy: 0.4077 - val_loss: 1.5386 - val_accuracy: 0.3333\n",
      "Epoch 2/200\n",
      "3/3 [==============================] - 9s 3s/step - loss: 1.6637 - accuracy: 0.3390 - val_loss: 1.1394 - val_accuracy: 0.3000\n",
      "Epoch 3/200\n",
      "3/3 [==============================] - 9s 3s/step - loss: 1.1948 - accuracy: 0.3192 - val_loss: 1.2189 - val_accuracy: 0.3333\n",
      "Epoch 4/200\n",
      "3/3 [==============================] - 8s 3s/step - loss: 1.1044 - accuracy: 0.4049 - val_loss: 1.1192 - val_accuracy: 0.3333\n",
      "Epoch 5/200\n",
      "3/3 [==============================] - 8s 3s/step - loss: 1.0931 - accuracy: 0.3333 - val_loss: 1.0734 - val_accuracy: 0.3333\n",
      "Epoch 6/200\n",
      "3/3 [==============================] - 8s 3s/step - loss: 1.0503 - accuracy: 0.4527 - val_loss: 1.1044 - val_accuracy: 0.4000\n",
      "Epoch 7/200\n",
      "3/3 [==============================] - 7s 2s/step - loss: 1.0217 - accuracy: 0.4975 - val_loss: 1.1427 - val_accuracy: 0.3000\n",
      "Epoch 8/200\n",
      "3/3 [==============================] - 7s 3s/step - loss: 0.9642 - accuracy: 0.5663 - val_loss: 1.1912 - val_accuracy: 0.4333\n",
      "Epoch 9/200\n",
      "3/3 [==============================] - 7s 2s/step - loss: 0.9509 - accuracy: 0.5553 - val_loss: 1.2199 - val_accuracy: 0.4667\n",
      "Epoch 10/200\n",
      "3/3 [==============================] - 7s 3s/step - loss: 1.0084 - accuracy: 0.5293 - val_loss: 1.1161 - val_accuracy: 0.4667\n",
      "Epoch 11/200\n",
      "3/3 [==============================] - 7s 3s/step - loss: 0.9229 - accuracy: 0.5701 - val_loss: 1.1198 - val_accuracy: 0.3333\n",
      "Epoch 12/200\n",
      "3/3 [==============================] - 7s 2s/step - loss: 0.8373 - accuracy: 0.6220 - val_loss: 1.0835 - val_accuracy: 0.5000\n",
      "Epoch 13/200\n",
      "3/3 [==============================] - 8s 3s/step - loss: 0.8650 - accuracy: 0.6223 - val_loss: 1.0020 - val_accuracy: 0.5667\n",
      "Epoch 14/200\n",
      "3/3 [==============================] - 8s 3s/step - loss: 0.8365 - accuracy: 0.6429 - val_loss: 1.1242 - val_accuracy: 0.5000\n",
      "Epoch 15/200\n",
      "3/3 [==============================] - 7s 2s/step - loss: 0.9274 - accuracy: 0.5496 - val_loss: 1.1073 - val_accuracy: 0.4333\n",
      "Epoch 16/200\n",
      "3/3 [==============================] - 7s 3s/step - loss: 0.7342 - accuracy: 0.7170 - val_loss: 1.1471 - val_accuracy: 0.4667\n",
      "Epoch 17/200\n",
      "3/3 [==============================] - 7s 2s/step - loss: 0.7576 - accuracy: 0.6308 - val_loss: 1.0170 - val_accuracy: 0.4333\n",
      "Epoch 18/200\n",
      "3/3 [==============================] - 7s 3s/step - loss: 0.7079 - accuracy: 0.7405 - val_loss: 1.0874 - val_accuracy: 0.4667\n",
      "Epoch 19/200\n",
      "3/3 [==============================] - 7s 2s/step - loss: 0.6508 - accuracy: 0.7804 - val_loss: 1.1443 - val_accuracy: 0.4000\n",
      "Epoch 20/200\n",
      "3/3 [==============================] - 7s 2s/step - loss: 0.7573 - accuracy: 0.7188 - val_loss: 1.0958 - val_accuracy: 0.6333\n",
      "Epoch 21/200\n",
      "3/3 [==============================] - 7s 2s/step - loss: 0.6008 - accuracy: 0.7633 - val_loss: 1.1346 - val_accuracy: 0.5333\n",
      "Epoch 22/200\n",
      "3/3 [==============================] - 7s 2s/step - loss: 0.5975 - accuracy: 0.7471 - val_loss: 1.2147 - val_accuracy: 0.4667\n",
      "Epoch 23/200\n",
      "3/3 [==============================] - 8s 3s/step - loss: 0.6293 - accuracy: 0.7298 - val_loss: 1.0961 - val_accuracy: 0.5667\n",
      "Epoch 24/200\n",
      "3/3 [==============================] - 8s 3s/step - loss: 0.4890 - accuracy: 0.8564 - val_loss: 1.2102 - val_accuracy: 0.4000\n",
      "Epoch 25/200\n",
      "3/3 [==============================] - 7s 3s/step - loss: 0.5142 - accuracy: 0.8141 - val_loss: 1.1920 - val_accuracy: 0.5333\n",
      "Epoch 26/200\n",
      "3/3 [==============================] - 7s 2s/step - loss: 0.5977 - accuracy: 0.7740 - val_loss: 1.0418 - val_accuracy: 0.5667\n",
      "Epoch 27/200\n",
      "3/3 [==============================] - 8s 3s/step - loss: 0.4913 - accuracy: 0.8106 - val_loss: 1.2939 - val_accuracy: 0.5000\n",
      "Epoch 28/200\n",
      "3/3 [==============================] - 7s 2s/step - loss: 0.5774 - accuracy: 0.7505 - val_loss: 1.4072 - val_accuracy: 0.5333\n",
      "Epoch 29/200\n",
      "3/3 [==============================] - 7s 3s/step - loss: 0.5137 - accuracy: 0.7805 - val_loss: 1.1848 - val_accuracy: 0.5333\n",
      "Epoch 30/200\n",
      "3/3 [==============================] - 7s 2s/step - loss: 0.4747 - accuracy: 0.7969 - val_loss: 1.3193 - val_accuracy: 0.6000\n",
      "Epoch 31/200\n",
      "3/3 [==============================] - 7s 3s/step - loss: 0.4735 - accuracy: 0.7506 - val_loss: 1.2210 - val_accuracy: 0.5667\n",
      "Epoch 32/200\n",
      "3/3 [==============================] - 7s 2s/step - loss: 0.4612 - accuracy: 0.8007 - val_loss: 1.2284 - val_accuracy: 0.6667\n",
      "Epoch 33/200\n",
      "3/3 [==============================] - 7s 2s/step - loss: 0.4389 - accuracy: 0.8408 - val_loss: 1.3762 - val_accuracy: 0.5000\n",
      "Epoch 34/200\n",
      "3/3 [==============================] - 7s 2s/step - loss: 0.3948 - accuracy: 0.8352 - val_loss: 1.4213 - val_accuracy: 0.6000\n",
      "Epoch 35/200\n",
      "3/3 [==============================] - 7s 2s/step - loss: 0.4231 - accuracy: 0.8499 - val_loss: 1.0983 - val_accuracy: 0.5000\n",
      "Epoch 36/200\n",
      "3/3 [==============================] - 7s 2s/step - loss: 0.4395 - accuracy: 0.8124 - val_loss: 1.5193 - val_accuracy: 0.5667\n",
      "Epoch 37/200\n",
      "3/3 [==============================] - 7s 2s/step - loss: 0.5161 - accuracy: 0.7694 - val_loss: 1.4142 - val_accuracy: 0.4333\n",
      "Epoch 38/200\n",
      "3/3 [==============================] - 8s 3s/step - loss: 0.4387 - accuracy: 0.8503 - val_loss: 1.3549 - val_accuracy: 0.4667\n",
      "Epoch 00038: early stopping\n"
     ]
    },
    {
     "data": {
      "text/plain": [
       "<tensorflow.python.keras.callbacks.History at 0x19c43571880>"
      ]
     },
     "execution_count": 17,
     "metadata": {},
     "output_type": "execute_result"
    }
   ],
   "source": [
    "cnn.fit(x = training_set, validation_data = test_set, epochs = 200,callbacks=[early_stop])"
   ]
  },
  {
   "cell_type": "code",
   "execution_count": 18,
   "metadata": {},
   "outputs": [],
   "source": [
    "import pandas as pd\n",
    "import matplotlib.pyplot as plt\n",
    "modal_loss = pd.DataFrame(cnn.history.history)"
   ]
  },
  {
   "cell_type": "code",
   "execution_count": 19,
   "metadata": {},
   "outputs": [
    {
     "data": {
      "text/plain": [
       "<matplotlib.axes._subplots.AxesSubplot at 0x19c43a26610>"
      ]
     },
     "execution_count": 19,
     "metadata": {},
     "output_type": "execute_result"
    },
    {
     "data": {
      "image/png": "[encoded data removed]",
      "text/plain": [
       "<Figure size 432x288 with 1 Axes>"
      ]
     },
     "metadata": {
      "needs_background": "light"
     },
     "output_type": "display_data"
    }
   ],
   "source": [
    "modal_loss[['accuracy','val_accuracy']].plot()"
   ]
  },
  {
   "cell_type": "code",
   "execution_count": 20,
   "metadata": {},
   "outputs": [
    {
     "data": {
      "text/plain": [
       "<matplotlib.axes._subplots.AxesSubplot at 0x19c43b34460>"
      ]
     },
     "execution_count": 20,
     "metadata": {},
     "output_type": "execute_result"
    },
    {
     "data": {
      "image/png": "[encoded data removed]",
      "text/plain": [
       "<Figure size 432x288 with 1 Axes>"
      ]
     },
     "metadata": {
      "needs_background": "light"
     },
     "output_type": "display_data"
    }
   ],
   "source": [
    "modal_loss[['loss','val_loss']].plot()"
   ]
  },
  {
   "cell_type": "markdown",
   "metadata": {
    "colab_type": "text",
    "id": "U3PZasO0006Z"
   },
   "source": [
    "## Making a single prediction"
   ]
  },
  {
   "cell_type": "code",
   "execution_count": 21,
   "metadata": {
    "colab": {},
    "colab_type": "code",
    "id": "gsSiWEJY1BPB"
   },
   "outputs": [
    {
     "name": "stderr",
     "output_type": "stream",
     "text": [
      "C:\\Users\\hp\\anaconda3\\lib\\site-packages\\tensorflow\\python\\keras\\engine\\sequential.py:450: UserWarning: `model.predict_classes()` is deprecated and will be removed after 2021-01-01. Please use instead:* `np.argmax(model.predict(x), axis=-1)`,   if your model does multi-class classification   (e.g. if it uses a `softmax` last-layer activation).* `(model.predict(x) > 0.5).astype(\"int32\")`,   if your model does binary classification   (e.g. if it uses a `sigmoid` last-layer activation).\n",
      "  warnings.warn('`model.predict_classes()` is deprecated and '\n"
     ]
    },
    {
     "data": {
      "text/plain": [
       "{'Bacterial leaf blight': 0, 'Brown spot': 1, 'Leaf smut': 2}"
      ]
     },
     "execution_count": 21,
     "metadata": {},
     "output_type": "execute_result"
    }
   ],
   "source": [
    "import numpy as np\n",
    "from tensorflow.keras.preprocessing import image\n",
    "test_image = image.load_img('datasets/rice_brown_leaf.jpg', target_size = (256, 256))\n",
    "test_image = image.img_to_array(test_image)\n",
    "test_image = np.expand_dims(test_image, axis = 0)\n",
    "result = cnn.predict_classes(test_image)\n",
    "training_set.class_indices"
   ]
  },
  {
   "cell_type": "code",
   "execution_count": 22,
   "metadata": {},
   "outputs": [
    {
     "data": {
      "text/plain": [
       "array([1], dtype=int64)"
      ]
     },
     "execution_count": 22,
     "metadata": {},
     "output_type": "execute_result"
    }
   ],
   "source": [
    "result"
   ]
  },
  {
   "cell_type": "code",
   "execution_count": 23,
   "metadata": {
    "colab": {},
    "colab_type": "code",
    "id": "ED9KB3I54c1i"
   },
   "outputs": [
    {
     "name": "stdout",
     "output_type": "stream",
     "text": [
      "Brown spot\n"
     ]
    }
   ],
   "source": [
    "if result[0] == 0:\n",
    "    prediction = 'Bacterial leaf blight'\n",
    "elif result[0] == 1:\n",
    "    prediction = 'Brown spot'\n",
    "else:\n",
    "    prediction = 'Leaf smut'\n",
    "print(prediction)"
   ]
  },
  {
   "cell_type": "code",
   "execution_count": 24,
   "metadata": {},
   "outputs": [],
   "source": [
    "test_image = image.load_img('datasets/rice_Leaf_smut.jpg', target_size = (256, 256))\n",
    "test_image = image.img_to_array(test_image)\n",
    "test_image = np.expand_dims(test_image, axis = 0)\n",
    "result = cnn.predict_classes(test_image)"
   ]
  },
  {
   "cell_type": "code",
   "execution_count": 25,
   "metadata": {},
   "outputs": [
    {
     "data": {
      "text/plain": [
       "array([1], dtype=int64)"
      ]
     },
     "execution_count": 25,
     "metadata": {},
     "output_type": "execute_result"
    }
   ],
   "source": [
    "result"
   ]
  },
  {
   "cell_type": "code",
   "execution_count": 26,
   "metadata": {},
   "outputs": [
    {
     "name": "stdout",
     "output_type": "stream",
     "text": [
      "Brown spot\n"
     ]
    }
   ],
   "source": [
    "if result[0] == 0:\n",
    "    prediction = 'Bacterial leaf blight'\n",
    "elif result[0] == 1:\n",
    "    prediction = 'Brown spot'\n",
    "else:\n",
    "    prediction = 'Leaf smut'\n",
    "print(prediction)"
   ]
  },
  {
   "cell_type": "code",
   "execution_count": 27,
   "metadata": {},
   "outputs": [
    {
     "data": {
      "text/plain": [
       "array([1], dtype=int64)"
      ]
     },
     "execution_count": 27,
     "metadata": {},
     "output_type": "execute_result"
    }
   ],
   "source": [
    "test_image = image.load_img('datasets/rice_Leaf_smut1.jpg', target_size = (256, 256))\n",
    "test_image = image.img_to_array(test_image)\n",
    "test_image = np.expand_dims(test_image, axis = 0)\n",
    "result = cnn.predict_classes(test_image)\n",
    "result"
   ]
  },
  {
   "cell_type": "code",
   "execution_count": 28,
   "metadata": {},
   "outputs": [
    {
     "name": "stdout",
     "output_type": "stream",
     "text": [
      "Brown spot\n"
     ]
    }
   ],
   "source": [
    "if result[0] == 0:\n",
    "    prediction = 'Bacterial leaf blight'\n",
    "elif result[0] == 1:\n",
    "    prediction = 'Brown spot'\n",
    "else:\n",
    "    prediction = 'Leaf smut'\n",
    "print(prediction)"
   ]
  },
  {
   "cell_type": "code",
   "execution_count": 29,
   "metadata": {},
   "outputs": [
    {
     "data": {
      "text/plain": [
       "array([1], dtype=int64)"
      ]
     },
     "execution_count": 29,
     "metadata": {},
     "output_type": "execute_result"
    }
   ],
   "source": [
    "test_image = image.load_img('datasets/rice_Bacterial-leaf-blight.jpg', target_size = (256, 256))\n",
    "test_image = image.img_to_array(test_image)\n",
    "test_image = np.expand_dims(test_image, axis = 0)\n",
    "result = cnn.predict_classes(test_image)\n",
    "result"
   ]
  },
  {
   "cell_type": "code",
   "execution_count": 30,
   "metadata": {},
   "outputs": [
    {
     "name": "stdout",
     "output_type": "stream",
     "text": [
      "Brown spot\n"
     ]
    }
   ],
   "source": [
    "if result[0] == 0:\n",
    "    prediction = 'Bacterial leaf blight'\n",
    "elif result[0] == 1:\n",
    "    prediction = 'Brown spot'\n",
    "else:\n",
    "    prediction = 'Leaf smut'\n",
    "print(prediction)"
   ]
  },
  {
   "cell_type": "code",
   "execution_count": 31,
   "metadata": {},
   "outputs": [],
   "source": [
    "pred = cnn.predict_classes(test_set)"
   ]
  },
  {
   "cell_type": "code",
   "execution_count": 32,
   "metadata": {},
   "outputs": [
    {
     "data": {
      "text/plain": [
       "{'Bacterial leaf blight': 0, 'Brown spot': 1, 'Leaf smut': 2}"
      ]
     },
     "execution_count": 32,
     "metadata": {},
     "output_type": "execute_result"
    }
   ],
   "source": [
    "test_set.class_indices"
   ]
  },
  {
   "cell_type": "markdown",
   "metadata": {},
   "source": [
    "### predicted classes"
   ]
  },
  {
   "cell_type": "code",
   "execution_count": 33,
   "metadata": {},
   "outputs": [
    {
     "data": {
      "text/plain": [
       "array([2, 0, 2, 0, 0, 0, 2, 1, 2, 2, 0, 2, 0, 0, 1, 2, 1, 0, 2, 2, 2, 2,\n",
       "       2, 2, 1, 1, 1, 2, 0, 1], dtype=int64)"
      ]
     },
     "execution_count": 33,
     "metadata": {},
     "output_type": "execute_result"
    }
   ],
   "source": [
    "pred"
   ]
  },
  {
   "cell_type": "markdown",
   "metadata": {},
   "source": [
    "### correct classes"
   ]
  },
  {
   "cell_type": "code",
   "execution_count": 34,
   "metadata": {},
   "outputs": [
    {
     "data": {
      "text/plain": [
       "array([0, 0, 0, 0, 0, 0, 0, 0, 0, 0, 1, 1, 1, 1, 1, 1, 1, 1, 1, 1, 2, 2,\n",
       "       2, 2, 2, 2, 2, 2, 2, 2])"
      ]
     },
     "execution_count": 34,
     "metadata": {},
     "output_type": "execute_result"
    }
   ],
   "source": [
    "test_set.classes"
   ]
  },
  {
   "cell_type": "code",
   "execution_count": 35,
   "metadata": {},
   "outputs": [
    {
     "name": "stdout",
     "output_type": "stream",
     "text": [
      "              precision    recall  f1-score   support\n",
      "\n",
      "           0       0.44      0.40      0.42        10\n",
      "           1       0.29      0.20      0.24        10\n",
      "           2       0.36      0.50      0.42        10\n",
      "\n",
      "    accuracy                           0.37        30\n",
      "   macro avg       0.36      0.37      0.36        30\n",
      "weighted avg       0.36      0.37      0.36        30\n",
      "\n",
      "[[4 1 5]\n",
      " [4 2 4]\n",
      " [1 4 5]]\n"
     ]
    }
   ],
   "source": [
    "from sklearn.metrics import classification_report,confusion_matrix\n",
    "print(classification_report(test_set.classes,pred))\n",
    "print(confusion_matrix(test_set.classes,pred))"
   ]
  },
  {
   "cell_type": "code",
   "execution_count": 36,
   "metadata": {},
   "outputs": [
    {
     "data": {
      "text/plain": [
       "<tensorflow.python.keras.preprocessing.image.ImageDataGenerator at 0x19c4156ab80>"
      ]
     },
     "execution_count": 36,
     "metadata": {},
     "output_type": "execute_result"
    }
   ],
   "source": [
    "train_datagen"
   ]
  },
  {
   "cell_type": "code",
   "execution_count": 37,
   "metadata": {},
   "outputs": [
    {
     "data": {
      "text/plain": [
       "<tensorflow.python.keras.preprocessing.image.DirectoryIterator at 0x19c4156af10>"
      ]
     },
     "execution_count": 37,
     "metadata": {},
     "output_type": "execute_result"
    }
   ],
   "source": [
    "training_set"
   ]
  },
  {
   "cell_type": "code",
   "execution_count": 38,
   "metadata": {},
   "outputs": [
    {
     "name": "stdout",
     "output_type": "stream",
     "text": [
      "Batch shape=(32, 256, 256, 3), min=0.000, max=1.000\n"
     ]
    }
   ],
   "source": [
    "# confirm the iterator works\n",
    "batchX, batchy = training_set.next()\n",
    "print('Batch shape=%s, min=%.3f, max=%.3f' % (batchX.shape, batchX.min(), batchX.max()))"
   ]
  },
  {
   "cell_type": "code",
   "execution_count": 39,
   "metadata": {},
   "outputs": [
    {
     "name": "stdout",
     "output_type": "stream",
     "text": [
      "Model: \"sequential\"\n",
      "_________________________________________________________________\n",
      "Layer (type)                 Output Shape              Param #   \n",
      "=================================================================\n",
      "conv2d (Conv2D)              (None, 254, 254, 32)      896       \n",
      "_________________________________________________________________\n",
      "max_pooling2d (MaxPooling2D) (None, 127, 127, 32)      0         \n",
      "_________________________________________________________________\n",
      "conv2d_1 (Conv2D)            (None, 125, 125, 32)      9248      \n",
      "_________________________________________________________________\n",
      "max_pooling2d_1 (MaxPooling2 (None, 62, 62, 32)        0         \n",
      "_________________________________________________________________\n",
      "conv2d_2 (Conv2D)            (None, 60, 60, 64)        18496     \n",
      "_________________________________________________________________\n",
      "max_pooling2d_2 (MaxPooling2 (None, 30, 30, 64)        0         \n",
      "_________________________________________________________________\n",
      "flatten (Flatten)            (None, 57600)             0         \n",
      "_________________________________________________________________\n",
      "dense (Dense)                (None, 3)                 172803    \n",
      "=================================================================\n",
      "Total params: 201,443\n",
      "Trainable params: 201,443\n",
      "Non-trainable params: 0\n",
      "_________________________________________________________________\n"
     ]
    }
   ],
   "source": [
    "cnn.summary()"
   ]
  },
  {
   "cell_type": "code",
   "execution_count": null,
   "metadata": {},
   "outputs": [],
   "source": []
  }
 ],
 "metadata": {
  "colab": {
   "collapsed_sections": [],
   "name": "convolutional_neural_network.ipynb",
   "provenance": [],
   "toc_visible": true
  },
  "kernelspec": {
   "display_name": "Python 3",
   "language": "python",
   "name": "python3"
  },
  "language_info": {
   "codemirror_mode": {
    "name": "ipython",
    "version": 3
   },
   "file_extension": ".py",
   "mimetype": "text/x-python",
   "name": "python",
   "nbconvert_exporter": "python",
   "pygments_lexer": "ipython3",
   "version": "3.8.3"
  }
 },
 "nbformat": 4,
 "nbformat_minor": 1
}
