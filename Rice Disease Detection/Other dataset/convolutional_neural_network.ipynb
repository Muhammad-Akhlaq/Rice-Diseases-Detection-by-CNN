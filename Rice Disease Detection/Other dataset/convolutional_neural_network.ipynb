{
 "cells": [
  {
   "cell_type": "markdown",
   "metadata": {
    "colab_type": "text",
    "id": "3DR-eO17geWu"
   },
   "source": [
    "# Convolutional Neural Network"
   ]
  },
  {
   "cell_type": "code",
   "execution_count": 1,
   "metadata": {
    "colab": {},
    "colab_type": "code",
    "id": "sCV30xyVhFbE"
   },
   "outputs": [],
   "source": [
    "from tensorflow.keras.preprocessing.image import ImageDataGenerator"
   ]
  },
  {
   "cell_type": "markdown",
   "metadata": {
    "colab_type": "text",
    "id": "MvE-heJNo3GG"
   },
   "source": [
    "## Preprocessing"
   ]
  },
  {
   "cell_type": "code",
   "execution_count": 2,
   "metadata": {
    "colab": {},
    "colab_type": "code",
    "id": "0koUcJMJpEBD"
   },
   "outputs": [
    {
     "name": "stdout",
     "output_type": "stream",
     "text": [
      "Found 5951 images belonging to 4 classes.\n"
     ]
    }
   ],
   "source": [
    "train_datagen = ImageDataGenerator(rescale = 1./255,\n",
    "                                   shear_range = 0.2,\n",
    "                                   zoom_range = 0.2,\n",
    "                                   width_shift_range=0.2,\n",
    "                                   height_shift_range=0.2,\n",
    "                                   horizontal_flip = True,\n",
    "                                  vertical_flip=True)\n",
    "training_set = train_datagen.flow_from_directory('datasets/train')"
   ]
  },
  {
   "cell_type": "code",
   "execution_count": 3,
   "metadata": {
    "colab": {},
    "colab_type": "code",
    "id": "SH4WzfOhpKc3"
   },
   "outputs": [
    {
     "name": "stdout",
     "output_type": "stream",
     "text": [
      "Found 159 images belonging to 4 classes.\n"
     ]
    }
   ],
   "source": [
    "test_datagen = ImageDataGenerator(rescale = 1./255,\n",
    "                                   shear_range = 0.2,\n",
    "                                   zoom_range = 0.2,\n",
    "                                  width_shift_range=0.2,\n",
    "                                   height_shift_range=0.2,\n",
    "                                   horizontal_flip = True,\n",
    "                                 vertical_flip=True)\n",
    "test_set = test_datagen.flow_from_directory('datasets/test')"
   ]
  },
  {
   "cell_type": "code",
   "execution_count": 4,
   "metadata": {},
   "outputs": [],
   "source": [
    "import matplotlib.image as img"
   ]
  },
  {
   "cell_type": "code",
   "execution_count": 5,
   "metadata": {},
   "outputs": [
    {
     "data": {
      "text/plain": [
       "(256, 256, 3)"
      ]
     },
     "execution_count": 5,
     "metadata": {},
     "output_type": "execute_result"
    }
   ],
   "source": [
    "training_set.image_shape"
   ]
  },
  {
   "cell_type": "markdown",
   "metadata": {
    "colab_type": "text",
    "id": "af8O4l90gk7B"
   },
   "source": [
    "## Building the CNN"
   ]
  },
  {
   "cell_type": "code",
   "execution_count": 6,
   "metadata": {},
   "outputs": [],
   "source": [
    "from tensorflow.keras.models import Sequential\n",
    "from tensorflow.keras.layers import Conv2D,MaxPool2D,Flatten,Dense,Dropout\n",
    "from tensorflow.keras.callbacks import EarlyStopping"
   ]
  },
  {
   "cell_type": "code",
   "execution_count": 7,
   "metadata": {
    "colab": {},
    "colab_type": "code",
    "id": "SAUt4UMPlhLS"
   },
   "outputs": [],
   "source": [
    "cnn = Sequential()"
   ]
  },
  {
   "cell_type": "code",
   "execution_count": 8,
   "metadata": {
    "colab": {},
    "colab_type": "code",
    "id": "XPzPrMckl-hV"
   },
   "outputs": [],
   "source": [
    "cnn.add(Conv2D(filters=32, kernel_size=3, activation='relu',input_shape=[256, 256, 3]))"
   ]
  },
  {
   "cell_type": "code",
   "execution_count": 9,
   "metadata": {
    "colab": {},
    "colab_type": "code",
    "id": "ncpqPl69mOac"
   },
   "outputs": [],
   "source": [
    "cnn.add(MaxPool2D(pool_size=(2, 2), strides=(2, 2)))"
   ]
  },
  {
   "cell_type": "code",
   "execution_count": 10,
   "metadata": {
    "colab": {},
    "colab_type": "code",
    "id": "i_-FZjn_m8gk"
   },
   "outputs": [],
   "source": [
    "cnn.add(Conv2D(filters=32, kernel_size=3, activation='relu'))\n",
    "cnn.add(MaxPool2D(pool_size=(2, 2), strides=(2, 2)))\n",
    "\n",
    "cnn.add(Conv2D(filters=64, kernel_size=3, activation='relu'))\n",
    "cnn.add(MaxPool2D(pool_size=(2, 2), strides=(2, 2)))"
   ]
  },
  {
   "cell_type": "code",
   "execution_count": 11,
   "metadata": {
    "colab": {},
    "colab_type": "code",
    "id": "6AZeOGCvnNZn"
   },
   "outputs": [],
   "source": [
    "cnn.add(Flatten())"
   ]
  },
  {
   "cell_type": "code",
   "execution_count": 12,
   "metadata": {
    "colab": {},
    "colab_type": "code",
    "id": "8GtmUlLd26Nq"
   },
   "outputs": [
    {
     "data": {
      "text/plain": [
       "\"\\ncnn.add(Dense(32, activation='relu'))\\ncnn.add(Dense(16, activation='relu'))\\ncnn.add(Dense(8, activation='relu'))\\n\""
      ]
     },
     "execution_count": 12,
     "metadata": {},
     "output_type": "execute_result"
    }
   ],
   "source": [
    "cnn.add(Dense(64, activation='relu'))\n",
    "\"\"\"\n",
    "cnn.add(Dense(32, activation='relu'))\n",
    "cnn.add(Dense(16, activation='relu'))\n",
    "cnn.add(Dense(8, activation='relu'))\n",
    "\"\"\""
   ]
  },
  {
   "cell_type": "code",
   "execution_count": 13,
   "metadata": {
    "colab": {},
    "colab_type": "code",
    "id": "1p_Zj1Mc3Ko_"
   },
   "outputs": [],
   "source": [
    "cnn.add(Dense(4, activation='softmax'))"
   ]
  },
  {
   "cell_type": "code",
   "execution_count": 14,
   "metadata": {
    "colab": {},
    "colab_type": "code",
    "id": "NALksrNQpUlJ"
   },
   "outputs": [],
   "source": [
    "cnn.compile(optimizer = 'adam', loss = 'categorical_crossentropy', metrics = ['accuracy'])"
   ]
  },
  {
   "cell_type": "code",
   "execution_count": 15,
   "metadata": {},
   "outputs": [],
   "source": [
    "early_stop = EarlyStopping(monitor='val_loss',mode='min',verbose=1,patience=25)"
   ]
  },
  {
   "cell_type": "code",
   "execution_count": 16,
   "metadata": {
    "colab": {},
    "colab_type": "code",
    "id": "XUj1W4PJptta",
    "scrolled": true
   },
   "outputs": [
    {
     "name": "stdout",
     "output_type": "stream",
     "text": [
      "Epoch 1/200\n",
      "188/188 [==============================] - 244s 1s/step - loss: 1.0693 - accuracy: 0.5522 - val_loss: 2.7301 - val_accuracy: 0.3774\n",
      "Epoch 2/200\n",
      "188/188 [==============================] - 241s 1s/step - loss: 0.5174 - accuracy: 0.8069 - val_loss: 3.7928 - val_accuracy: 0.4340\n",
      "Epoch 3/200\n",
      "188/188 [==============================] - 241s 1s/step - loss: 0.3555 - accuracy: 0.8579 - val_loss: 3.8454 - val_accuracy: 0.4340\n",
      "Epoch 4/200\n",
      "188/188 [==============================] - 241s 1s/step - loss: 0.2772 - accuracy: 0.8957 - val_loss: 2.5873 - val_accuracy: 0.3899\n",
      "Epoch 5/200\n",
      "188/188 [==============================] - 240s 1s/step - loss: 0.2853 - accuracy: 0.8959 - val_loss: 4.6497 - val_accuracy: 0.4591\n",
      "Epoch 6/200\n",
      "188/188 [==============================] - 241s 1s/step - loss: 0.2139 - accuracy: 0.9169 - val_loss: 4.9842 - val_accuracy: 0.4340\n",
      "Epoch 7/200\n",
      "188/188 [==============================] - 241s 1s/step - loss: 0.1716 - accuracy: 0.9377 - val_loss: 7.3831 - val_accuracy: 0.4277\n",
      "Epoch 8/200\n",
      "188/188 [==============================] - 241s 1s/step - loss: 0.1438 - accuracy: 0.9439 - val_loss: 10.3566 - val_accuracy: 0.4277\n",
      "Epoch 9/200\n",
      "188/188 [==============================] - 242s 1s/step - loss: 0.1277 - accuracy: 0.9519 - val_loss: 6.0686 - val_accuracy: 0.4465\n",
      "Epoch 10/200\n",
      "188/188 [==============================] - 242s 1s/step - loss: 0.1041 - accuracy: 0.9620 - val_loss: 7.8540 - val_accuracy: 0.4717\n",
      "Epoch 11/200\n",
      "188/188 [==============================] - 242s 1s/step - loss: 0.0999 - accuracy: 0.9654 - val_loss: 6.6506 - val_accuracy: 0.4465\n",
      "Epoch 12/200\n",
      "188/188 [==============================] - 241s 1s/step - loss: 0.1043 - accuracy: 0.9624 - val_loss: 7.3713 - val_accuracy: 0.4528\n",
      "Epoch 13/200\n",
      "188/188 [==============================] - 241s 1s/step - loss: 0.0813 - accuracy: 0.9724 - val_loss: 10.4256 - val_accuracy: 0.4717\n",
      "Epoch 14/200\n",
      "188/188 [==============================] - 229s 1s/step - loss: 0.0689 - accuracy: 0.9771 - val_loss: 11.7275 - val_accuracy: 0.4591\n",
      "Epoch 15/200\n",
      "188/188 [==============================] - 227s 1s/step - loss: 0.1217 - accuracy: 0.9611 - val_loss: 13.3686 - val_accuracy: 0.4654\n",
      "Epoch 16/200\n",
      "188/188 [==============================] - 227s 1s/step - loss: 0.0537 - accuracy: 0.9817 - val_loss: 12.3674 - val_accuracy: 0.4843\n",
      "Epoch 17/200\n",
      "188/188 [==============================] - 240s 1s/step - loss: 0.0906 - accuracy: 0.9703 - val_loss: 5.1464 - val_accuracy: 0.5031\n",
      "Epoch 18/200\n",
      "188/188 [==============================] - 240s 1s/step - loss: 0.1124 - accuracy: 0.9575 - val_loss: 9.6123 - val_accuracy: 0.4843\n",
      "Epoch 19/200\n",
      "188/188 [==============================] - 241s 1s/step - loss: 0.0449 - accuracy: 0.9844 - val_loss: 14.1293 - val_accuracy: 0.4591\n",
      "Epoch 20/200\n",
      "188/188 [==============================] - 241s 1s/step - loss: 0.0614 - accuracy: 0.9774 - val_loss: 11.9769 - val_accuracy: 0.4717\n",
      "Epoch 21/200\n",
      "188/188 [==============================] - 242s 1s/step - loss: 0.0340 - accuracy: 0.9873 - val_loss: 9.3261 - val_accuracy: 0.4780\n",
      "Epoch 22/200\n",
      "188/188 [==============================] - 241s 1s/step - loss: 0.0368 - accuracy: 0.9872 - val_loss: 8.7755 - val_accuracy: 0.4654\n",
      "Epoch 23/200\n",
      "188/188 [==============================] - 241s 1s/step - loss: 0.1389 - accuracy: 0.9480 - val_loss: 12.5612 - val_accuracy: 0.4654\n",
      "Epoch 24/200\n",
      "188/188 [==============================] - 241s 1s/step - loss: 0.0336 - accuracy: 0.9874 - val_loss: 14.4480 - val_accuracy: 0.4465\n",
      "Epoch 25/200\n",
      "188/188 [==============================] - 240s 1s/step - loss: 0.0538 - accuracy: 0.9815 - val_loss: 13.1519 - val_accuracy: 0.4780\n",
      "Epoch 26/200\n",
      "188/188 [==============================] - 241s 1s/step - loss: 0.0443 - accuracy: 0.9855 - val_loss: 13.6035 - val_accuracy: 0.5031\n",
      "Epoch 27/200\n",
      "188/188 [==============================] - 241s 1s/step - loss: 0.0359 - accuracy: 0.9870 - val_loss: 17.3606 - val_accuracy: 0.4969\n",
      "Epoch 28/200\n",
      "188/188 [==============================] - 246s 1s/step - loss: 0.0282 - accuracy: 0.9919 - val_loss: 19.2253 - val_accuracy: 0.4843\n",
      "Epoch 29/200\n",
      "188/188 [==============================] - 391s 2s/step - loss: 0.0580 - accuracy: 0.9806 - val_loss: 11.2459 - val_accuracy: 0.4717\n",
      "Epoch 00029: early stopping\n"
     ]
    },
    {
     "data": {
      "text/plain": [
       "<tensorflow.python.keras.callbacks.History at 0x1c3b6066d00>"
      ]
     },
     "execution_count": 16,
     "metadata": {},
     "output_type": "execute_result"
    }
   ],
   "source": [
    "cnn.fit(x = training_set, validation_data = test_set, epochs = 200,callbacks=[early_stop])"
   ]
  },
  {
   "cell_type": "code",
   "execution_count": 17,
   "metadata": {},
   "outputs": [],
   "source": [
    "import pandas as pd\n",
    "import matplotlib.pyplot as plt\n",
    "modal_loss = pd.DataFrame(cnn.history.history)"
   ]
  },
  {
   "cell_type": "code",
   "execution_count": 18,
   "metadata": {},
   "outputs": [
    {
     "data": {
      "text/plain": [
       "<matplotlib.axes._subplots.AxesSubplot at 0x1c3b648a370>"
      ]
     },
     "execution_count": 18,
     "metadata": {},
     "output_type": "execute_result"
    },
    {
     "data": {
      "image/png": "[encoded data removed]",
      "text/plain": [
       "<Figure size 432x288 with 1 Axes>"
      ]
     },
     "metadata": {
      "needs_background": "light"
     },
     "output_type": "display_data"
    }
   ],
   "source": [
    "modal_loss[['accuracy','val_accuracy']].plot()"
   ]
  },
  {
   "cell_type": "code",
   "execution_count": 19,
   "metadata": {},
   "outputs": [
    {
     "data": {
      "text/plain": [
       "<matplotlib.axes._subplots.AxesSubplot at 0x1c3b6550940>"
      ]
     },
     "execution_count": 19,
     "metadata": {},
     "output_type": "execute_result"
    },
    {
     "data": {
      "image/png": "[encoded data removed]",
      "text/plain": [
       "<Figure size 432x288 with 1 Axes>"
      ]
     },
     "metadata": {
      "needs_background": "light"
     },
     "output_type": "display_data"
    }
   ],
   "source": [
    "modal_loss[['loss','val_loss']].plot()"
   ]
  },
  {
   "cell_type": "markdown",
   "metadata": {},
   "source": [
    "## Adding Dropout to decrease overfitting"
   ]
  },
  {
   "cell_type": "code",
   "execution_count": 20,
   "metadata": {},
   "outputs": [],
   "source": [
    "cnn = Sequential()\n",
    "cnn.add(Conv2D(filters=32, kernel_size=3, activation='relu',input_shape=[256, 256, 3]))\n",
    "cnn.add(MaxPool2D(pool_size=(2, 2), strides=(2, 2)))\n",
    "cnn.add(Conv2D(filters=32, kernel_size=3, activation='relu'))\n",
    "cnn.add(MaxPool2D(pool_size=(2, 2), strides=(2, 2)))\n",
    "cnn.add(Conv2D(filters=64, kernel_size=3, activation='relu'))\n",
    "cnn.add(MaxPool2D(pool_size=(2, 2), strides=(2, 2)))\n",
    "\n",
    "cnn.add(Flatten())\n",
    "\n",
    "cnn.add(Dense(64, activation='relu'))\n",
    "cnn.add(Dropout(0.5))\n",
    "\"\"\"\n",
    "cnn.add(Dense(32, activation='relu'))\n",
    "cnn.add(Dropout(0.2))\n",
    "cnn.add(Dense(16, activation='relu'))\n",
    "cnn.add(Dropout(0.2))\n",
    "cnn.add(Dense(8, activation='relu'))\n",
    "\"\"\"\n",
    "cnn.add(Dense(4, activation='softmax'))"
   ]
  },
  {
   "cell_type": "code",
   "execution_count": 21,
   "metadata": {},
   "outputs": [],
   "source": [
    "cnn.compile(optimizer = 'adam', loss = 'categorical_crossentropy', metrics = ['accuracy'])"
   ]
  },
  {
   "cell_type": "code",
   "execution_count": 22,
   "metadata": {
    "scrolled": true
   },
   "outputs": [
    {
     "name": "stdout",
     "output_type": "stream",
     "text": [
      "Epoch 1/200\n",
      "188/188 [==============================] - 309s 2s/step - loss: 1.4908 - accuracy: 0.4229 - val_loss: 2.9458 - val_accuracy: 0.4528\n",
      "Epoch 2/200\n",
      "188/188 [==============================] - 256s 1s/step - loss: 0.6875 - accuracy: 0.7328 - val_loss: 3.3784 - val_accuracy: 0.4340\n",
      "Epoch 3/200\n",
      "188/188 [==============================] - 246s 1s/step - loss: 0.6262 - accuracy: 0.7668 - val_loss: 3.3099 - val_accuracy: 0.3899\n",
      "Epoch 4/200\n",
      "188/188 [==============================] - 251s 1s/step - loss: 0.4650 - accuracy: 0.8244 - val_loss: 5.5709 - val_accuracy: 0.4214\n",
      "Epoch 5/200\n",
      "188/188 [==============================] - 244s 1s/step - loss: 0.4509 - accuracy: 0.8198 - val_loss: 7.5610 - val_accuracy: 0.3711\n",
      "Epoch 6/200\n",
      "188/188 [==============================] - 241s 1s/step - loss: 0.3772 - accuracy: 0.8564 - val_loss: 4.3101 - val_accuracy: 0.4214\n",
      "Epoch 7/200\n",
      "188/188 [==============================] - 253s 1s/step - loss: 0.3298 - accuracy: 0.8734 - val_loss: 11.1503 - val_accuracy: 0.4151\n",
      "Epoch 8/200\n",
      "188/188 [==============================] - 255s 1s/step - loss: 0.3105 - accuracy: 0.8846 - val_loss: 9.3999 - val_accuracy: 0.4151\n",
      "Epoch 9/200\n",
      "188/188 [==============================] - 255s 1s/step - loss: 0.2443 - accuracy: 0.9091 - val_loss: 6.2272 - val_accuracy: 0.4277\n",
      "Epoch 10/200\n",
      "188/188 [==============================] - 246s 1s/step - loss: 0.2394 - accuracy: 0.9111 - val_loss: 4.9179 - val_accuracy: 0.4088\n",
      "Epoch 11/200\n",
      "188/188 [==============================] - 245s 1s/step - loss: 0.2534 - accuracy: 0.9044 - val_loss: 9.8724 - val_accuracy: 0.4340\n",
      "Epoch 12/200\n",
      "188/188 [==============================] - 260s 1s/step - loss: 0.2285 - accuracy: 0.9153 - val_loss: 7.7669 - val_accuracy: 0.4277\n",
      "Epoch 13/200\n",
      "188/188 [==============================] - 246s 1s/step - loss: 0.2014 - accuracy: 0.9222 - val_loss: 9.8620 - val_accuracy: 0.4528\n",
      "Epoch 14/200\n",
      "188/188 [==============================] - 260s 1s/step - loss: 0.2139 - accuracy: 0.9153 - val_loss: 7.3494 - val_accuracy: 0.3962\n",
      "Epoch 15/200\n",
      "188/188 [==============================] - 253s 1s/step - loss: 0.2171 - accuracy: 0.9151 - val_loss: 12.0441 - val_accuracy: 0.4151\n",
      "Epoch 16/200\n",
      "188/188 [==============================] - 249s 1s/step - loss: 0.1821 - accuracy: 0.9253 - val_loss: 8.5060 - val_accuracy: 0.4151\n",
      "Epoch 17/200\n",
      "188/188 [==============================] - 257s 1s/step - loss: 0.1732 - accuracy: 0.9334 - val_loss: 6.3038 - val_accuracy: 0.4465\n",
      "Epoch 18/200\n",
      "188/188 [==============================] - 258s 1s/step - loss: 0.1718 - accuracy: 0.9359 - val_loss: 11.4425 - val_accuracy: 0.4277\n",
      "Epoch 19/200\n",
      "188/188 [==============================] - 253s 1s/step - loss: 0.1626 - accuracy: 0.9374 - val_loss: 11.0315 - val_accuracy: 0.4654\n",
      "Epoch 20/200\n",
      "188/188 [==============================] - 252s 1s/step - loss: 0.1793 - accuracy: 0.9337 - val_loss: 8.0680 - val_accuracy: 0.4340\n",
      "Epoch 21/200\n",
      "188/188 [==============================] - 252s 1s/step - loss: 0.1651 - accuracy: 0.9444 - val_loss: 10.8035 - val_accuracy: 0.4465\n",
      "Epoch 22/200\n",
      "188/188 [==============================] - 253s 1s/step - loss: 0.1371 - accuracy: 0.9526 - val_loss: 14.2026 - val_accuracy: 0.4403\n",
      "Epoch 23/200\n",
      "188/188 [==============================] - 252s 1s/step - loss: 0.1199 - accuracy: 0.9596 - val_loss: 11.7274 - val_accuracy: 0.4277\n",
      "Epoch 24/200\n",
      "188/188 [==============================] - 251s 1s/step - loss: 0.1557 - accuracy: 0.9434 - val_loss: 11.2166 - val_accuracy: 0.4591\n",
      "Epoch 25/200\n",
      "188/188 [==============================] - 252s 1s/step - loss: 0.1291 - accuracy: 0.9557 - val_loss: 13.2485 - val_accuracy: 0.4340\n",
      "Epoch 26/200\n",
      "188/188 [==============================] - 252s 1s/step - loss: 0.1343 - accuracy: 0.9493 - val_loss: 14.2564 - val_accuracy: 0.4717\n",
      "Epoch 00026: early stopping\n"
     ]
    },
    {
     "data": {
      "text/plain": [
       "<tensorflow.python.keras.callbacks.History at 0x1c3b65e9370>"
      ]
     },
     "execution_count": 22,
     "metadata": {},
     "output_type": "execute_result"
    }
   ],
   "source": [
    "cnn.fit(x = training_set, validation_data = test_set, epochs = 200,callbacks=[early_stop])"
   ]
  },
  {
   "cell_type": "code",
   "execution_count": 23,
   "metadata": {},
   "outputs": [
    {
     "data": {
      "text/plain": [
       "<matplotlib.axes._subplots.AxesSubplot at 0x1c3b6066e80>"
      ]
     },
     "execution_count": 23,
     "metadata": {},
     "output_type": "execute_result"
    },
    {
     "data": {
      "image/png": "[encoded data removed]",
      "text/plain": [
       "<Figure size 432x288 with 1 Axes>"
      ]
     },
     "metadata": {
      "needs_background": "light"
     },
     "output_type": "display_data"
    }
   ],
   "source": [
    "modal_loss = pd.DataFrame(cnn.history.history)\n",
    "modal_loss[['accuracy','val_accuracy']].plot()"
   ]
  },
  {
   "cell_type": "code",
   "execution_count": 24,
   "metadata": {},
   "outputs": [
    {
     "data": {
      "text/plain": [
       "<matplotlib.axes._subplots.AxesSubplot at 0x1c3b3eec970>"
      ]
     },
     "execution_count": 24,
     "metadata": {},
     "output_type": "execute_result"
    },
    {
     "data": {
      "image/png": "[encoded data removed]",
      "text/plain": [
       "<Figure size 432x288 with 1 Axes>"
      ]
     },
     "metadata": {
      "needs_background": "light"
     },
     "output_type": "display_data"
    }
   ],
   "source": [
    "modal_loss[['loss','val_loss']].plot()"
   ]
  },
  {
   "cell_type": "markdown",
   "metadata": {
    "colab_type": "text",
    "id": "U3PZasO0006Z"
   },
   "source": [
    "## Making a single prediction"
   ]
  },
  {
   "cell_type": "code",
   "execution_count": 25,
   "metadata": {
    "colab": {},
    "colab_type": "code",
    "id": "gsSiWEJY1BPB"
   },
   "outputs": [
    {
     "name": "stderr",
     "output_type": "stream",
     "text": [
      "C:\\Users\\hp\\anaconda3\\lib\\site-packages\\tensorflow\\python\\keras\\engine\\sequential.py:450: UserWarning: `model.predict_classes()` is deprecated and will be removed after 2021-01-01. Please use instead:* `np.argmax(model.predict(x), axis=-1)`,   if your model does multi-class classification   (e.g. if it uses a `softmax` last-layer activation).* `(model.predict(x) > 0.5).astype(\"int32\")`,   if your model does binary classification   (e.g. if it uses a `sigmoid` last-layer activation).\n",
      "  warnings.warn('`model.predict_classes()` is deprecated and '\n"
     ]
    },
    {
     "data": {
      "text/plain": [
       "{'Bacterial leaf blight': 0, 'Blast': 1, 'Brown spot': 2, 'Leaf smut': 3}"
      ]
     },
     "execution_count": 25,
     "metadata": {},
     "output_type": "execute_result"
    }
   ],
   "source": [
    "import numpy as np\n",
    "from tensorflow.keras.preprocessing import image\n",
    "test_image = image.load_img('datasets/rice_brown_leaf.jpg', target_size = (256, 256))\n",
    "test_image = image.img_to_array(test_image)\n",
    "test_image = np.expand_dims(test_image, axis = 0)\n",
    "result = cnn.predict_classes(test_image)\n",
    "training_set.class_indices"
   ]
  },
  {
   "cell_type": "code",
   "execution_count": 26,
   "metadata": {},
   "outputs": [
    {
     "data": {
      "text/plain": [
       "array([3], dtype=int64)"
      ]
     },
     "execution_count": 26,
     "metadata": {},
     "output_type": "execute_result"
    }
   ],
   "source": [
    "result"
   ]
  },
  {
   "cell_type": "code",
   "execution_count": 27,
   "metadata": {
    "colab": {},
    "colab_type": "code",
    "id": "ED9KB3I54c1i"
   },
   "outputs": [
    {
     "name": "stdout",
     "output_type": "stream",
     "text": [
      "Leaf smut\n"
     ]
    }
   ],
   "source": [
    "if result[0] == 0:\n",
    "    prediction = 'Bacterial leaf blight'\n",
    "elif result[0] == 1:\n",
    "    prediction = 'Brown spot'\n",
    "else:\n",
    "    prediction = 'Leaf smut'\n",
    "print(prediction)"
   ]
  },
  {
   "cell_type": "code",
   "execution_count": 28,
   "metadata": {},
   "outputs": [],
   "source": [
    "test_image = image.load_img('datasets/rice_Leaf_smut.jpg', target_size = (256, 256))\n",
    "test_image = image.img_to_array(test_image)\n",
    "test_image = np.expand_dims(test_image, axis = 0)\n",
    "result = cnn.predict_classes(test_image)"
   ]
  },
  {
   "cell_type": "code",
   "execution_count": 29,
   "metadata": {},
   "outputs": [
    {
     "data": {
      "text/plain": [
       "array([3], dtype=int64)"
      ]
     },
     "execution_count": 29,
     "metadata": {},
     "output_type": "execute_result"
    }
   ],
   "source": [
    "result"
   ]
  },
  {
   "cell_type": "code",
   "execution_count": 30,
   "metadata": {},
   "outputs": [
    {
     "name": "stdout",
     "output_type": "stream",
     "text": [
      "Leaf smut\n"
     ]
    }
   ],
   "source": [
    "if result[0] == 0:\n",
    "    prediction = 'Bacterial leaf blight'\n",
    "elif result[0] == 1:\n",
    "    prediction = 'Brown spot'\n",
    "else:\n",
    "    prediction = 'Leaf smut'\n",
    "print(prediction)"
   ]
  },
  {
   "cell_type": "code",
   "execution_count": 31,
   "metadata": {},
   "outputs": [
    {
     "data": {
      "text/plain": [
       "array([3], dtype=int64)"
      ]
     },
     "execution_count": 31,
     "metadata": {},
     "output_type": "execute_result"
    }
   ],
   "source": [
    "test_image = image.load_img('datasets/rice_Leaf_smut1.jpg', target_size = (256, 256))\n",
    "test_image = image.img_to_array(test_image)\n",
    "test_image = np.expand_dims(test_image, axis = 0)\n",
    "result = cnn.predict_classes(test_image)\n",
    "result"
   ]
  },
  {
   "cell_type": "code",
   "execution_count": 32,
   "metadata": {},
   "outputs": [
    {
     "name": "stdout",
     "output_type": "stream",
     "text": [
      "Leaf smut\n"
     ]
    }
   ],
   "source": [
    "if result[0] == 0:\n",
    "    prediction = 'Bacterial leaf blight'\n",
    "elif result[0] == 1:\n",
    "    prediction = 'Brown spot'\n",
    "else:\n",
    "    prediction = 'Leaf smut'\n",
    "print(prediction)"
   ]
  },
  {
   "cell_type": "code",
   "execution_count": 33,
   "metadata": {},
   "outputs": [
    {
     "data": {
      "text/plain": [
       "array([3], dtype=int64)"
      ]
     },
     "execution_count": 33,
     "metadata": {},
     "output_type": "execute_result"
    }
   ],
   "source": [
    "test_image = image.load_img('datasets/rice_Bacterial-leaf-blight.jpg', target_size = (256, 256))\n",
    "test_image = image.img_to_array(test_image)\n",
    "test_image = np.expand_dims(test_image, axis = 0)\n",
    "result = cnn.predict_classes(test_image)\n",
    "result"
   ]
  },
  {
   "cell_type": "code",
   "execution_count": 34,
   "metadata": {},
   "outputs": [
    {
     "name": "stdout",
     "output_type": "stream",
     "text": [
      "Leaf smut\n"
     ]
    }
   ],
   "source": [
    "if result[0] == 0:\n",
    "    prediction = 'Bacterial leaf blight'\n",
    "elif result[0] == 1:\n",
    "    prediction = 'Brown spot'\n",
    "else:\n",
    "    prediction = 'Leaf smut'\n",
    "print(prediction)"
   ]
  },
  {
   "cell_type": "code",
   "execution_count": 35,
   "metadata": {},
   "outputs": [],
   "source": [
    "pred = cnn.predict_classes(test_set)"
   ]
  },
  {
   "cell_type": "code",
   "execution_count": 36,
   "metadata": {},
   "outputs": [
    {
     "data": {
      "text/plain": [
       "{'Bacterial leaf blight': 0, 'Blast': 1, 'Brown spot': 2, 'Leaf smut': 3}"
      ]
     },
     "execution_count": 36,
     "metadata": {},
     "output_type": "execute_result"
    }
   ],
   "source": [
    "test_set.class_indices"
   ]
  },
  {
   "cell_type": "markdown",
   "metadata": {},
   "source": [
    "### predicted classes"
   ]
  },
  {
   "cell_type": "code",
   "execution_count": 37,
   "metadata": {},
   "outputs": [
    {
     "data": {
      "text/plain": [
       "array([3, 3, 3, 1, 1, 1, 3, 3, 1, 1, 3, 0, 1, 1, 3, 3, 3, 3, 1, 3, 3, 3,\n",
       "       3, 3, 1, 1, 3, 3, 1, 3, 3, 3, 3, 3, 3, 3, 1, 3, 3, 1, 3, 3, 3, 3,\n",
       "       1, 1, 3, 1, 1, 3, 3, 3, 1, 3, 3, 1, 3, 3, 3, 3, 3, 3, 1, 1, 1, 3,\n",
       "       1, 3, 1, 0, 3, 3, 3, 1, 3, 3, 3, 3, 3, 3, 0, 3, 3, 3, 3, 3, 3, 3,\n",
       "       3, 1, 3, 1, 3, 3, 3, 3, 1, 3, 1, 3, 3, 1, 3, 3, 3, 3, 3, 3, 3, 3,\n",
       "       3, 3, 3, 3, 3, 1, 1, 3, 3, 3, 3, 3, 1, 3, 1, 3, 3, 1, 1, 3, 3, 3,\n",
       "       1, 3, 1, 3, 3, 3, 3, 1, 3, 0, 3, 3, 1, 3, 1, 3, 3, 2, 3, 3, 3, 1,\n",
       "       3, 3, 3, 3, 3], dtype=int64)"
      ]
     },
     "execution_count": 37,
     "metadata": {},
     "output_type": "execute_result"
    }
   ],
   "source": [
    "pred"
   ]
  },
  {
   "cell_type": "markdown",
   "metadata": {},
   "source": [
    "### correct classes"
   ]
  },
  {
   "cell_type": "code",
   "execution_count": 38,
   "metadata": {},
   "outputs": [
    {
     "data": {
      "text/plain": [
       "array([0, 0, 0, 0, 0, 0, 0, 0, 0, 0, 0, 0, 0, 0, 0, 0, 0, 0, 0, 0, 0, 0,\n",
       "       0, 0, 0, 0, 0, 0, 0, 0, 0, 0, 0, 0, 0, 0, 0, 0, 0, 0, 1, 1, 1, 1,\n",
       "       1, 1, 1, 1, 1, 1, 1, 1, 1, 1, 1, 1, 1, 1, 1, 1, 1, 1, 1, 1, 1, 1,\n",
       "       1, 1, 1, 1, 1, 1, 1, 1, 1, 1, 1, 1, 1, 1, 2, 2, 2, 2, 2, 2, 2, 2,\n",
       "       2, 2, 2, 2, 2, 2, 2, 2, 2, 2, 2, 2, 2, 2, 2, 2, 2, 2, 2, 2, 2, 2,\n",
       "       2, 2, 2, 2, 2, 2, 2, 2, 2, 2, 3, 3, 3, 3, 3, 3, 3, 3, 3, 3, 3, 3,\n",
       "       3, 3, 3, 3, 3, 3, 3, 3, 3, 3, 3, 3, 3, 3, 3, 3, 3, 3, 3, 3, 3, 3,\n",
       "       3, 3, 3, 3, 3])"
      ]
     },
     "execution_count": 38,
     "metadata": {},
     "output_type": "execute_result"
    }
   ],
   "source": [
    "test_set.classes"
   ]
  },
  {
   "cell_type": "code",
   "execution_count": 39,
   "metadata": {},
   "outputs": [
    {
     "name": "stdout",
     "output_type": "stream",
     "text": [
      "              precision    recall  f1-score   support\n",
      "\n",
      "           0       0.25      0.03      0.05        40\n",
      "           1       0.29      0.30      0.29        40\n",
      "           2       0.00      0.00      0.00        40\n",
      "           3       0.24      0.69      0.36        39\n",
      "\n",
      "    accuracy                           0.25       159\n",
      "   macro avg       0.19      0.25      0.17       159\n",
      "weighted avg       0.19      0.25      0.17       159\n",
      "\n",
      "[[ 1 13  0 26]\n",
      " [ 1 12  0 27]\n",
      " [ 1  7  0 32]\n",
      " [ 1 10  1 27]]\n"
     ]
    }
   ],
   "source": [
    "from sklearn.metrics import classification_report,confusion_matrix\n",
    "print(classification_report(test_set.classes,pred))\n",
    "print(confusion_matrix(test_set.classes,pred))"
   ]
  },
  {
   "cell_type": "code",
   "execution_count": 40,
   "metadata": {},
   "outputs": [
    {
     "data": {
      "text/plain": [
       "<tensorflow.python.keras.preprocessing.image.ImageDataGenerator at 0x1c38a7a2970>"
      ]
     },
     "execution_count": 40,
     "metadata": {},
     "output_type": "execute_result"
    }
   ],
   "source": [
    "train_datagen"
   ]
  },
  {
   "cell_type": "code",
   "execution_count": 41,
   "metadata": {},
   "outputs": [
    {
     "data": {
      "text/plain": [
       "<tensorflow.python.keras.preprocessing.image.DirectoryIterator at 0x1c3b3f3bfa0>"
      ]
     },
     "execution_count": 41,
     "metadata": {},
     "output_type": "execute_result"
    }
   ],
   "source": [
    "training_set"
   ]
  },
  {
   "cell_type": "code",
   "execution_count": 42,
   "metadata": {},
   "outputs": [
    {
     "name": "stdout",
     "output_type": "stream",
     "text": [
      "Batch shape=(32, 256, 256, 3), min=0.000, max=1.000\n"
     ]
    }
   ],
   "source": [
    "# confirm the iterator works\n",
    "batchX, batchy = training_set.next()\n",
    "print('Batch shape=%s, min=%.3f, max=%.3f' % (batchX.shape, batchX.min(), batchX.max()))"
   ]
  },
  {
   "cell_type": "code",
   "execution_count": 43,
   "metadata": {},
   "outputs": [
    {
     "name": "stdout",
     "output_type": "stream",
     "text": [
      "Model: \"sequential_1\"\n",
      "_________________________________________________________________\n",
      "Layer (type)                 Output Shape              Param #   \n",
      "=================================================================\n",
      "conv2d_3 (Conv2D)            (None, 254, 254, 32)      896       \n",
      "_________________________________________________________________\n",
      "max_pooling2d_3 (MaxPooling2 (None, 127, 127, 32)      0         \n",
      "_________________________________________________________________\n",
      "conv2d_4 (Conv2D)            (None, 125, 125, 32)      9248      \n",
      "_________________________________________________________________\n",
      "max_pooling2d_4 (MaxPooling2 (None, 62, 62, 32)        0         \n",
      "_________________________________________________________________\n",
      "conv2d_5 (Conv2D)            (None, 60, 60, 64)        18496     \n",
      "_________________________________________________________________\n",
      "max_pooling2d_5 (MaxPooling2 (None, 30, 30, 64)        0         \n",
      "_________________________________________________________________\n",
      "flatten_1 (Flatten)          (None, 57600)             0         \n",
      "_________________________________________________________________\n",
      "dense_2 (Dense)              (None, 64)                3686464   \n",
      "_________________________________________________________________\n",
      "dropout (Dropout)            (None, 64)                0         \n",
      "_________________________________________________________________\n",
      "dense_3 (Dense)              (None, 4)                 260       \n",
      "=================================================================\n",
      "Total params: 3,715,364\n",
      "Trainable params: 3,715,364\n",
      "Non-trainable params: 0\n",
      "_________________________________________________________________\n"
     ]
    }
   ],
   "source": [
    "cnn.summary()"
   ]
  },
  {
   "cell_type": "code",
   "execution_count": 44,
   "metadata": {},
   "outputs": [],
   "source": [
    "cnn.save('model.h5')"
   ]
  },
  {
   "cell_type": "code",
   "execution_count": null,
   "metadata": {},
   "outputs": [],
   "source": []
  },
  {
   "cell_type": "code",
   "execution_count": null,
   "metadata": {},
   "outputs": [],
   "source": []
  }
 ],
 "metadata": {
  "colab": {
   "collapsed_sections": [],
   "name": "convolutional_neural_network.ipynb",
   "provenance": [],
   "toc_visible": true
  },
  "kernelspec": {
   "display_name": "Python 3",
   "language": "python",
   "name": "python3"
  },
  "language_info": {
   "codemirror_mode": {
    "name": "ipython",
    "version": 3
   },
   "file_extension": ".py",
   "mimetype": "text/x-python",
   "name": "python",
   "nbconvert_exporter": "python",
   "pygments_lexer": "ipython3",
   "version": "3.8.3"
  }
 },
 "nbformat": 4,
 "nbformat_minor": 1
}
